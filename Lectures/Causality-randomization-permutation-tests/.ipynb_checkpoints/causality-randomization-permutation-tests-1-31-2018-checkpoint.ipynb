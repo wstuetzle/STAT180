{
 "cells": [
  {
   "cell_type": "markdown",
   "metadata": {},
   "source": [
    "# <span style=\"color:red\"> Establishing causality: Randomization and permutation tests </span>"
   ]
  },
  {
   "cell_type": "code",
   "execution_count": 6,
   "metadata": {},
   "outputs": [],
   "source": [
    "# Import modules \n",
    "\n",
    "import numpy as np\n",
    "from datascience import *\n",
    "# from datascience_extensions import *\n",
    "import seaborn as sns\n",
    "sns.set_style(\"whitegrid\")\n",
    "%matplotlib inline"
   ]
  },
  {
   "cell_type": "markdown",
   "metadata": {},
   "source": [
    "A summary of the methods for Table is [here](http://data8.org/datascience/tables.html) <br>\n",
    "A tutorial for the datascience module is [here](http://data8.org/datascience/tutorial.html) <br>\n",
    "A cheatsheet for the datascience module is [here](https://github.com/wstuetzle/STAT180/blob/master/Computing/data8_sp17_midterm_ref_sheet.pdf)"
   ]
  },
  {
   "cell_type": "markdown",
   "metadata": {},
   "source": [
    "### <span style=\"color:blue\"> Cause and effect </span>\n",
    "[Data8, Spring 2017, Lec02](https://docs.google.com/presentation/d/1o_rJtBafaEZDKkWIPRV6QqnpkJgv06oOYpZHD7tNoQo/edit#slide=id.g1c15b99389_2_126)\n",
    "\n",
    "Computational and Inferential Thinking, [Chapter 2](https://www.inferentialthinking.com/chapters/02/causality-and-experiments.html)"
   ]
  },
  {
   "cell_type": "markdown",
   "metadata": {
    "collapsed": true
   },
   "source": [
    "### <span style=\"color:blue\"> The Salk vaccine field trial </span>"
   ]
  },
  {
   "cell_type": "markdown",
   "metadata": {},
   "source": [
    "### <span style=\"color:blue\"> A cloud seeing experiment </span>\n",
    "\n",
    "Google \"cloud seeding\n",
    "\n",
    "** Cloud seeding experiment **\n",
    "\n",
    "* Decide whether conditions for seeding are right\n",
    "* Then toss a coin to decide whether or not to seed\n",
    "\n",
    "Here are the data for an experiment with 52 clouds, 26 seeded and 26 unseeded"
   ]
  },
  {
   "cell_type": "code",
   "execution_count": 36,
   "metadata": {},
   "outputs": [
    {
     "data": {
      "text/html": [
       "<table border=\"1\" class=\"dataframe\">\n",
       "    <thead>\n",
       "        <tr>\n",
       "            <th>rainfall</th> <th>treatment</th>\n",
       "        </tr>\n",
       "    </thead>\n",
       "    <tbody>\n",
       "        <tr>\n",
       "            <td>4.9     </td> <td>unseeded </td>\n",
       "        </tr>\n",
       "    </tbody>\n",
       "        <tr>\n",
       "            <td>4.9     </td> <td>unseeded </td>\n",
       "        </tr>\n",
       "    </tbody>\n",
       "        <tr>\n",
       "            <td>2745.6  </td> <td>seeded   </td>\n",
       "        </tr>\n",
       "    </tbody>\n",
       "        <tr>\n",
       "            <td>1697.8  </td> <td>seeded   </td>\n",
       "        </tr>\n",
       "    </tbody>\n",
       "        <tr>\n",
       "            <td>1656    </td> <td>seeded   </td>\n",
       "        </tr>\n",
       "    </tbody>\n",
       "</table>\n",
       "<p>... (47 rows omitted)</p"
      ],
      "text/plain": [
       "<IPython.core.display.HTML object>"
      ]
     },
     "metadata": {},
     "output_type": "display_data"
    },
    {
     "data": {
      "text/plain": [
       "52"
      ]
     },
     "execution_count": 36,
     "metadata": {},
     "output_type": "execute_result"
    }
   ],
   "source": [
    "csd = Table.read_table(\"cloud-seeding-data.csv\")\n",
    "csd.show(5)\n",
    "csd.num_rows"
   ]
  },
  {
   "cell_type": "markdown",
   "metadata": {},
   "source": [
    "** Does seeding increase the amount of rainfall ? **"
   ]
  },
  {
   "cell_type": "markdown",
   "metadata": {},
   "source": [
    "seeded = csd.where(\"treatment\", are.equal_to(\"seeded\"))\n",
    "unseeded = csd.where(\"treatment\", are.equal_to(\"unseeded\"))"
   ]
  },
  {
   "cell_type": "code",
   "execution_count": 39,
   "metadata": {
    "scrolled": false
   },
   "outputs": [
    {
     "data": {
      "image/png": "[encoded data removed]",
      "text/plain": [
       "<matplotlib.figure.Figure at 0x11c739710>"
      ]
     },
     "metadata": {},
     "output_type": "display_data"
    }
   ],
   "source": [
    "seeded.hist(\"rainfall\", bins = np.arange(0, 3000, 200))"
   ]
  },
  {
   "cell_type": "code",
   "execution_count": 40,
   "metadata": {
    "scrolled": true
   },
   "outputs": [
    {
     "data": {
      "image/png": "[encoded data removed]",
      "text/plain": [
       "<matplotlib.figure.Figure at 0x11facd6a0>"
      ]
     },
     "metadata": {},
     "output_type": "display_data"
    }
   ],
   "source": [
    "unseeded.hist(\"rainfall\", bins = np.arange(0, 3000, 200))"
   ]
  },
  {
   "cell_type": "markdown",
   "metadata": {},
   "source": [
    "** Very long tailed distributions **\n",
    "\n",
    "Use median as a summary, because it is less influenced by outliers\n",
    "\n",
    "Alternatively, could look at log(rainfall)"
   ]
  },
  {
   "cell_type": "code",
   "execution_count": 32,
   "metadata": {},
   "outputs": [
    {
     "data": {
      "text/plain": [
       "221.59999999999999"
      ]
     },
     "execution_count": 32,
     "metadata": {},
     "output_type": "execute_result"
    }
   ],
   "source": [
    "np.median(seeded.column(\"rainfall\"))"
   ]
  },
  {
   "cell_type": "code",
   "execution_count": 33,
   "metadata": {},
   "outputs": [
    {
     "data": {
      "text/plain": [
       "44.200000000000003"
      ]
     },
     "execution_count": 33,
     "metadata": {},
     "output_type": "execute_result"
    }
   ],
   "source": [
    "np.median(unseeded.column(\"rainfall\"))"
   ]
  },
  {
   "cell_type": "markdown",
   "metadata": {},
   "source": [
    "<span style=\"color:red\"> ** It appears that seeding does increase rainfall ** </span> \n",
    "\n",
    "but\n",
    "\n",
    "<span style=\"color:red\"> ** Maybe we were just lucky and happend to pick those coulds for seeding that would have produced rain anyways ? ** </span>\n",
    "\n",
    "<span style=\"color:red\"> ** How can we find out ? **"
   ]
  },
  {
   "cell_type": "raw",
   "metadata": {},
   "source": []
  },
  {
   "cell_type": "markdown",
   "metadata": {},
   "source": [
    "### <span style=\"color:blue\"> Permutation test </span>\n",
    "\n",
    "* Suppose cloud seeing had no effect at all.\n",
    "\n",
    "* Then we would have observed exactly the same value of rainfall, whether or not a cloud has been seeded.\n",
    "\n",
    "Look at a toy example with 5 clouds, two of which have been seed"
   ]
  },
  {
   "cell_type": "code",
   "execution_count": 57,
   "metadata": {},
   "outputs": [
    {
     "data": {
      "text/html": [
       "<table border=\"1\" class=\"dataframe\">\n",
       "    <thead>\n",
       "        <tr>\n",
       "            <th>rainfall</th> <th>treatment</th>\n",
       "        </tr>\n",
       "    </thead>\n",
       "    <tbody>\n",
       "        <tr>\n",
       "            <td>100     </td> <td>unseeded </td>\n",
       "        </tr>\n",
       "    </tbody>\n",
       "        <tr>\n",
       "            <td>500     </td> <td>seeded   </td>\n",
       "        </tr>\n",
       "    </tbody>\n",
       "        <tr>\n",
       "            <td>200     </td> <td>unseeded </td>\n",
       "        </tr>\n",
       "    </tbody>\n",
       "        <tr>\n",
       "            <td>400     </td> <td>seeded   </td>\n",
       "        </tr>\n",
       "    </tbody>\n",
       "        <tr>\n",
       "            <td>300     </td> <td>unseeded </td>\n",
       "        </tr>\n",
       "    </tbody>\n",
       "</table>"
      ],
      "text/plain": [
       "rainfall | treatment\n",
       "100      | unseeded\n",
       "500      | seeded\n",
       "200      | unseeded\n",
       "400      | seeded\n",
       "300      | unseeded"
      ]
     },
     "execution_count": 57,
     "metadata": {},
     "output_type": "execute_result"
    }
   ],
   "source": [
    "toy = Table().with_columns(\"rainfall\", make_array(100, 500, 200, 400, 300), \n",
    "                           \"treatment\", make_array(\"unseeded\", \"seeded\", \"unseeded\", \"seeded\", \"unseeded\"))\n",
    "toy"
   ]
  },
  {
   "cell_type": "code",
   "execution_count": 64,
   "metadata": {},
   "outputs": [
    {
     "data": {
      "text/plain": [
       "250.0"
      ]
     },
     "execution_count": 64,
     "metadata": {},
     "output_type": "execute_result"
    }
   ],
   "source": [
    "med_seeded = np.median(toy.where(\"treatment\", are.equal_to(\"seeded\")).column(\"rainfall\")) \n",
    "med_unseeded = np.median(toy.where(\"treatment\", are.equal_to(\"unseeded\")).column(\"rainfall\"))\n",
    "med_seeded - med_unseeded"
   ]
  },
  {
   "cell_type": "code",
   "execution_count": null,
   "metadata": {
    "collapsed": true
   },
   "outputs": [],
   "source": [
    "# Here are 10 different assignments of the labels \"seeded\" and \"unseeded\" to\n",
    "# the five clouds and the difference between the median rainfalls for seeded and \n",
    "# unseeded clouds\n",
    "\n",
    "\n",
    "# 100  200  300  400  500   median(seeded) - median(unseeded)\n",
    "# S    S    U    U    U     150 - 400 = -250\n",
    "# S    U    S    U    U     200 - 400 = -200\n",
    "# S    U    U    S    U     250 - 300 = - 50\n",
    "# S    U    U    U    S     300 - 300 =    0\n",
    "# U    S    S    U    U     250 - 400 = -150\n",
    "# U    S    U    S    U     300 - 300 =    0\n",
    "# U    S    U    U    S     350 - 300 =   50\n",
    "# U    U    S    S    U     350 - 200 =  150\n",
    "# U    U    S    U    S     400 - 200 =  200\n",
    "# U    U    U    S    S     450 - 200 =  250   Actually observed assignment"
   ]
  },
  {
   "cell_type": "markdown",
   "metadata": {},
   "source": [
    "** Actually observed assignment give largest difference between median rainfalls **\n",
    "\n",
    "** To possible explanations: **\n",
    "\n",
    "* Our \"null hypotheses\" that cloud seeding has no effect is false\n",
    "* We were lucky in picking the clouds to be seeded\n",
    "\n",
    "The probability of choosing out of ten equally likely possible assignments of the labels \"seeded\" and \"unseeded\" the one leading to the largest difference is 1/10 or 10%.\n",
    "\n",
    "* The probability that we erroneously reject the null hypotheses is 0.1\n",
    "* We can reject the null hypotheses of \"no effect\" at the 10% level\n",
    "* The p-value of the test is 0.1\n",
    "\n",
    "\n"
   ]
  },
  {
   "cell_type": "markdown",
   "metadata": {},
   "source": [
    "### <span style=\"color:blue\"> Back to our \"real\" data </span>\n",
    "\n",
    "The number of ways of distributing 16 \"seeded\" labels over the 32 clouds is huge (32 * 31 * 30 * ... * 17). There is no way we an can compute the median(seeded) - median(unseeded) for all these arrangements.\n",
    "\n",
    "We have to randomly sample a large number of arrangements, compute median(seeded) - median(unseeded) for all of them\n",
    "and then see where the actually observed difference falls."
   ]
  },
  {
   "cell_type": "code",
   "execution_count": null,
   "metadata": {
    "collapsed": true
   },
   "outputs": [],
   "source": [
    "# Here is python code to get a random arrangement of 16 \"seeded\" labels and 16 \"unseeded\" labels"
   ]
  },
  {
   "cell_type": "code",
   "execution_count": 89,
   "metadata": {},
   "outputs": [
    {
     "data": {
      "text/plain": [
       "52"
      ]
     },
     "execution_count": 89,
     "metadata": {},
     "output_type": "execute_result"
    }
   ],
   "source": [
    "labels = csd.select(\"treatment\")\n",
    "\n",
    "shuffled_labels = labels.sample(k = labels.num_rows, with_replacement = False)\n",
    "shuffled_labels\n",
    "shuffled_labels.num_rows"
   ]
  },
  {
   "cell_type": "code",
   "execution_count": 105,
   "metadata": {},
   "outputs": [
    {
     "data": {
      "text/plain": [
       "88"
      ]
     },
     "execution_count": 105,
     "metadata": {},
     "output_type": "execute_result"
    },
    {
     "data": {
      "image/png": "[encoded data removed]",
      "text/plain": [
       "<matplotlib.figure.Figure at 0x12055ee48>"
      ]
     },
     "metadata": {},
     "output_type": "display_data"
    }
   ],
   "source": [
    "# Computer median(seeded) - median(unseeded) for a large number of arrangements\n",
    "\n",
    "num_assignments = 10000\n",
    "difference_of_medians = np.zeros(num_assignments)\n",
    "for i in range(num_assignments):\n",
    "    shuffled_labels = labels.sample(k = labels.num_rows, with_replacement = False).column(\"treatment\")\n",
    "    csd_shuffled = csd.with_column(\"treatment\", shuffled_labels)\n",
    "    med_seeded = np.median(csd_shuffled.where(\"treatment\", are.equal_to(\"seeded\")).column(\"rainfall\")) \n",
    "    med_unseeded = np.median(csd_shuffled.where(\"treatment\", are.equal_to(\"unseeded\")).column(\"rainfall\"))\n",
    "    difference_of_medians[i] = med_seeded - med_unseeded\n",
    "    \n",
    "dom_table = Table().with_column(\"difference_of_medians\", difference_of_medians)\n",
    "\n",
    "dom_table.hist(\"difference_of_medians\")\n",
    "\n",
    "# Calculate difference between medians for actually observed assignment of \"seeded\" and \"unseeded\"\n",
    "                                     \n",
    "med_seeded = np.median(csd.where(\"treatment\", are.equal_to(\"seeded\")).column(\"rainfall\")) \n",
    "med_unseeded = np.median(csd.where(\"treatment\", are.equal_to(\"unseeded\")).column(\"rainfall\"))\n",
    "actually_observed_difference = med_seeded - med_unseeded\n",
    "\n",
    "# Calculate how many of the random differences are larger that the the actually observed difference\n",
    "\n",
    "dom_table.where(\"difference_of_medians\", are.above(actually_observed_difference)).num_rows\n"
   ]
  },
  {
   "cell_type": "markdown",
   "metadata": {},
   "source": [
    "So: if cloud seeding had no effec, then the probability of observing a difference larger than the one we actually did observe, is 107 / 10,000, or 1.07%"
   ]
  },
  {
   "cell_type": "code",
   "execution_count": 42,
   "metadata": {},
   "outputs": [],
   "source": [
    "# Extremely long tailed distribution. Maybe look at log(rainfall)\n",
    "\n",
    "csd_2 = csd.with_column(\"log_rainfall\", np.log(csd.column(\"rainfall\")))"
   ]
  },
  {
   "cell_type": "code",
   "execution_count": 43,
   "metadata": {
    "collapsed": true
   },
   "outputs": [],
   "source": [
    "seeded_2 = csd_2.where(\"treatment\", are.equal_to(\"seeded\"))\n",
    "unseeded_2 = csd_2.where(\"treatment\", are.equal_to(\"unseeded\"))"
   ]
  },
  {
   "cell_type": "code",
   "execution_count": 44,
   "metadata": {},
   "outputs": [
    {
     "data": {
      "image/png": "[encoded data removed]",
      "text/plain": [
       "<matplotlib.figure.Figure at 0x11fc44940>"
      ]
     },
     "metadata": {},
     "output_type": "display_data"
    }
   ],
   "source": [
    "seeded_2.hist(\"log_rainfall\")"
   ]
  },
  {
   "cell_type": "code",
   "execution_count": 45,
   "metadata": {},
   "outputs": [
    {
     "data": {
      "image/png": "[encoded data removed]",
      "text/plain": [
       "<matplotlib.figure.Figure at 0x111484438>"
      ]
     },
     "metadata": {},
     "output_type": "display_data"
    }
   ],
   "source": [
    "unseeded_2.hist(\"log_rainfall\")"
   ]
  },
  {
   "cell_type": "code",
   "execution_count": null,
   "metadata": {
    "collapsed": true
   },
   "outputs": [],
   "source": []
  }
 ],
 "metadata": {
  "kernelspec": {
   "display_name": "Python 3",
   "language": "python",
   "name": "python3"
  },
  "language_info": {
   "codemirror_mode": {
    "name": "ipython",
    "version": 3
   },
   "file_extension": ".py",
   "mimetype": "text/x-python",
   "name": "python",
   "nbconvert_exporter": "python",
   "pygments_lexer": "ipython3",
   "version": "3.6.1"
  },
  "varInspector": {
   "cols": {
    "lenName": 16,
    "lenType": 16,
    "lenVar": 40
   },
   "kernels_config": {
    "python": {
     "delete_cmd_postfix": "",
     "delete_cmd_prefix": "del ",
     "library": "var_list.py",
     "varRefreshCmd": "print(var_dic_list())"
    },
    "r": {
     "delete_cmd_postfix": ") ",
     "delete_cmd_prefix": "rm(",
     "library": "var_list.r",
     "varRefreshCmd": "cat(var_dic_list()) "
    }
   },
   "types_to_exclude": [
    "module",
    "function",
    "builtin_function_or_method",
    "instance",
    "_Feature"
   ],
   "window_display": false
  }
 },
 "nbformat": 4,
 "nbformat_minor": 2
}
