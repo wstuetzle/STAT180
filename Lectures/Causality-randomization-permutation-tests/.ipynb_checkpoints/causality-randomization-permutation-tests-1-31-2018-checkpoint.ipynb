{
 "cells": [
  {
   "cell_type": "markdown",
   "metadata": {},
   "source": [
    "# <span style=\"color:red\"> Establishing causality: Randomization and permutation tests </span>"
   ]
  },
  {
   "cell_type": "code",
   "execution_count": 1,
   "metadata": {},
   "outputs": [],
   "source": [
    "# Import modules \n",
    "\n",
    "import numpy as np\n",
    "from datascience import *\n",
    "# from datascience_extensions import *\n",
    "import seaborn as sns\n",
    "sns.set_style(\"whitegrid\")\n",
    "%matplotlib inline"
   ]
  },
  {
   "cell_type": "markdown",
   "metadata": {},
   "source": [
    "A summary of the methods for Table is [here](http://data8.org/datascience/tables.html) <br>\n",
    "A tutorial for the datascience module is [here](http://data8.org/datascience/tutorial.html) <br>\n",
    "A cheatsheet for the datascience module is [here](https://github.com/wstuetzle/STAT180/blob/master/Computing/data8_sp17_midterm_ref_sheet.pdf)"
   ]
  },
  {
   "cell_type": "markdown",
   "metadata": {},
   "source": [
    "### <span style=\"color:blue\"> Cause and effect </span>\n",
    "[Data8, Spring 2017, Lec02](https://docs.google.com/presentation/d/1o_rJtBafaEZDKkWIPRV6QqnpkJgv06oOYpZHD7tNoQo/edit#slide=id.g1c15b99389_2_126)\n",
    "\n",
    "Computational and Inferential Thinking, [Chapter 2](https://www.inferentialthinking.com/chapters/02/causality-and-experiments.html)\n",
    "\n",
    "(For a better map, google John Snow Map Soho) or look [here](http://blog.rtwilson.com/john-snows-cholera-data-in-more-formats)"
   ]
  },
  {
   "cell_type": "markdown",
   "metadata": {
    "collapsed": true
   },
   "source": [
    "### <span style=\"color:blue\"> The Salk vaccine field trial </span>\n",
    "\n",
    "[Slides](https://github.com/wstuetzle/STAT180/raw/master/Lectures/Causality-randomization-permutation-tests/salk-vaccine-field-trial-slides.pdf)"
   ]
  },
  {
   "cell_type": "markdown",
   "metadata": {},
   "source": [
    "### <span style=\"color:blue\"> A cloud seeing experiment </span>\n",
    "\n",
    "Google \"cloud seeding\"\n",
    "\n",
    "** Cloud seeding experiment **\n",
    "\n",
    "* Decide whether conditions for seeding are right\n",
    "* Then toss a coin to decide whether or not to seed\n",
    "\n",
    "Here are the data for an experiment with 52 clouds, 26 seeded and 26 unseeded"
   ]
  },
  {
   "cell_type": "code",
   "execution_count": 2,
   "metadata": {},
   "outputs": [
    {
     "data": {
      "text/html": [
       "<table border=\"1\" class=\"dataframe\">\n",
       "    <thead>\n",
       "        <tr>\n",
       "            <th>rainfall</th> <th>treatment</th>\n",
       "        </tr>\n",
       "    </thead>\n",
       "    <tbody>\n",
       "        <tr>\n",
       "            <td>4.9     </td> <td>unseeded </td>\n",
       "        </tr>\n",
       "    </tbody>\n",
       "        <tr>\n",
       "            <td>4.9     </td> <td>unseeded </td>\n",
       "        </tr>\n",
       "    </tbody>\n",
       "        <tr>\n",
       "            <td>2745.6  </td> <td>seeded   </td>\n",
       "        </tr>\n",
       "    </tbody>\n",
       "        <tr>\n",
       "            <td>1697.8  </td> <td>seeded   </td>\n",
       "        </tr>\n",
       "    </tbody>\n",
       "        <tr>\n",
       "            <td>1656    </td> <td>seeded   </td>\n",
       "        </tr>\n",
       "    </tbody>\n",
       "</table>\n",
       "<p>... (47 rows omitted)</p"
      ],
      "text/plain": [
       "<IPython.core.display.HTML object>"
      ]
     },
     "metadata": {},
     "output_type": "display_data"
    },
    {
     "data": {
      "text/plain": [
       "52"
      ]
     },
     "execution_count": 2,
     "metadata": {},
     "output_type": "execute_result"
    }
   ],
   "source": [
    "csd = Table.read_table(\"cloud-seeding-data.csv\")\n",
    "csd.show(5)\n",
    "csd.num_rows"
   ]
  },
  {
   "cell_type": "markdown",
   "metadata": {},
   "source": [
    "** Does seeding increase the amount of rainfall ? **"
   ]
  },
  {
   "cell_type": "code",
   "execution_count": 3,
   "metadata": {
    "collapsed": true
   },
   "outputs": [],
   "source": [
    "seeded = csd.where(\"treatment\", are.equal_to(\"seeded\"))\n",
    "unseeded = csd.where(\"treatment\", are.equal_to(\"unseeded\"))"
   ]
  },
  {
   "cell_type": "code",
   "execution_count": 4,
   "metadata": {
    "scrolled": false
   },
   "outputs": [
    {
     "data": {
      "image/png": "[encoded data removed]",
      "text/plain": [
       "<matplotlib.figure.Figure at 0x110b7b390>"
      ]
     },
     "metadata": {},
     "output_type": "display_data"
    }
   ],
   "source": [
    "seeded.hist(\"rainfall\", bins = np.arange(0, 3000, 200))"
   ]
  },
  {
   "cell_type": "code",
   "execution_count": 5,
   "metadata": {
    "scrolled": true
   },
   "outputs": [
    {
     "data": {
      "image/png": "[encoded data removed]",
      "text/plain": [
       "<matplotlib.figure.Figure at 0x110790240>"
      ]
     },
     "metadata": {},
     "output_type": "display_data"
    }
   ],
   "source": [
    "unseeded.hist(\"rainfall\", bins = np.arange(0, 3000, 200))"
   ]
  },
  {
   "cell_type": "markdown",
   "metadata": {},
   "source": [
    "** Very long tailed distributions **\n",
    "\n",
    "Use median as a summary, because it is less influenced by outliers\n",
    "\n",
    "Alternatively, could look at log(rainfall)"
   ]
  },
  {
   "cell_type": "code",
   "execution_count": 6,
   "metadata": {},
   "outputs": [
    {
     "data": {
      "text/plain": [
       "221.59999999999999"
      ]
     },
     "execution_count": 6,
     "metadata": {},
     "output_type": "execute_result"
    }
   ],
   "source": [
    "np.median(seeded.column(\"rainfall\"))"
   ]
  },
  {
   "cell_type": "code",
   "execution_count": 7,
   "metadata": {},
   "outputs": [
    {
     "data": {
      "text/plain": [
       "44.200000000000003"
      ]
     },
     "execution_count": 7,
     "metadata": {},
     "output_type": "execute_result"
    }
   ],
   "source": [
    "np.median(unseeded.column(\"rainfall\"))"
   ]
  },
  {
   "cell_type": "markdown",
   "metadata": {},
   "source": [
    "<span style=\"color:red\"> ** It appears that seeding does increase rainfall ** </span> \n",
    "\n",
    "but\n",
    "\n",
    "<span style=\"color:red\"> ** Maybe we were just lucky and happend to pick those coulds for seeding that would have produced rain anyways ? ** </span>\n",
    "\n",
    "<span style=\"color:red\"> ** How can we find out ? **"
   ]
  },
  {
   "cell_type": "raw",
   "metadata": {},
   "source": []
  },
  {
   "cell_type": "markdown",
   "metadata": {},
   "source": [
    "### <span style=\"color:blue\"> Permutation test </span>\n",
    "\n",
    "* Suppose cloud seeing had no effect at all.\n",
    "\n",
    "* Then we would have observed exactly the same value of rainfall, whether or not a cloud has been seeded.\n",
    "\n",
    "Look at a toy example with 5 clouds, two of which have been seed"
   ]
  },
  {
   "cell_type": "code",
   "execution_count": 8,
   "metadata": {},
   "outputs": [
    {
     "data": {
      "text/html": [
       "<table border=\"1\" class=\"dataframe\">\n",
       "    <thead>\n",
       "        <tr>\n",
       "            <th>rainfall</th> <th>treatment</th>\n",
       "        </tr>\n",
       "    </thead>\n",
       "    <tbody>\n",
       "        <tr>\n",
       "            <td>100     </td> <td>unseeded </td>\n",
       "        </tr>\n",
       "    </tbody>\n",
       "        <tr>\n",
       "            <td>500     </td> <td>seeded   </td>\n",
       "        </tr>\n",
       "    </tbody>\n",
       "        <tr>\n",
       "            <td>200     </td> <td>unseeded </td>\n",
       "        </tr>\n",
       "    </tbody>\n",
       "        <tr>\n",
       "            <td>400     </td> <td>seeded   </td>\n",
       "        </tr>\n",
       "    </tbody>\n",
       "        <tr>\n",
       "            <td>300     </td> <td>unseeded </td>\n",
       "        </tr>\n",
       "    </tbody>\n",
       "</table>"
      ],
      "text/plain": [
       "rainfall | treatment\n",
       "100      | unseeded\n",
       "500      | seeded\n",
       "200      | unseeded\n",
       "400      | seeded\n",
       "300      | unseeded"
      ]
     },
     "execution_count": 8,
     "metadata": {},
     "output_type": "execute_result"
    }
   ],
   "source": [
    "toy = Table().with_columns(\"rainfall\", make_array(100, 500, 200, 400, 300), \n",
    "                           \"treatment\", make_array(\"unseeded\", \"seeded\", \"unseeded\", \"seeded\", \"unseeded\"))\n",
    "toy"
   ]
  },
  {
   "cell_type": "code",
   "execution_count": 9,
   "metadata": {},
   "outputs": [
    {
     "data": {
      "text/plain": [
       "250.0"
      ]
     },
     "execution_count": 9,
     "metadata": {},
     "output_type": "execute_result"
    }
   ],
   "source": [
    "med_seeded = np.median(toy.where(\"treatment\", are.equal_to(\"seeded\")).column(\"rainfall\")) \n",
    "med_unseeded = np.median(toy.where(\"treatment\", are.equal_to(\"unseeded\")).column(\"rainfall\"))\n",
    "med_seeded - med_unseeded"
   ]
  },
  {
   "cell_type": "code",
   "execution_count": 10,
   "metadata": {
    "collapsed": true
   },
   "outputs": [],
   "source": [
    "# Here are the 10 different assignments of the labels \"seeded\" and \"unseeded\" to\n",
    "# the five clouds and the difference between the median rainfalls for seeded and \n",
    "# unseeded clouds\n",
    "\n",
    "\n",
    "# 100  200  300  400  500   median(seeded) - median(unseeded)\n",
    "# S    S    U    U    U     150 - 400 = -250\n",
    "# S    U    S    U    U     200 - 400 = -200\n",
    "# S    U    U    S    U     250 - 300 = - 50\n",
    "# S    U    U    U    S     300 - 300 =    0\n",
    "# U    S    S    U    U     250 - 400 = -150\n",
    "# U    S    U    S    U     300 - 300 =    0\n",
    "# U    S    U    U    S     350 - 300 =   50\n",
    "# U    U    S    S    U     350 - 200 =  150\n",
    "# U    U    S    U    S     400 - 200 =  200\n",
    "# U    U    U    S    S     450 - 200 =  250   Actually observed assignment"
   ]
  },
  {
   "cell_type": "markdown",
   "metadata": {},
   "source": [
    "** The actually observed assignment give largest difference between median rainfalls **\n",
    "\n",
    "** To possible explanations: **\n",
    "\n",
    "* Our \"null hypotheses\" that cloud seeding has no effect is false\n",
    "* We were lucky in picking the clouds to be seeded\n",
    "\n",
    "The probability of choosing out of ten equally likely possible assignments of the labels \"seeded\" and \"unseeded\" the one leading to the largest difference is 1/10 or 10%.\n",
    "\n",
    "* The probability that we erroneously reject the null hypotheses is 0.1\n",
    "* We can reject the null hypotheses of \"no effect\" at the 10% level\n",
    "* The p-value of the test is 0.1\n",
    "\n",
    "\n"
   ]
  },
  {
   "cell_type": "markdown",
   "metadata": {},
   "source": [
    "### <span style=\"color:blue\"> Back to our \"real\" data </span>\n",
    "\n",
    "The number of ways of assign 26 \"seeded\" and 26 \"unseeded\" labels over the 52 clouds is huge (52 chose 26). There is no way we an can compute the median(seeded) - median(unseeded) for all these assignments.\n",
    "\n",
    "We have to randomly sample a large number of assignments, compute median(seeded) - median(unseeded) for the assignments in the sample, and then see where the actually observed difference falls."
   ]
  },
  {
   "cell_type": "code",
   "execution_count": 11,
   "metadata": {},
   "outputs": [
    {
     "data": {
      "text/plain": [
       "52"
      ]
     },
     "execution_count": 11,
     "metadata": {},
     "output_type": "execute_result"
    }
   ],
   "source": [
    "# Shuffle the labels\n",
    "\n",
    "labels = csd.select(\"treatment\")\n",
    "\n",
    "shuffled_labels = labels.sample(k = labels.num_rows, with_replacement = False)\n",
    "shuffled_labels\n",
    "shuffled_labels.num_rows"
   ]
  },
  {
   "cell_type": "code",
   "execution_count": 12,
   "metadata": {},
   "outputs": [
    {
     "data": {
      "text/plain": [
       "81"
      ]
     },
     "execution_count": 12,
     "metadata": {},
     "output_type": "execute_result"
    },
    {
     "data": {
      "image/png": "[encoded data removed]",
      "text/plain": [
       "<matplotlib.figure.Figure at 0x110fb8cc0>"
      ]
     },
     "metadata": {},
     "output_type": "display_data"
    }
   ],
   "source": [
    "# Computer median(seeded) - median(unseeded) for a large number of shuffels\n",
    "\n",
    "num_assignments = 10000\n",
    "difference_of_medians = np.zeros(num_assignments)\n",
    "for i in range(num_assignments):\n",
    "    shuffled_labels = labels.sample(k = labels.num_rows, with_replacement = False).column(\"treatment\")\n",
    "    csd_shuffled = csd.with_column(\"treatment\", shuffled_labels)\n",
    "    med_seeded = np.median(csd_shuffled.where(\"treatment\", are.equal_to(\"seeded\")).column(\"rainfall\")) \n",
    "    med_unseeded = np.median(csd_shuffled.where(\"treatment\", are.equal_to(\"unseeded\")).column(\"rainfall\"))\n",
    "    difference_of_medians[i] = med_seeded - med_unseeded\n",
    "    \n",
    "dom_table = Table().with_column(\"difference_of_medians\", difference_of_medians)\n",
    "\n",
    "dom_table.hist(\"difference_of_medians\")\n",
    "\n",
    "# Calculate difference between medians for actually observed assignment of \"seeded\" and \"unseeded\"\n",
    "                                     \n",
    "med_seeded = np.median(csd.where(\"treatment\", are.equal_to(\"seeded\")).column(\"rainfall\")) \n",
    "med_unseeded = np.median(csd.where(\"treatment\", are.equal_to(\"unseeded\")).column(\"rainfall\"))\n",
    "actually_observed_difference = med_seeded - med_unseeded\n",
    "\n",
    "# Calculate how many of the random differences are larger that the the actually observed difference\n",
    "\n",
    "dom_table.where(\"difference_of_medians\", are.above(actually_observed_difference)).num_rows\n"
   ]
  },
  {
   "cell_type": "markdown",
   "metadata": {},
   "source": [
    "actually_observed_difference"
   ]
  },
  {
   "cell_type": "code",
   "execution_count": 13,
   "metadata": {},
   "outputs": [
    {
     "data": {
      "text/plain": [
       "177.39999999999998"
      ]
     },
     "execution_count": 13,
     "metadata": {},
     "output_type": "execute_result"
    }
   ],
   "source": [
    "actually_observed_difference"
   ]
  },
  {
   "cell_type": "markdown",
   "metadata": {},
   "source": [
    "So: if cloud seeding had no effect, then the probability of observing a difference larger than the one we actually did observe is 86 / 10,000, or 0.86%\n",
    "\n",
    "We can reject the null hypotheses \"cloud seeding has no effect\" at the 0.86% level.\n",
    "\n",
    "The p-value of the test is 0.0086\n",
    "\n",
    "** Note: ** When you re-run the test, the p-value may come out slightly differenty, because we sampled the assigments. We will later analyze how large this variability is."
   ]
  },
  {
   "cell_type": "markdown",
   "metadata": {},
   "source": [
    "### <span style=\"color:blue\"> Is the gender discriminations in promotion decisions? A Psychology experiment </span>\n",
    "\n",
    "(ISWR, Ch. 2.1.1)\n",
    "\n",
    "The participants in this study were 48 male bank supervisors attending a management institute at the University of North Carolina in 1972. They were asked to assume the role of the personnel director of a bank and were given a personnel file to judge whether the person should be promoted to a branch manager position. The files given to the participants were identical, except that half of them indicated the candidate was male and the other half indicated the candidate was female. These files were randomly assigned to the subjects.\n",
    "\n",
    "** Here is the pivot table of the outcome **"
   ]
  },
  {
   "cell_type": "code",
   "execution_count": 14,
   "metadata": {},
   "outputs": [
    {
     "data": {
      "text/html": [
       "<table border=\"1\" class=\"dataframe\">\n",
       "    <thead>\n",
       "        <tr>\n",
       "            <th>gender</th> <th>promoted</th> <th>not promoted</th>\n",
       "        </tr>\n",
       "    </thead>\n",
       "    <tbody>\n",
       "        <tr>\n",
       "            <td>male  </td> <td>21      </td> <td>3           </td>\n",
       "        </tr>\n",
       "    </tbody>\n",
       "        <tr>\n",
       "            <td>female</td> <td>14      </td> <td>10          </td>\n",
       "        </tr>\n",
       "    </tbody>\n",
       "</table>"
      ],
      "text/plain": [
       "gender | promoted | not promoted\n",
       "male   | 21       | 3\n",
       "female | 14       | 10"
      ]
     },
     "execution_count": 14,
     "metadata": {},
     "output_type": "execute_result"
    }
   ],
   "source": [
    "Table().with_columns(\"gender\", [\"male\", \"female\"], \"promoted\", [21, 14], \"not promoted\", [3, 10])"
   ]
  },
  {
   "cell_type": "code",
   "execution_count": 15,
   "metadata": {},
   "outputs": [
    {
     "data": {
      "text/plain": [
       "0.29166666666666663"
      ]
     },
     "execution_count": 15,
     "metadata": {},
     "output_type": "execute_result"
    }
   ],
   "source": [
    "# Compute difference in promotion rate\n",
    "\n",
    "delta = 21 / 24 - 14 / 24\n",
    "delta"
   ]
  },
  {
   "cell_type": "markdown",
   "metadata": {},
   "source": [
    "Suppose the gender on the personnel file had no influence on the decision - the 13 supervisors who voted against would have done so independent of the gender, and the 35 who voted in favor would also have done so independent of the gender.\n",
    "\n",
    "Let's label the 13 supervisors who were against promotion the \"no\"s and the remaining 35 the \"yes\"s. We randomly assigned the files to the supervisors. The \"no\"s got three \"male\" files and 10 \"female\" files and the \"yes\"s got 21 \"male\" files and 14 \"female\" files, resulting in a 29% difference between male and female promotion rates.\n",
    "\n",
    "Question: How likely are we to see a difference as large or larger than 29% if we assign the files randomly to the supervisors?"
   ]
  },
  {
   "cell_type": "code",
   "execution_count": 16,
   "metadata": {},
   "outputs": [
    {
     "data": {
      "text/html": [
       "<table border=\"1\" class=\"dataframe\">\n",
       "    <thead>\n",
       "        <tr>\n",
       "            <th>decision</th> <th>gender</th>\n",
       "        </tr>\n",
       "    </thead>\n",
       "    <tbody>\n",
       "        <tr>\n",
       "            <td>yes     </td> <td>male  </td>\n",
       "        </tr>\n",
       "    </tbody>\n",
       "        <tr>\n",
       "            <td>yes     </td> <td>male  </td>\n",
       "        </tr>\n",
       "    </tbody>\n",
       "        <tr>\n",
       "            <td>yes     </td> <td>male  </td>\n",
       "        </tr>\n",
       "    </tbody>\n",
       "        <tr>\n",
       "            <td>yes     </td> <td>male  </td>\n",
       "        </tr>\n",
       "    </tbody>\n",
       "        <tr>\n",
       "            <td>yes     </td> <td>male  </td>\n",
       "        </tr>\n",
       "    </tbody>\n",
       "</table>\n",
       "<p>... (43 rows omitted)</p"
      ],
      "text/plain": [
       "<IPython.core.display.HTML object>"
      ]
     },
     "metadata": {},
     "output_type": "display_data"
    }
   ],
   "source": [
    "decision = np.append(np.full(35,\"yes\"), np.full(13, \"no\"))\n",
    "yes_gender = np.append(np.full(21, \"male\"), np.full(14, \"female\")) \n",
    "no_gender = np.append(np.full(3, \"male\"), np.full(10, \"female\"))\n",
    "gender = np.append(yes_gender, no_gender)\n",
    "\n",
    "promotions = Table().with_columns(\"decision\", decision, \"gender\", gender)\n",
    "promotions.show(5)"
   ]
  },
  {
   "cell_type": "code",
   "execution_count": 17,
   "metadata": {},
   "outputs": [
    {
     "data": {
      "text/html": [
       "<table border=\"1\" class=\"dataframe\">\n",
       "    <thead>\n",
       "        <tr>\n",
       "            <th>gender</th> <th>no</th> <th>yes</th>\n",
       "        </tr>\n",
       "    </thead>\n",
       "    <tbody>\n",
       "        <tr>\n",
       "            <td>female</td> <td>10  </td> <td>14  </td>\n",
       "        </tr>\n",
       "    </tbody>\n",
       "        <tr>\n",
       "            <td>male  </td> <td>3   </td> <td>21  </td>\n",
       "        </tr>\n",
       "    </tbody>\n",
       "</table>"
      ],
      "text/plain": [
       "gender | no   | yes\n",
       "female | 10   | 14\n",
       "male   | 3    | 21"
      ]
     },
     "execution_count": 17,
     "metadata": {},
     "output_type": "execute_result"
    }
   ],
   "source": [
    "promotions.pivot(\"decision\", \"gender\")"
   ]
  },
  {
   "cell_type": "code",
   "execution_count": 23,
   "metadata": {
    "collapsed": true
   },
   "outputs": [],
   "source": [
    "def proportions(pivot_tab):\n",
    "    '''\n",
    "    Convert rows of a pivot table to relative freuencies\n",
    "    '''\n",
    "    nrow = pivot_tab.num_rows\n",
    "    ncol = pivot_tab.num_columns\n",
    "    labels = pivot_tab.labels\n",
    "    row_sum = np.zeros(nrow)\n",
    "    for i in range(1, ncol):\n",
    "        row_sum = row_sum + pivot_tab.column(i)\n",
    "    for i in range(1, ncol):\n",
    "        pivot_tab = pivot_tab.with_column(labels[i], pivot_tab.column(i) / row_sum)\n",
    "    return(pivot_tab)\n",
    " "
   ]
  },
  {
   "cell_type": "code",
   "execution_count": 24,
   "metadata": {},
   "outputs": [
    {
     "data": {
      "text/html": [
       "<table border=\"1\" class=\"dataframe\">\n",
       "    <thead>\n",
       "        <tr>\n",
       "            <th>gender</th> <th>no</th> <th>yes</th>\n",
       "        </tr>\n",
       "    </thead>\n",
       "    <tbody>\n",
       "        <tr>\n",
       "            <td>female</td> <td>0.416667</td> <td>0.583333</td>\n",
       "        </tr>\n",
       "    </tbody>\n",
       "        <tr>\n",
       "            <td>male  </td> <td>0.125   </td> <td>0.875   </td>\n",
       "        </tr>\n",
       "    </tbody>\n",
       "</table>"
      ],
      "text/plain": [
       "gender | no       | yes\n",
       "female | 0.416667 | 0.583333\n",
       "male   | 0.125    | 0.875"
      ]
     },
     "execution_count": 24,
     "metadata": {},
     "output_type": "execute_result"
    }
   ],
   "source": [
    "tab_prop = proportions(promotions.pivot(\"decision\", \"gender\"))\n",
    "tab_prop"
   ]
  },
  {
   "cell_type": "code",
   "execution_count": 26,
   "metadata": {
    "collapsed": true
   },
   "outputs": [],
   "source": [
    "def promotion_rate_difference(tab):\n",
    "    pivot_tab = proportions(tab.pivot(\"decision\", \"gender\"))\n",
    "    yes = pivot_tab.column(\"yes\")\n",
    "    diff = yes[1] - yes[0]\n",
    "    return(diff)\n",
    "        "
   ]
  },
  {
   "cell_type": "code",
   "execution_count": 27,
   "metadata": {},
   "outputs": [
    {
     "data": {
      "text/plain": [
       "0.29166666666666663"
      ]
     },
     "execution_count": 27,
     "metadata": {},
     "output_type": "execute_result"
    }
   ],
   "source": [
    "observed_difference = promotion_rate_difference(promotions)\n",
    "observed_difference"
   ]
  },
  {
   "cell_type": "code",
   "execution_count": 28,
   "metadata": {},
   "outputs": [
    {
     "name": "stdout",
     "output_type": "stream",
     "text": [
      "0  100  200  300  400  500  600  700  800  900  1000  1100  1200  1300  1400  1500  1600  1700  1800  1900  2000  2100  2200  2300  2400  2500  2600  2700  2800  2900  3000  3100  3200  3300  3400  3500  3600  3700  3800  3900  4000  4100  4200  4300  4400  4500  4600  4700  4800  4900  5000  5100  5200  5300  5400  5500  5600  5700  5800  5900  6000  6100  6200  6300  6400  6500  6600  6700  6800  6900  7000  7100  7200  7300  7400  7500  7600  7700  7800  7900  8000  8100  8200  8300  8400  8500  8600  8700  8800  8900  9000  9100  9200  9300  9400  9500  9600  9700  9800  9900  "
     ]
    }
   ],
   "source": [
    "# Now shuffle the assigment of files to supervisers\n",
    "\n",
    "num_assignments = 10000\n",
    "diff = np.zeros(num_assignments)\n",
    "gender = promotions.select(\"gender\")\n",
    "for i in range(num_assignments):\n",
    "    shuffled_gender = gender.sample(k = gender.num_rows, with_replacement = False).\\\n",
    "    column(\"gender\")\n",
    "    promotions_shuffled = promotions.with_column(\"gender\", shuffled_gender)\n",
    "    diff[i] = promotion_rate_difference(promotions_shuffled)\n",
    "    if i % 100 == 0:\n",
    "        print(i, \" \", end = \"\")\n"
   ]
  },
  {
   "cell_type": "code",
   "execution_count": 30,
   "metadata": {},
   "outputs": [
    {
     "data": {
      "text/plain": [
       "0.31"
      ]
     },
     "execution_count": 30,
     "metadata": {},
     "output_type": "execute_result"
    },
    {
     "data": {
      "image/png": "[encoded data removed]",
      "text/plain": [
       "<matplotlib.figure.Figure at 0x114333cf8>"
      ]
     },
     "metadata": {},
     "output_type": "display_data"
    }
   ],
   "source": [
    "diff_table = Table().with_column(\"diff\", diff)\n",
    "diff_table.hist(\"diff\", bins = np.arange(-0.5, 0.5, 0.02))\n",
    "\n",
    "# Calculate the percentage of random differences that are larger \n",
    "# that the the actually observed difference\n",
    "\n",
    "significance_level = diff_table.where(\"diff\", are.equal_or_above(observed_difference)).num_rows / num_assignments\n",
    "100 * significance_level"
   ]
  },
  {
   "cell_type": "markdown",
   "metadata": {},
   "source": [
    "** Conclusion ** If there was no sex discrimination, the chance of seeing a difference in promotion rates as large or largen than the observed value of 0.29 is ony about 1 in 300. There is strong evidence for sex discrimination."
   ]
  },
  {
   "cell_type": "markdown",
   "metadata": {},
   "source": [
    "** Note: ** \n",
    "\n",
    "* There is closed form expression for the significance level as a function of the counts (\"Fisher's exact test\"). However the expression involves binomial coefficients that may be hard to compute for large data sets.\n",
    "\n",
    "* There is also an approximation for large data sets that can be calculated without using simulations"
   ]
  }
 ],
 "metadata": {
  "kernelspec": {
   "display_name": "Python 3",
   "language": "python",
   "name": "python3"
  },
  "language_info": {
   "codemirror_mode": {
    "name": "ipython",
    "version": 3
   },
   "file_extension": ".py",
   "mimetype": "text/x-python",
   "name": "python",
   "nbconvert_exporter": "python",
   "pygments_lexer": "ipython3",
   "version": "3.6.1"
  },
  "varInspector": {
   "cols": {
    "lenName": 16,
    "lenType": 16,
    "lenVar": 40
   },
   "kernels_config": {
    "python": {
     "delete_cmd_postfix": "",
     "delete_cmd_prefix": "del ",
     "library": "var_list.py",
     "varRefreshCmd": "print(var_dic_list())"
    },
    "r": {
     "delete_cmd_postfix": ") ",
     "delete_cmd_prefix": "rm(",
     "library": "var_list.r",
     "varRefreshCmd": "cat(var_dic_list()) "
    }
   },
   "types_to_exclude": [
    "module",
    "function",
    "builtin_function_or_method",
    "instance",
    "_Feature"
   ],
   "window_display": false
  }
 },
 "nbformat": 4,
 "nbformat_minor": 2
}
