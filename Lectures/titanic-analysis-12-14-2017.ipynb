{
 "cells": [
  {
   "cell_type": "markdown",
   "metadata": {},
   "source": [
    "## <font color=red> Who survived when the Titanic sank? An example for exploratory data analysis</font>\n",
    "\n",
    "More info on the sinking of the Titanic in [Encyclopedia Titanica](http://www.encyclopedia-titanica.org) or Wikipedia"
   ]
  },
  {
   "cell_type": "code",
   "execution_count": 1,
   "metadata": {
    "collapsed": true
   },
   "outputs": [],
   "source": [
    "# Import code libraries or \"modules\" in Python lingo\n",
    "\n",
    "import numpy as np\n",
    "import pandas as pd\n",
    "import matplotlib.pyplot as plt\n",
    "import seaborn as sns\n",
    "import importlib\n",
    "import sys\n",
    "# from IPython.core.debugger import Tracer\n",
    "from datascience import *\n",
    "sns.set_style(\"whitegrid\")\n",
    "%matplotlib inline"
   ]
  },
  {
   "cell_type": "code",
   "execution_count": 2,
   "metadata": {
    "collapsed": true
   },
   "outputs": [],
   "source": [
    "# Import some new methods for class Table\n",
    "# Add IDS directory to search path\n",
    "course_dir = \"/Users/wxs/Dropbox/IDS/Git-reps/STAT180/\"\n",
    "computing_dir = course_dir + \"Computing\"\n",
    "\n",
    "if computing_dir not in sys.path:\n",
    "    sys.path.append(computing_dir)\n",
    "\n",
    "from datascience_extensions import *"
   ]
  },
  {
   "cell_type": "code",
   "execution_count": 3,
   "metadata": {},
   "outputs": [
    {
     "data": {
      "text/plain": [
       "<module 'datascience_extensions' from '/Users/wxs/Dropbox/IDS/Git-reps/STAT180/Lectures/datascience_extensions.py'>"
      ]
     },
     "execution_count": 3,
     "metadata": {},
     "output_type": "execute_result"
    }
   ],
   "source": [
    "# Reload the extensions after we make a change\n",
    "# Importing it again does not work - a module is imported only once\n",
    "module_name = \"datascience_extensions\"\n",
    "importlib.reload(sys.modules[module_name])"
   ]
  },
  {
   "cell_type": "code",
   "execution_count": 4,
   "metadata": {
    "collapsed": true
   },
   "outputs": [],
   "source": [
    "# Read the data into a table titanic and display the first 3 rows\n",
    "# data_dir = course_dir + \"Data/\"\n",
    "# titanic_filename = \"titanic3.csv\"\n",
    "# titanic_pathname = data_dir + titanic_filename\n",
    "# titanic = Table.read_table(titanic_pathname)\n",
    "# titanic.take([0, 1, 2])"
   ]
  },
  {
   "cell_type": "code",
   "execution_count": 5,
   "metadata": {},
   "outputs": [
    {
     "data": {
      "text/html": [
       "<table border=\"1\" class=\"dataframe\">\n",
       "    <thead>\n",
       "        <tr>\n",
       "            <th>pclass</th> <th>survived</th> <th>name</th> <th>sex</th> <th>age</th> <th>sibsp</th> <th>parch</th> <th>ticket</th> <th>fare</th> <th>cabin</th> <th>embarked</th> <th>boat</th> <th>body</th> <th>home.dest</th>\n",
       "        </tr>\n",
       "    </thead>\n",
       "    <tbody>\n",
       "        <tr>\n",
       "            <td>1     </td> <td>1       </td> <td>Allen, Miss. Elisabeth Walton </td> <td>female</td> <td>29    </td> <td>0    </td> <td>0    </td> <td>24160 </td> <td>211.338</td> <td>B5     </td> <td>S       </td> <td>2   </td> <td>nan </td> <td>St Louis, MO                   </td>\n",
       "        </tr>\n",
       "    </tbody>\n",
       "        <tr>\n",
       "            <td>1     </td> <td>1       </td> <td>Allison, Master. Hudson Trevor</td> <td>male  </td> <td>0.9167</td> <td>1    </td> <td>2    </td> <td>113781</td> <td>151.55 </td> <td>C22 C26</td> <td>S       </td> <td>11  </td> <td>nan </td> <td>Montreal, PQ / Chesterville, ON</td>\n",
       "        </tr>\n",
       "    </tbody>\n",
       "        <tr>\n",
       "            <td>1     </td> <td>0       </td> <td>Allison, Miss. Helen Loraine  </td> <td>female</td> <td>2     </td> <td>1    </td> <td>2    </td> <td>113781</td> <td>151.55 </td> <td>C22 C26</td> <td>S       </td> <td>nan </td> <td>nan </td> <td>Montreal, PQ / Chesterville, ON</td>\n",
       "        </tr>\n",
       "    </tbody>\n",
       "</table>\n",
       "<p>... (1307 rows omitted)</p"
      ],
      "text/plain": [
       "<IPython.core.display.HTML object>"
      ]
     },
     "metadata": {},
     "output_type": "display_data"
    }
   ],
   "source": [
    "titanic = Table.read_table(\"https://github.com/wstuetzle/STAT180/raw/master/Data/titanic3.csv\")\n",
    "titanic.show(3)"
   ]
  },
  {
   "cell_type": "markdown",
   "metadata": {},
   "source": [
    "#### Rows of the table correspond to passengers. Columns correspond to properties (or \"features\") of passengers:\n",
    "\n",
    "\n",
    "#### We often refer to the rows as \"cases\" and to the columns as \"variables\"\n",
    "#### Some entries in the table are \"nan\", indicating that the value is missing"
   ]
  },
  {
   "cell_type": "code",
   "execution_count": 6,
   "metadata": {},
   "outputs": [
    {
     "data": {
      "text/plain": [
       "[1310, 14]"
      ]
     },
     "execution_count": 6,
     "metadata": {},
     "output_type": "execute_result"
    }
   ],
   "source": [
    "# Let's see how big the table is\n",
    "titanic.shape()"
   ]
  },
  {
   "cell_type": "code",
   "execution_count": 7,
   "metadata": {},
   "outputs": [
    {
     "data": {
      "text/html": [
       "<table border=\"1\" class=\"dataframe\">\n",
       "    <thead>\n",
       "        <tr>\n",
       "            <th>pclass</th> <th>survived</th> <th>name</th> <th>sex</th> <th>age</th> <th>sibsp</th> <th>parch</th> <th>ticket</th> <th>fare</th> <th>cabin</th> <th>embarked</th> <th>boat</th> <th>body</th> <th>home.dest</th>\n",
       "        </tr>\n",
       "    </thead>\n",
       "    <tbody>\n",
       "        <tr>\n",
       "            <td>1     </td> <td>1       </td> <td>Allen, Miss. Elisabeth Walton</td> <td>female</td> <td>29  </td> <td>0    </td> <td>0    </td> <td>24160 </td> <td>211.338</td> <td>B5   </td> <td>S       </td> <td>2   </td> <td>nan </td> <td>St Louis, MO</td>\n",
       "        </tr>\n",
       "    </tbody>\n",
       "</table>"
      ],
      "text/plain": [
       "pclass | survived | name                          | sex    | age  | sibsp | parch | ticket | fare    | cabin | embarked | boat | body | home.dest\n",
       "1      | 1        | Allen, Miss. Elisabeth Walton | female | 29   | 0     | 0     | 24160  | 211.338 | B5    | S        | 2    | nan  | St Louis, MO"
      ]
     },
     "execution_count": 7,
     "metadata": {},
     "output_type": "execute_result"
    }
   ],
   "source": [
    "# So the table \"titanic\" has 1,310 rows, numbered 0..1309\n",
    "# The spreadsheet \"titanic3.csv\" has also 1,310 rows, but row 1 contains \n",
    "# the column labels. So we only have data on 1,309 passengers.\n",
    "#Something is amiss. Let's look at the first row of the table\n",
    "\n",
    "titanic.take(0)"
   ]
  },
  {
   "cell_type": "code",
   "execution_count": 8,
   "metadata": {},
   "outputs": [
    {
     "data": {
      "text/html": [
       "<table border=\"1\" class=\"dataframe\">\n",
       "    <thead>\n",
       "        <tr>\n",
       "            <th>pclass</th> <th>survived</th> <th>name</th> <th>sex</th> <th>age</th> <th>sibsp</th> <th>parch</th> <th>ticket</th> <th>fare</th> <th>cabin</th> <th>embarked</th> <th>boat</th> <th>body</th> <th>home.dest</th>\n",
       "        </tr>\n",
       "    </thead>\n",
       "    <tbody>\n",
       "        <tr>\n",
       "            <td>nan   </td> <td>nan     </td> <td>nan </td> <td>nan </td> <td>nan </td> <td>nan  </td> <td>nan  </td> <td>nan   </td> <td>nan </td> <td>nan  </td> <td>nan     </td> <td>nan </td> <td>nan </td> <td>nan      </td>\n",
       "        </tr>\n",
       "    </tbody>\n",
       "</table>"
      ],
      "text/plain": [
       "pclass | survived | name | sex  | age  | sibsp | parch | ticket | fare | cabin | embarked | boat | body | home.dest\n",
       "nan    | nan      | nan  | nan  | nan  | nan   | nan   | nan    | nan  | nan   | nan      | nan  | nan  | nan"
      ]
     },
     "execution_count": 8,
     "metadata": {},
     "output_type": "execute_result"
    }
   ],
   "source": [
    "# That's correct. Look at the last row\n",
    "\n",
    "titanic.take(1309)"
   ]
  },
  {
   "cell_type": "code",
   "execution_count": 9,
   "metadata": {},
   "outputs": [
    {
     "data": {
      "text/html": [
       "<table border=\"1\" class=\"dataframe\">\n",
       "    <thead>\n",
       "        <tr>\n",
       "            <th>pclass</th> <th>survived</th> <th>name</th> <th>sex</th> <th>age</th> <th>sibsp</th> <th>parch</th> <th>ticket</th> <th>fare</th> <th>cabin</th> <th>embarked</th> <th>boat</th> <th>body</th> <th>home.dest</th>\n",
       "        </tr>\n",
       "    </thead>\n",
       "    <tbody>\n",
       "        <tr>\n",
       "            <td>3     </td> <td>0       </td> <td>Zimmerman, Mr. Leo</td> <td>male</td> <td>29  </td> <td>0    </td> <td>0    </td> <td>315082</td> <td>7.875</td> <td>nan  </td> <td>S       </td> <td>nan </td> <td>nan </td> <td>nan      </td>\n",
       "        </tr>\n",
       "    </tbody>\n",
       "</table>"
      ],
      "text/plain": [
       "pclass | survived | name               | sex  | age  | sibsp | parch | ticket | fare  | cabin | embarked | boat | body | home.dest\n",
       "3      | 0        | Zimmerman, Mr. Leo | male | 29   | 0     | 0     | 315082 | 7.875 | nan   | S        | nan  | nan  | nan"
      ]
     },
     "execution_count": 9,
     "metadata": {},
     "output_type": "execute_result"
    }
   ],
   "source": [
    "# So Table.read_table has read an empty row. Let's get rid of that\n",
    "\n",
    "titanic = titanic.take(np.arange(1309))\n",
    "titanic.take(1308)"
   ]
  },
  {
   "cell_type": "code",
   "execution_count": 10,
   "metadata": {},
   "outputs": [
    {
     "data": {
      "text/plain": [
       "{'age': 263,\n",
       " 'boat': 823,\n",
       " 'body': 1188,\n",
       " 'cabin': 1014,\n",
       " 'embarked': 2,\n",
       " 'fare': 1,\n",
       " 'home.dest': 564,\n",
       " 'name': 0,\n",
       " 'parch': 0,\n",
       " 'pclass': 0,\n",
       " 'sex': 0,\n",
       " 'sibsp': 0,\n",
       " 'survived': 0,\n",
       " 'ticket': 0}"
      ]
     },
     "execution_count": 10,
     "metadata": {},
     "output_type": "execute_result"
    }
   ],
   "source": [
    "# Complication:\n",
    "# There are missing values (nan) in the table. \n",
    "# We have to keep that in mind when we do our analysis.\n",
    "# \n",
    "# Let's count the missing values for each variable\n",
    "nan_count = titanic.count_nan()\n",
    "nan_count"
   ]
  },
  {
   "cell_type": "markdown",
   "metadata": {},
   "source": [
    "### Let's first get a feeling on the composition of passengers: age, sex, port of embarkation. We could also look at family relationships using the same tools, but we'll skip that."
   ]
  },
  {
   "cell_type": "code",
   "execution_count": 11,
   "metadata": {},
   "outputs": [
    {
     "data": {
      "text/html": [
       "<table border=\"1\" class=\"dataframe\">\n",
       "    <thead>\n",
       "        <tr>\n",
       "            <th>sex</th> <th>count</th>\n",
       "        </tr>\n",
       "    </thead>\n",
       "    <tbody>\n",
       "        <tr>\n",
       "            <td>female</td> <td>466  </td>\n",
       "        </tr>\n",
       "    </tbody>\n",
       "        <tr>\n",
       "            <td>male  </td> <td>843  </td>\n",
       "        </tr>\n",
       "    </tbody>\n",
       "</table>"
      ],
      "text/plain": [
       "sex    | count\n",
       "female | 466\n",
       "male   | 843"
      ]
     },
     "execution_count": 11,
     "metadata": {},
     "output_type": "execute_result"
    },
    {
     "data": {
      "image/png": "[encoded data removed]",
      "text/plain": [
       "<matplotlib.figure.Figure at 0x10e9a6ef0>"
      ]
     },
     "metadata": {},
     "output_type": "display_data"
    }
   ],
   "source": [
    "bla = titanic.group(\"sex\")\n",
    "bla.barh(\"sex\")\n",
    "bla\n",
    "# About 2/3 of the passengers were males"
   ]
  },
  {
   "cell_type": "code",
   "execution_count": 12,
   "metadata": {},
   "outputs": [
    {
     "data": {
      "text/html": [
       "<table border=\"1\" class=\"dataframe\">\n",
       "    <thead>\n",
       "        <tr>\n",
       "            <th>pclass</th> <th>count</th>\n",
       "        </tr>\n",
       "    </thead>\n",
       "    <tbody>\n",
       "        <tr>\n",
       "            <td>1     </td> <td>323  </td>\n",
       "        </tr>\n",
       "    </tbody>\n",
       "        <tr>\n",
       "            <td>2     </td> <td>277  </td>\n",
       "        </tr>\n",
       "    </tbody>\n",
       "        <tr>\n",
       "            <td>3     </td> <td>709  </td>\n",
       "        </tr>\n",
       "    </tbody>\n",
       "</table>"
      ],
      "text/plain": [
       "pclass | count\n",
       "1      | 323\n",
       "2      | 277\n",
       "3      | 709"
      ]
     },
     "execution_count": 12,
     "metadata": {},
     "output_type": "execute_result"
    },
    {
     "data": {
      "image/png": "[encoded data removed]",
      "text/plain": [
       "<matplotlib.figure.Figure at 0x10eb59278>"
      ]
     },
     "metadata": {},
     "output_type": "display_data"
    }
   ],
   "source": [
    "bla = titanic.group(\"pclass\")\n",
    "bla.barh(\"pclass\")\n",
    "bla\n",
    "# About half the passengers were in 3rd class"
   ]
  },
  {
   "cell_type": "code",
   "execution_count": 13,
   "metadata": {},
   "outputs": [
    {
     "data": {
      "text/html": [
       "<table border=\"1\" class=\"dataframe\">\n",
       "    <thead>\n",
       "        <tr>\n",
       "            <th>embarked</th> <th>count</th>\n",
       "        </tr>\n",
       "    </thead>\n",
       "    <tbody>\n",
       "        <tr>\n",
       "            <td>C       </td> <td>270  </td>\n",
       "        </tr>\n",
       "    </tbody>\n",
       "        <tr>\n",
       "            <td>Q       </td> <td>123  </td>\n",
       "        </tr>\n",
       "    </tbody>\n",
       "        <tr>\n",
       "            <td>S       </td> <td>914  </td>\n",
       "        </tr>\n",
       "    </tbody>\n",
       "        <tr>\n",
       "            <td>nan     </td> <td>2    </td>\n",
       "        </tr>\n",
       "    </tbody>\n",
       "</table>"
      ],
      "text/plain": [
       "embarked | count\n",
       "C        | 270\n",
       "Q        | 123\n",
       "S        | 914\n",
       "nan      | 2"
      ]
     },
     "execution_count": 13,
     "metadata": {},
     "output_type": "execute_result"
    },
    {
     "data": {
      "image/png": "[encoded data removed]",
      "text/plain": [
       "<matplotlib.figure.Figure at 0x10ec343c8>"
      ]
     },
     "metadata": {},
     "output_type": "display_data"
    }
   ],
   "source": [
    "bla = titanic.group(\"embarked\")\n",
    "bla.barh(\"embarked\")\n",
    "bla\n",
    "# Most assengers embarked in Southampton\n",
    "# Note that there are two missing values\n",
    "# Let's see if there is a difference in the class distribution\n",
    "# between the ports of embarkation\n"
   ]
  },
  {
   "cell_type": "code",
   "execution_count": 14,
   "metadata": {},
   "outputs": [
    {
     "data": {
      "image/png": "[encoded data removed]",
      "text/plain": [
       "<matplotlib.figure.Figure at 0x10392a6d8>"
      ]
     },
     "metadata": {},
     "output_type": "display_data"
    },
    {
     "data": {
      "image/png": "[encoded data removed]",
      "text/plain": [
       "<matplotlib.figure.Figure at 0x10ea3eb00>"
      ]
     },
     "metadata": {},
     "output_type": "display_data"
    }
   ],
   "source": [
    "# Let's see if there is a difference in the class and sex distribution\n",
    "# between the ports of embarkation\n",
    "titanic_sub = titanic.select(\"pclass\", \"embarked\", \"sex\").take_complete_rows()\n",
    "titanic_sub.pivot(\"pclass\", \"embarked\").barh(\"embarked\")\n",
    "titanic_sub.pivot(\"sex\", \"embarked\").barh(\"embarked\")\n",
    "# Drastic differences betweeb embarkation ports"
   ]
  },
  {
   "cell_type": "code",
   "execution_count": 15,
   "metadata": {},
   "outputs": [
    {
     "data": {
      "text/plain": [
       "569"
      ]
     },
     "execution_count": 15,
     "metadata": {},
     "output_type": "execute_result"
    },
    {
     "data": {
      "image/png": "[encoded data removed]",
      "text/plain": [
       "<matplotlib.figure.Figure at 0x10ed8c390>"
      ]
     },
     "metadata": {},
     "output_type": "display_data"
    }
   ],
   "source": [
    "age = titanic.select(\"age\").take_complete_rows()\n",
    "age.hist(bins=np.arange(0, 80, 5))\n",
    "age.where(\"age\", are.below(30)).num_rows\n",
    "# Almost half the passengers are younger than 30"
   ]
  },
  {
   "cell_type": "code",
   "execution_count": 16,
   "metadata": {},
   "outputs": [
    {
     "data": {
      "text/plain": [
       "29.8811345124283"
      ]
     },
     "execution_count": 16,
     "metadata": {},
     "output_type": "execute_result"
    }
   ],
   "source": [
    "np.mean(age.column(\"age\"))\n",
    "# Mean age is just below 30"
   ]
  },
  {
   "cell_type": "code",
   "execution_count": 17,
   "metadata": {},
   "outputs": [
    {
     "data": {
      "text/plain": [
       "28.0"
      ]
     },
     "execution_count": 17,
     "metadata": {},
     "output_type": "execute_result"
    }
   ],
   "source": [
    "np.median(age.column(\"age\"))\n",
    "# Median age is 28"
   ]
  },
  {
   "cell_type": "code",
   "execution_count": 18,
   "metadata": {},
   "outputs": [
    {
     "data": {
      "image/png": "[encoded data removed]",
      "text/plain": [
       "<matplotlib.figure.Figure at 0x10f350748>"
      ]
     },
     "metadata": {},
     "output_type": "display_data"
    }
   ],
   "source": [
    "# Maybe the young passengers are poor emigrants who are\n",
    "# predominantly in 3rd class\n",
    "age_pclass = titanic.select(\"age\", \"pclass\").take_complete_rows()\n",
    "# age_pclass.shape()\n",
    "age_pclass.group(\"pclass\", np.median).barh(\"pclass\")\n",
    "# Yes, the 3rd class passsengers are on average much younger\n",
    "# than the 1st class passengers"
   ]
  },
  {
   "cell_type": "code",
   "execution_count": 19,
   "metadata": {},
   "outputs": [
    {
     "data": {
      "image/png": "[encoded data removed]",
      "text/plain": [
       "<matplotlib.figure.Figure at 0x113590208>"
      ]
     },
     "metadata": {},
     "output_type": "display_data"
    }
   ],
   "source": [
    "# Let's see if there is a difference in the class distribution\n",
    "# between the ports of embarkation\n",
    "titanic_sub = titanic.select(\"pclass\", \"embarked\", \"sex\").take_complete_rows()\n",
    "titanic_sub.pivot(\"pclass\", \"embarked\").barh(\"embarked\")\n",
    "# Dramatic difference."
   ]
  },
  {
   "cell_type": "code",
   "execution_count": 20,
   "metadata": {},
   "outputs": [
    {
     "data": {
      "image/png": "[encoded data removed]",
      "text/plain": [
       "<matplotlib.figure.Figure at 0x1135f5828>"
      ]
     },
     "metadata": {},
     "output_type": "display_data"
    }
   ],
   "source": [
    "# How about gender?\n",
    "titanic_sub.pivot(\"sex\", \"embarked\").barh(\"embarked\")\n",
    "# Conjecture: The passengers embarking at Queenstown\n",
    "# tended to be young emigrant families?"
   ]
  },
  {
   "cell_type": "code",
   "execution_count": 21,
   "metadata": {},
   "outputs": [
    {
     "data": {
      "text/html": [
       "<table border=\"1\" class=\"dataframe\">\n",
       "    <thead>\n",
       "        <tr>\n",
       "            <th>survived</th> <th>count</th>\n",
       "        </tr>\n",
       "    </thead>\n",
       "    <tbody>\n",
       "        <tr>\n",
       "            <td>0       </td> <td>809  </td>\n",
       "        </tr>\n",
       "    </tbody>\n",
       "        <tr>\n",
       "            <td>1       </td> <td>500  </td>\n",
       "        </tr>\n",
       "    </tbody>\n",
       "</table>"
      ],
      "text/plain": [
       "survived | count\n",
       "0        | 809\n",
       "1        | 500"
      ]
     },
     "execution_count": 21,
     "metadata": {},
     "output_type": "execute_result"
    },
    {
     "data": {
      "image/png": "[encoded data removed]",
      "text/plain": [
       "<matplotlib.figure.Figure at 0x11368c4e0>"
      ]
     },
     "metadata": {},
     "output_type": "display_data"
    }
   ],
   "source": [
    "bla = titanic.group(\"survived\")\n",
    "bla.barh(\"survived\")\n",
    "bla\n",
    "# About 40% of passengers survived"
   ]
  },
  {
   "cell_type": "markdown",
   "metadata": {},
   "source": [
    "##  Let's no get to the most interesting question: How did the likelihood of survival \"depend\" on sex and pclass"
   ]
  },
  {
   "cell_type": "code",
   "execution_count": 22,
   "metadata": {},
   "outputs": [
    {
     "data": {
      "text/html": [
       "<table border=\"1\" class=\"dataframe\">\n",
       "    <thead>\n",
       "        <tr>\n",
       "            <th>pclass</th> <th>female</th> <th>male</th>\n",
       "        </tr>\n",
       "    </thead>\n",
       "    <tbody>\n",
       "        <tr>\n",
       "            <td>1     </td> <td>144   </td> <td>179 </td>\n",
       "        </tr>\n",
       "    </tbody>\n",
       "        <tr>\n",
       "            <td>2     </td> <td>106   </td> <td>171 </td>\n",
       "        </tr>\n",
       "    </tbody>\n",
       "        <tr>\n",
       "            <td>3     </td> <td>216   </td> <td>493 </td>\n",
       "        </tr>\n",
       "    </tbody>\n",
       "</table>"
      ],
      "text/plain": [
       "pclass | female | male\n",
       "1      | 144    | 179\n",
       "2      | 106    | 171\n",
       "3      | 216    | 493"
      ]
     },
     "execution_count": 22,
     "metadata": {},
     "output_type": "execute_result"
    },
    {
     "data": {
      "image/png": "[encoded data removed]",
      "text/plain": [
       "<matplotlib.figure.Figure at 0x113749a58>"
      ]
     },
     "metadata": {},
     "output_type": "display_data"
    }
   ],
   "source": [
    "# Let's no get to the most intersting question: How did the likelihood\n",
    "# of survival \"depend\" on sex and pclass\n",
    "titanic.pivot(\"sex\", \"pclass\").barh(\"pclass\")\n",
    "titanic.pivot(\"sex\", \"pclass\")\n",
    "# Ratio of females to males is decreasing function of pclass"
   ]
  },
  {
   "cell_type": "code",
   "execution_count": 23,
   "metadata": {},
   "outputs": [
    {
     "data": {
      "text/html": [
       "<table border=\"1\" class=\"dataframe\">\n",
       "    <thead>\n",
       "        <tr>\n",
       "            <th>pclass</th> <th>female</th> <th>male</th>\n",
       "        </tr>\n",
       "    </thead>\n",
       "    <tbody>\n",
       "        <tr>\n",
       "            <td>1     </td> <td>0.965278</td> <td>0.340782</td>\n",
       "        </tr>\n",
       "    </tbody>\n",
       "        <tr>\n",
       "            <td>2     </td> <td>0.886792</td> <td>0.146199</td>\n",
       "        </tr>\n",
       "    </tbody>\n",
       "        <tr>\n",
       "            <td>3     </td> <td>0.490741</td> <td>0.15213 </td>\n",
       "        </tr>\n",
       "    </tbody>\n",
       "</table>"
      ],
      "text/plain": [
       "pclass | female   | male\n",
       "1      | 0.965278 | 0.340782\n",
       "2      | 0.886792 | 0.146199\n",
       "3      | 0.490741 | 0.15213"
      ]
     },
     "execution_count": 23,
     "metadata": {},
     "output_type": "execute_result"
    },
    {
     "data": {
      "image/png": "[encoded data removed]",
      "text/plain": [
       "<matplotlib.figure.Figure at 0x10eb59be0>"
      ]
     },
     "metadata": {},
     "output_type": "display_data"
    }
   ],
   "source": [
    "titanic.pivot(\"sex\", \"pclass\", \"survived\", collect=np.mean).barh(\"pclass\")\n",
    "titanic.pivot(\"sex\", \"pclass\", \"survived\", collect=np.mean)\n",
    "# Males in first class were twice as likely to survive as males in 2nd\n",
    "# and 3rd class\n",
    "# Females were roughly equally likely to survice in 1st and 2nd class\n",
    "# and twice as likely to survice as females in 3rd class"
   ]
  },
  {
   "cell_type": "code",
   "execution_count": 24,
   "metadata": {},
   "outputs": [
    {
     "data": {
      "text/html": [
       "<table border=\"1\" class=\"dataframe\">\n",
       "    <thead>\n",
       "        <tr>\n",
       "            <th>pclass</th> <th>female</th> <th>male</th>\n",
       "        </tr>\n",
       "    </thead>\n",
       "    <tbody>\n",
       "        <tr>\n",
       "            <td>1     </td> <td>0.0347222</td> <td>0.659218</td>\n",
       "        </tr>\n",
       "    </tbody>\n",
       "        <tr>\n",
       "            <td>2     </td> <td>0.113208 </td> <td>0.853801</td>\n",
       "        </tr>\n",
       "    </tbody>\n",
       "        <tr>\n",
       "            <td>3     </td> <td>0.509259 </td> <td>0.84787 </td>\n",
       "        </tr>\n",
       "    </tbody>\n",
       "</table>"
      ],
      "text/plain": [
       "pclass | female    | male\n",
       "1      | 0.0347222 | 0.659218\n",
       "2      | 0.113208  | 0.853801\n",
       "3      | 0.509259  | 0.84787"
      ]
     },
     "execution_count": 24,
     "metadata": {},
     "output_type": "execute_result"
    },
    {
     "data": {
      "image/png": "[encoded data removed]",
      "text/plain": [
       "<matplotlib.figure.Figure at 0x113887400>"
      ]
     },
     "metadata": {},
     "output_type": "display_data"
    }
   ],
   "source": [
    "# Of course we could also state the result in terms of death rather than \n",
    "# survival\n",
    "died = 1 - titanic.column(\"survived\")\n",
    "titanic_extended = titanic.with_columns(\"died\", died)\n",
    "titanic_extended.pivot(\"sex\", \"pclass\", \"died\", collect=np.mean).barh(\"pclass\")\n",
    "titanic_extended.pivot(\"sex\", \"pclass\", \"died\", collect=np.mean)\n",
    "# Females in 2nd class were three times as likely to die as females in 1st \n",
    "# class. Females in 3rd class were 15 times more likely to die as females\n",
    "# in 1st class"
   ]
  },
  {
   "cell_type": "code",
   "execution_count": null,
   "metadata": {
    "collapsed": true
   },
   "outputs": [],
   "source": []
  }
 ],
 "metadata": {
  "celltoolbar": "Raw Cell Format",
  "kernelspec": {
   "display_name": "Python 3",
   "language": "python",
   "name": "python3"
  },
  "language_info": {
   "codemirror_mode": {
    "name": "ipython",
    "version": 3
   },
   "file_extension": ".py",
   "mimetype": "text/x-python",
   "name": "python",
   "nbconvert_exporter": "python",
   "pygments_lexer": "ipython3",
   "version": "3.6.2"
  }
 },
 "nbformat": 4,
 "nbformat_minor": 1
}
