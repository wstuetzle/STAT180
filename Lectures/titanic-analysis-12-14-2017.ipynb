{
 "cells": [
  {
   "cell_type": "markdown",
   "metadata": {},
   "source": [
    "## <font color=red> Who survived when the Titanic sank? An example for exploratory data analysis</font>\n",
    "\n",
    "More info on the sinking of the Titanic in [Encyclopedia Titanica](http://www.encyclopedia-titanica.org) or Wikipedia"
   ]
  },
  {
   "cell_type": "code",
   "execution_count": null,
   "metadata": {
    "collapsed": true
   },
   "outputs": [],
   "source": [
    "# Import code libraries or \"modules\" in Python lingo\n",
    "\n",
    "import numpy as np\n",
    "import pandas as pd\n",
    "import matplotlib.pyplot as plt\n",
    "import seaborn as sns\n",
    "import importlib\n",
    "import sys\n",
    "# from IPython.core.debugger import Tracer\n",
    "from datascience import *\n",
    "sns.set_style(\"whitegrid\")\n",
    "%matplotlib inline"
   ]
  },
  {
   "cell_type": "code",
   "execution_count": null,
   "metadata": {
    "collapsed": true
   },
   "outputs": [],
   "source": [
    "# Import some new methods for class Table\n",
    "# Add IDS directory to search path\n",
    "course_dir = \"/Users/wxs/Dropbox/IDS/Git-reps/STAT180/\"\n",
    "computing_dir = course_dir + \"Computing\"\n",
    "\n",
    "if computing_dir not in sys.path:\n",
    "    sys.path.append(computing_dir)\n",
    "\n",
    "from datascience_extensions import *"
   ]
  },
  {
   "cell_type": "code",
   "execution_count": null,
   "metadata": {
    "collapsed": true
   },
   "outputs": [],
   "source": [
    "# Reload the extensions after we make a change\n",
    "# Importing it again does not work - a module is imported only once\n",
    "module_name = \"datascience_extensions\"\n",
    "importlib.reload(sys.modules[module_name])"
   ]
  },
  {
   "cell_type": "code",
   "execution_count": null,
   "metadata": {
    "collapsed": true
   },
   "outputs": [],
   "source": [
    "# Read the data into a table titanic and display the first 3 rows\n",
    "data_dir = course_dir + \"Data/\"\n",
    "titanic_filename = \"titanic3.csv\"\n",
    "titanic_pathname = data_dir + titanic_filename\n",
    "titanic = Table.read_table(titanic_pathname)\n",
    "titanic.take([1, 2, 3])"
   ]
  },
  {
   "cell_type": "markdown",
   "metadata": {},
   "source": [
    "#### Rows of the table correspond to passengers. Columns correspond to properties (or \"features\") of passengers:\n",
    "\n",
    "\n",
    "#### We often refer to the rows as \"cases\" and to the columns as \"variables\"\n",
    "#### Some entries in the table are \"nan\", indicating that the value is missing"
   ]
  },
  {
   "cell_type": "code",
   "execution_count": null,
   "metadata": {
    "collapsed": true
   },
   "outputs": [],
   "source": [
    "# Let's see how big the table is\n",
    "titanic.shape()"
   ]
  },
  {
   "cell_type": "code",
   "execution_count": null,
   "metadata": {
    "collapsed": true
   },
   "outputs": [],
   "source": [
    "# So the table \"titanic\" has 1,310 rows, numbered 0..1309\n",
    "# The spreadsheet \"titanic3.csv\" has also 1,310 rows, but row 1 contains \n",
    "# the column labels. So we only have data on 1,309 passengers.\n",
    "#Something is amiss. Let's look at the first row of the table\n",
    "\n",
    "titanic.take(0)"
   ]
  },
  {
   "cell_type": "code",
   "execution_count": null,
   "metadata": {
    "collapsed": true
   },
   "outputs": [],
   "source": [
    "# That's correct. Look at the last row\n",
    "\n",
    "titanic.take(1309)"
   ]
  },
  {
   "cell_type": "code",
   "execution_count": null,
   "metadata": {
    "collapsed": true
   },
   "outputs": [],
   "source": [
    "# So Table.read_table has read an empty row. Let's get rid of that\n",
    "\n",
    "titanic = titanic.take(np.arange(1309))\n",
    "titanic.take(1308)"
   ]
  },
  {
   "cell_type": "code",
   "execution_count": null,
   "metadata": {
    "collapsed": true
   },
   "outputs": [],
   "source": [
    "# Complication:\n",
    "# There are missing values (nan) in the table. \n",
    "# We have to keep that in mind when we do our analysis.\n",
    "# \n",
    "# Let's count the missing values for each variable\n",
    "nan_count = titanic.count_nan()\n",
    "nan_count"
   ]
  },
  {
   "cell_type": "markdown",
   "metadata": {},
   "source": [
    "### Let's first get a feeling on the composition of passengers: age, sex, port of embarkation. We could also look at family relationships using the same tools, but we'll skip that."
   ]
  },
  {
   "cell_type": "code",
   "execution_count": null,
   "metadata": {
    "collapsed": true
   },
   "outputs": [],
   "source": [
    "bla = titanic.group(\"sex\")\n",
    "bla.barh(\"sex\")\n",
    "bla\n",
    "# About 2/3 of the passengers were males"
   ]
  },
  {
   "cell_type": "code",
   "execution_count": null,
   "metadata": {
    "collapsed": true
   },
   "outputs": [],
   "source": [
    "bla = titanic.group(\"pclass\")\n",
    "bla.barh(\"pclass\")\n",
    "bla\n",
    "# About half the passengers were in 3rd class"
   ]
  },
  {
   "cell_type": "code",
   "execution_count": null,
   "metadata": {
    "collapsed": true
   },
   "outputs": [],
   "source": [
    "bla = titanic.group(\"embarked\")\n",
    "bla.barh(\"embarked\")\n",
    "bla\n",
    "# Most assengers embarked in Southampton\n",
    "# Note that there are two missing values\n",
    "# Let's see if there is a difference in the class distribution\n",
    "# between the ports of embarkation\n"
   ]
  },
  {
   "cell_type": "code",
   "execution_count": null,
   "metadata": {
    "collapsed": true
   },
   "outputs": [],
   "source": [
    "# Let's see if there is a difference in the class and sex distribution\n",
    "# between the ports of embarkation\n",
    "titanic_sub = titanic.select(\"pclass\", \"embarked\", \"sex\").take_complete_rows()\n",
    "titanic_sub.pivot(\"pclass\", \"embarked\").barh(\"embarked\")\n",
    "titanic_sub.pivot(\"sex\", \"embarked\").barh(\"embarked\")\n",
    "# Drastic differences betweeb embarkation ports"
   ]
  },
  {
   "cell_type": "code",
   "execution_count": null,
   "metadata": {
    "collapsed": true
   },
   "outputs": [],
   "source": [
    "age = titanic.select(\"age\").take_complete_rows()\n",
    "age.hist(bins=np.arange(0, 80, 5))\n",
    "age.where(\"age\", are.below(30)).num_rows\n",
    "# Almost half the passengers are younger than 30"
   ]
  },
  {
   "cell_type": "code",
   "execution_count": null,
   "metadata": {
    "collapsed": true
   },
   "outputs": [],
   "source": [
    "np.mean(age.column(\"age\"))\n",
    "# Mean age is just below 30"
   ]
  },
  {
   "cell_type": "code",
   "execution_count": null,
   "metadata": {
    "collapsed": true
   },
   "outputs": [],
   "source": [
    "np.median(age.column(\"age\"))\n",
    "# Median age is 28"
   ]
  },
  {
   "cell_type": "code",
   "execution_count": null,
   "metadata": {
    "collapsed": true
   },
   "outputs": [],
   "source": [
    "# Maybe the young passengers are poor emigrants who are\n",
    "# predominantly in 3rd class\n",
    "age_pclass = titanic.select(\"age\", \"pclass\").take_complete_rows()\n",
    "# age_pclass.shape()\n",
    "age_pclass.group(\"pclass\", np.median).barh(\"pclass\")\n",
    "# Yes, the 3rd class passsengers are on average much younger\n",
    "# than the 1st class passengers"
   ]
  },
  {
   "cell_type": "code",
   "execution_count": null,
   "metadata": {
    "collapsed": true
   },
   "outputs": [],
   "source": [
    "# Let's see if there is a difference in the class distribution\n",
    "# between the ports of embarkation\n",
    "titanic_sub = titanic.select(\"pclass\", \"embarked\", \"sex\").take_complete_rows()\n",
    "titanic_sub.pivot(\"pclass\", \"embarked\").barh(\"embarked\")\n",
    "# Dramatic difference."
   ]
  },
  {
   "cell_type": "code",
   "execution_count": null,
   "metadata": {
    "collapsed": true
   },
   "outputs": [],
   "source": [
    "# How about gender?\n",
    "titanic_sub.pivot(\"sex\", \"embarked\").barh(\"embarked\")\n",
    "# Conjecture: The passengers embarking at Queenstown\n",
    "# tended to be young emigrant families?"
   ]
  },
  {
   "cell_type": "code",
   "execution_count": null,
   "metadata": {
    "collapsed": true
   },
   "outputs": [],
   "source": [
    "bla = titanic.group(\"survived\")\n",
    "bla.barh(\"survived\")\n",
    "bla\n",
    "# About 40% of passengers survived"
   ]
  },
  {
   "cell_type": "markdown",
   "metadata": {},
   "source": [
    "##  Let's no get to the most intersting question: How did the likelihood of survival \"depend\" on sex and pclass"
   ]
  },
  {
   "cell_type": "code",
   "execution_count": null,
   "metadata": {
    "collapsed": true
   },
   "outputs": [],
   "source": [
    "# Let's no get to the most intersting question: How did the likelihood\n",
    "# of survival \"depend\" on sex and pclass\n",
    "titanic.pivot(\"sex\", \"pclass\").barh(\"pclass\")\n",
    "titanic.pivot(\"sex\", \"pclass\")\n",
    "# Ratio of females to males is decreasing function of pclass"
   ]
  },
  {
   "cell_type": "code",
   "execution_count": null,
   "metadata": {
    "collapsed": true
   },
   "outputs": [],
   "source": [
    "titanic.pivot(\"sex\", \"pclass\", \"survived\", collect=np.mean).barh(\"pclass\")\n",
    "titanic.pivot(\"sex\", \"pclass\", \"survived\", collect=np.mean)\n",
    "# Males in first class were twice as likely to survive as males in 2nd\n",
    "# and 3rd class\n",
    "# Females were roughly equally likely to survice in 1st and 2nd class\n",
    "# and twice as likely to survice as females in 3rd class"
   ]
  },
  {
   "cell_type": "code",
   "execution_count": null,
   "metadata": {
    "collapsed": true
   },
   "outputs": [],
   "source": [
    "# Of course we could also state the result in terms of death rather than \n",
    "# survival\n",
    "died = 1 - titanic.column(\"survived\")\n",
    "titanic_extended = titanic.with_columns(\"died\", died)\n",
    "titanic_extended.pivot(\"sex\", \"pclass\", \"died\", collect=np.mean).barh(\"pclass\")\n",
    "titanic_extended.pivot(\"sex\", \"pclass\", \"died\", collect=np.mean)\n",
    "# Females in 2nd class were three times as likely to die as females in 1st \n",
    "# class. Females in 3rd class were 15 times more likely to die as females\n",
    "# in 1st class"
   ]
  }
 ],
 "metadata": {
  "celltoolbar": "Raw Cell Format",
  "kernelspec": {
   "display_name": "Python 3",
   "language": "python",
   "name": "python3"
  },
  "language_info": {
   "codemirror_mode": {
    "name": "ipython",
    "version": 3
   },
   "file_extension": ".py",
   "mimetype": "text/x-python",
   "name": "python",
   "nbconvert_exporter": "python",
   "pygments_lexer": "ipython3",
   "version": "3.6.1"
  }
 },
 "nbformat": 4,
 "nbformat_minor": 1
}
