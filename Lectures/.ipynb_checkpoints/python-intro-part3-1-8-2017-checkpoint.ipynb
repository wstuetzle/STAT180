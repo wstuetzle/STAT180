{
 "cells": [
  {
   "cell_type": "markdown",
   "metadata": {},
   "source": [
    "# <span style=\"color:red\"> Introduction to Python, Part 3 </span>"
   ]
  },
  {
   "cell_type": "code",
   "execution_count": null,
   "metadata": {},
   "outputs": [],
   "source": [
    "!pip install datascience"
   ]
  },
  {
   "cell_type": "code",
   "execution_count": null,
   "metadata": {
    "collapsed": true
   },
   "outputs": [],
   "source": [
    "# Import code libraries or \"modules\" in Python lingo\n",
    "\n",
    "import numpy as np\n",
    "import pandas as pd\n",
    "import matplotlib.pyplot as plt\n",
    "import seaborn as sns\n",
    "import importlib\n",
    "import sys\n",
    "from datascience import *\n",
    "sns.set_style(\"whitegrid\")\n",
    "%matplotlib inline"
   ]
  },
  {
   "cell_type": "markdown",
   "metadata": {},
   "source": [
    "### <span style=\"color:blue\"> Tables </span>\n",
    "\n",
    "For illustration let's make simple table"
   ]
  },
  {
   "cell_type": "code",
   "execution_count": null,
   "metadata": {},
   "outputs": [],
   "source": [
    "flowers = Table().with_columns(\n",
    "    \"name\", make_array(\"lotus\", \"sunflower\", \"rose\"),\n",
    "    \"petals\", make_array(8, 34, 5),\n",
    "    \"color\", make_array(\"pink\", \"yellow\", \"red\")\n",
    ")\n",
    "flowers"
   ]
  },
  {
   "cell_type": "markdown",
   "metadata": {},
   "source": [
    "Rows of the table represent objects (in his case, flowers). \n",
    "Columns of the table represent features of objects (in this case, name, number of petals, color). This data format is very common; many data sets come in this format or can be converted to this format.\n",
    "\n",
    "The datascience module has many functions for operating on tables. \n",
    "\n",
    "Here is a \n",
    "[cheatsheet](https://github.com/wstuetzle/STAT180/blob/master/Computing/data8_sp17_midterm_ref_sheet.pdf).\n",
    "\n",
    "Here is a [tutorial](http://data8.org/datascience/tutorial.html)\n",
    "\n",
    "Let's try some of the functions / methods"
   ]
  },
  {
   "cell_type": "code",
   "execution_count": null,
   "metadata": {},
   "outputs": [],
   "source": [
    "print(flowers.num_rows)       # number of rows\n",
    "print(flowers.num_columns)    # number of columns"
   ]
  },
  {
   "cell_type": "code",
   "execution_count": null,
   "metadata": {},
   "outputs": [],
   "source": [
    "flowers.labels     # names of columns"
   ]
  },
  {
   "cell_type": "code",
   "execution_count": null,
   "metadata": {},
   "outputs": [],
   "source": [
    "flowers.column(\"name\")     # extract a column"
   ]
  },
  {
   "cell_type": "code",
   "execution_count": null,
   "metadata": {},
   "outputs": [],
   "source": [
    "flowers.select(\"name\", 1)    \n",
    "\n",
    "# makes a new table with only the selected columns\n",
    "# columns can be identified by name or index\n",
    "# remember: indexing start at 0                    "
   ]
  },
  {
   "cell_type": "code",
   "execution_count": null,
   "metadata": {},
   "outputs": [],
   "source": [
    "# The table  flowers  is not changed\n",
    "\n",
    "flowers"
   ]
  },
  {
   "cell_type": "code",
   "execution_count": null,
   "metadata": {},
   "outputs": [],
   "source": [
    "# But we can define new table\n",
    "\n",
    "flower_names_only = flowers.select(\"name\", 1) \n",
    "flower_names_only"
   ]
  },
  {
   "cell_type": "code",
   "execution_count": null,
   "metadata": {},
   "outputs": [],
   "source": [
    "# Make a new table that has only the first two rows\n",
    "\n",
    "flowers.take(make_array(0, 1))    \n",
    "\n"
   ]
  },
  {
   "cell_type": "code",
   "execution_count": null,
   "metadata": {},
   "outputs": [],
   "source": [
    "# Sort the column \"petals\" and shuffels the other columns along\n",
    "\n",
    "sorted_flowers = flowers.sort(\"petals\")\n",
    "sorted_flowers"
   ]
  },
  {
   "cell_type": "code",
   "execution_count": null,
   "metadata": {},
   "outputs": [],
   "source": [
    "flowers\n",
    "\n",
    "# again, flowers did not change - good!"
   ]
  },
  {
   "cell_type": "code",
   "execution_count": null,
   "metadata": {},
   "outputs": [],
   "source": [
    "# Select rows by values of a column\n",
    "\n",
    "flowers.where(\"petals\", are.above(5))    "
   ]
  },
  {
   "cell_type": "markdown",
   "metadata": {},
   "source": [
    "### <span style=\"color:blue\"> Who survived when the Titanic sank? (Part 1) </span>\n",
    "\n",
    "More info on the sinking of the Titanic in [Encyclopedia Titanica](http://www.encyclopedia-titanica.org) or Wikipedia\n",
    "\n",
    "A \"comma separated values\" (csv) version of the dataset we will be analyzing is on Canvas. You can downoad it and look at in using Excel. Let's do that. \n",
    "\n",
    "The spreadsheet has 1,310 rows, but the first one is the column labels. So there are data on 1,309 passengers.\n",
    "\n",
    "A description of the dataset is on Canvas.\n",
    "\n",
    "**Here are the column labels and their meanings**\n",
    "```\n",
    "    pclass     cabin class\n",
    "    survived   0 = \"no\", 1 = \"yes\"\n",
    "    name\n",
    "    sex\n",
    "    age\n",
    "    sibsp      number of siblings or spouses aboard\n",
    "    parch      number of parents/children aboard\n",
    "    ticket     ticket number\n",
    "    fare       passenger fare (in British pounds)\n",
    "    cabin      cabin number\n",
    "    embarked   port of embarkation (C + cherbourg; Q = Queenstown; S = Southampton\n",
    "    boat       lifeboat number\n",
    "    body       body identification number\n",
    "    home.dest  home/destination \n",
    "```"
   ]
  },
  {
   "cell_type": "markdown",
   "metadata": {},
   "source": [
    "**Note**\n",
    "\n",
    "If you want to run this notebook on Azure, its easiest to upload the notebook, the file \"datascience_extensions.py\" (on Canvas) and the file \"titanic3.csv\" (on Canvas) and then replace the next two cells (below) by a single code cell\n",
    "with the following two lines:\n",
    "\n",
    "from datascience_extensions import * <br>\n",
    "titanic = Table.read_table(\"titanic3.csv\")"
   ]
  },
  {
   "cell_type": "code",
   "execution_count": null,
   "metadata": {},
   "outputs": [],
   "source": [
    "# Import some new methods for class Table\n",
    "# Add IDS directory to search path\n",
    "course_dir = \"/Users/wxs/Dropbox/IDS/Git-reps/STAT180/\"\n",
    "computing_dir = course_dir + \"Computing\"\n",
    "\n",
    "if computing_dir not in sys.path:\n",
    "    sys.path.append(computing_dir)\n",
    "\n",
    "from datascience_extensions import *\n",
    "\n",
    "# Reload the extensions after we make a change\n",
    "# Importing it again does not work - a module is imported only once\n",
    "module_name = \"datascience_extensions\"\n",
    "importlib.reload(sys.modules[module_name])"
   ]
  },
  {
   "cell_type": "code",
   "execution_count": null,
   "metadata": {
    "collapsed": true
   },
   "outputs": [],
   "source": [
    "# Read the data into a table \"titanic\"\n",
    "data_dir = course_dir + \"Data/\"\n",
    "titanic_filename = \"titanic3.csv\"\n",
    "titanic_pathname = data_dir + titanic_filename\n",
    "titanic = Table.read_table(titanic_pathname)"
   ]
  },
  {
   "cell_type": "code",
   "execution_count": null,
   "metadata": {},
   "outputs": [],
   "source": [
    "# Display the first three rows\n",
    "\n",
    "titanic.take(make_array(0, 1, 2))"
   ]
  },
  {
   "cell_type": "markdown",
   "metadata": {},
   "source": [
    "Rows of the table correspond to passengers <br> \n",
    "Columns correspond to properties (or \"features\") of passengers\n",
    "\n",
    "We often refer to the rows as \"cases\" and to the columns as \"variables\". Unfortunate: the term \"variable\" is overloaded.\n",
    "\n",
    "**Some entries in the table are \"nan\", indicating that the value is missing**"
   ]
  },
  {
   "cell_type": "code",
   "execution_count": null,
   "metadata": {},
   "outputs": [],
   "source": [
    "# Let's see how big the table is\n",
    "\n",
    "titanic.shape()\n",
    "\n",
    "# shape is a method defined in the module  datascience_extensions"
   ]
  },
  {
   "cell_type": "code",
   "execution_count": null,
   "metadata": {},
   "outputs": [],
   "source": [
    "# So the table \"titanic\" has 1,310 rows, numbered 0..1309\n",
    "# The spreadsheet \"titanic3.csv\" has also 1,310 rows, but row 1 contains \n",
    "# the column labels. So we only have data on 1,309 passengers.\n",
    "# Something is amiss. Let's look at the last ow of the table\n",
    "\n",
    "titanic.take(1309)"
   ]
  },
  {
   "cell_type": "code",
   "execution_count": null,
   "metadata": {},
   "outputs": [],
   "source": [
    "# \"nan\" is a code for \"missing\"\n",
    "# So Table.read_table has read an empty row (all elements missing). \n",
    "# Let's get rid of that row\n",
    "\n",
    "titanic = titanic.take(np.arange(1309))\n",
    "titanic.take(1308)\n",
    "\n",
    "# Now the last row looks legit"
   ]
  },
  {
   "cell_type": "code",
   "execution_count": null,
   "metadata": {},
   "outputs": [],
   "source": [
    "# Complication:\n",
    "# There are missing values (nan) in the table. \n",
    "# \n",
    "# Let's count the missing values for each variable\n",
    "nan_count = titanic.count_nan()\n",
    "nan_count\n",
    "\n",
    "# count_nan is a method in the module datascience_extensions"
   ]
  },
  {
   "cell_type": "markdown",
   "metadata": {},
   "source": [
    "### <span style=\"color:blue\"> Dealing with missing values </span>\n",
    "\n",
    "Missing values are a common problem in many \"real world\" data sets\n",
    "\n",
    "There is no simple recipe.\n",
    "\n",
    "One option is \"imputation\": guess the missing values for a row (passenger), possibly based on the values of the features that are non-missing (present).\n",
    "\n",
    "* Guess a missing age by the average of all present ages\n",
    "* Guess a missing age by the average age of passengers with the same sex, pclass, and with present age\n",
    "\n",
    "\n",
    "\n",
    "For some questions the fact that the dataset has missing values does not matter. For example we can calculate the percentage of survivors because the value of \"survived\" is present for all passengers.\n",
    "\n",
    "If a question involves features with missing values we can either throw up our hands or qualify our answer as in\n",
    "\"for passengers for whom we know the age, higher age goes with higher (or lower?) survival rate\""
   ]
  },
  {
   "cell_type": "markdown",
   "metadata": {},
   "source": [
    "### <span style=\"color:blue\"> Computing some simple summaries </span>"
   ]
  },
  {
   "cell_type": "code",
   "execution_count": null,
   "metadata": {},
   "outputs": [],
   "source": [
    "# Survival rate - what fraction of passengers survived?\n",
    "\n",
    "np.mean(titanic.column(\"survived\"))"
   ]
  },
  {
   "cell_type": "code",
   "execution_count": null,
   "metadata": {},
   "outputs": [],
   "source": [
    "# To get the percentage of survivors\n",
    "\n",
    "round(100 * np.mean(titanic.column(\"survived\")))"
   ]
  },
  {
   "cell_type": "code",
   "execution_count": null,
   "metadata": {},
   "outputs": [],
   "source": [
    "# What's the average age?\n",
    "\n",
    "np.mean(titanic.column(\"age\"))\n",
    "\n",
    "# Whoops - age is missing for 263 passengers, so we can't compute the average age"
   ]
  },
  {
   "cell_type": "code",
   "execution_count": null,
   "metadata": {},
   "outputs": [],
   "source": [
    "# Let's compute the average age for passengers with age present\n",
    "\n",
    "round(np.mean(titanic.select(\"age\").take_complete_rows().column(\"age\")), 0)\n",
    "\n",
    "# Let's parse this statement"
   ]
  },
  {
   "cell_type": "code",
   "execution_count": null,
   "metadata": {},
   "outputs": [],
   "source": [
    "# Let's see if there is a difference in the average age between males and females\n",
    "# and between passengers in different cabin classes\n",
    "\n",
    "titanic_sap = titanic.select(\"sex\", \"pclass\", \"age\").take_complete_rows()\n",
    "titanic_sap.shape()"
   ]
  },
  {
   "cell_type": "code",
   "execution_count": null,
   "metadata": {},
   "outputs": [],
   "source": [
    "round(np.mean(titanic_sap.where(\"sex\", are.equal_to(\"male\")).column(\"age\")))"
   ]
  },
  {
   "cell_type": "code",
   "execution_count": null,
   "metadata": {},
   "outputs": [],
   "source": [
    "round(np.mean(titanic_sap.where(\"sex\", are.equal_to(\"female\")).column(\"age\")))\n",
    "\n",
    "# male passengers on average are two years older than female passengers"
   ]
  },
  {
   "cell_type": "code",
   "execution_count": null,
   "metadata": {},
   "outputs": [],
   "source": [
    "# Let's look at age versus cabin class\n",
    "\n",
    "round(np.mean(titanic_sap.where(\"pclass\", are.equal_to(1)).column(\"age\")))"
   ]
  },
  {
   "cell_type": "code",
   "execution_count": null,
   "metadata": {},
   "outputs": [],
   "source": [
    "round(np.mean(titanic_sap.where(\"pclass\", are.equal_to(3)).column(\"age\")))\n",
    "\n",
    "# Passengers in 1st class are on avergage much older than passengers in \n",
    "# 3rd class. Conjecture: passengers in 3rd class are emigrants who\n",
    "# tend to be young. There are other indications in the data supporting this\n",
    "# conjecture"
   ]
  },
  {
   "cell_type": "code",
   "execution_count": null,
   "metadata": {},
   "outputs": [],
   "source": [
    "# Let's save the titanic table for future use\n",
    "\n",
    "titanic_table_pathname = data_dir + \"titanic3-table.csv\"\n",
    "titanic.to_csv(\"titanic3_table_pathname\")"
   ]
  },
  {
   "cell_type": "code",
   "execution_count": null,
   "metadata": {
    "collapsed": true
   },
   "outputs": [],
   "source": []
  }
 ],
 "metadata": {
  "kernelspec": {
   "display_name": "Python 3",
   "language": "python",
   "name": "python3"
  },
  "language_info": {
   "codemirror_mode": {
    "name": "ipython",
    "version": 3
   },
   "file_extension": ".py",
   "mimetype": "text/x-python",
   "name": "python",
   "nbconvert_exporter": "python",
   "pygments_lexer": "ipython3",
   "version": "3.6.2"
  }
 },
 "nbformat": 4,
 "nbformat_minor": 2
}
