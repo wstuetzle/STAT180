{
 "cells": [
  {
   "cell_type": "markdown",
   "metadata": {},
   "source": [
    "# <span style=\"color:red\"> Looking at pairs of features </span>"
   ]
  },
  {
   "cell_type": "code",
   "execution_count": null,
   "metadata": {
    "collapsed": true
   },
   "outputs": [],
   "source": [
    "# !pip install datascience   # You need to un-comment this line when you\n",
    "                             # run the notebook on Azure"
   ]
  },
  {
   "cell_type": "code",
   "execution_count": null,
   "metadata": {
    "collapsed": true
   },
   "outputs": [],
   "source": [
    "# Import code libraries or \"modules\" in Python lingo\n",
    "\n",
    "import numpy as np\n",
    "import pandas as pd\n",
    "import matplotlib.pyplot as plt\n",
    "import seaborn as sns\n",
    "import importlib\n",
    "import sys\n",
    "from datascience import *\n",
    "sns.set_style(\"whitegrid\")\n",
    "%matplotlib inline"
   ]
  },
  {
   "cell_type": "markdown",
   "metadata": {},
   "source": [
    "**Note**\n",
    "\n",
    "If you want to run this notebook on Azure, its easiest to upload the notebook, the file \"datascience_extensions.py\" (on Canvas) and the file \"titanic3-table.csv\" (on Canvas) and then replace the next two cells (below) by a single code cell\n",
    "with the following two lines:\n",
    "\n",
    "from datascience_extensions import * <br>\n",
    "titanic = Table.read_table(\"titanic3-table.csv\")"
   ]
  },
  {
   "cell_type": "markdown",
   "metadata": {},
   "source": [
    "A summary of the methods to Table is [here](http://data8.org/datascience/tables.html) <br>\n",
    "A tutorial for the datascience module is [here](http://data8.org/datascience/tutorial.html) <br>\n",
    "A cheatsheet for the datascience module is [here](https://github.com/wstuetzle/STAT180/blob/master/Computing/data8_sp17_midterm_ref_sheet.pdf)"
   ]
  },
  {
   "cell_type": "code",
   "execution_count": null,
   "metadata": {},
   "outputs": [],
   "source": [
    "# Import some new methods for class Table\n",
    "# Add IDS directory to search path\n",
    "\n",
    "course_dir = \"/Users/wxs/Dropbox/IDS/Git-reps/STAT180/\"\n",
    "computing_dir = course_dir + \"Computing\"\n",
    "\n",
    "if computing_dir not in sys.path:\n",
    "    sys.path.append(computing_dir)\n",
    "\n",
    "from datascience_extensions import *\n",
    "\n",
    "# Reload the extensions after we make a change\n",
    "# Importing it again does not work - a module is imported only once\n",
    "module_name = \"datascience_extensions\"\n",
    "importlib.reload(sys.modules[module_name])"
   ]
  },
  {
   "cell_type": "markdown",
   "metadata": {},
   "source": [
    "A summary of the methods for Table is [here](http://data8.org/datascience/tables.html) <br>\n",
    "A tutorial for the datascience module is [here](http://data8.org/datascience/tutorial.html) <br>\n",
    "A cheatsheet for the datascience module is [here](https://github.com/wstuetzle/STAT180/blob/master/Computing/data8_sp17_midterm_ref_sheet.pdf)"
   ]
  },
  {
   "cell_type": "code",
   "execution_count": null,
   "metadata": {
    "collapsed": true
   },
   "outputs": [],
   "source": [
    "# Load the titanic table\n",
    "data_dir = course_dir + \"Data/\"\n",
    "titanic_filename = \"titanic3-table.csv\"\n",
    "titanic_pathname = data_dir + titanic_filename\n",
    "titanic = Table.read_table(titanic_pathname)"
   ]
  },
  {
   "cell_type": "code",
   "execution_count": null,
   "metadata": {},
   "outputs": [],
   "source": [
    "titanic.show(3)"
   ]
  },
  {
   "cell_type": "code",
   "execution_count": null,
   "metadata": {},
   "outputs": [],
   "source": [
    "titanic.shape()"
   ]
  },
  {
   "cell_type": "code",
   "execution_count": null,
   "metadata": {},
   "outputs": [],
   "source": [
    "# Let's make a subset of the Titanic data that has only the variables\n",
    "# of interest to us, and only complete rows\n",
    "\n",
    "titanic_sub = titanic.drop(\"name\", \"sibsp\", \"parch\", \"ticket\", \"fare\", \"cabin\", \"boat\", \n",
    "                           \"body\", \"home.dest\").take_complete_rows()\n",
    "titanic_sub.show(3)\n",
    "titanic_sub.shape()"
   ]
  },
  {
   "cell_type": "markdown",
   "metadata": {},
   "source": [
    "### <span style=\"color:blue\"> Feature types </span>\n",
    "\n",
    "We distinguish between\n",
    "\n",
    "* unordered categorical features (\"sex\", \"embarked\")\n",
    "* ordered categorical features (\"pclass\")\n",
    "* numerical features (\"age\")\n",
    "\n",
    "For unordered categorical features, values can be either the same or different.\n",
    "There are no notions of order or distance.\n",
    "\n",
    "For ordered categorical features, category c1 can be larger, the same, or smaller than category c2.\n",
    "\n",
    "For numerical features there are notions of order and distance - it makes sense to compute and compare differences between values."
   ]
  },
  {
   "cell_type": "markdown",
   "metadata": {},
   "source": [
    "### <span style=\"color:blue\"> Types of pairs </span>\n",
    "\n",
    "There are three possible types of pairs:\n",
    "\n",
    "* Both features categorical\n",
    "* One feature categorical, one feature numerical\n",
    "* Both features numerical"
   ]
  },
  {
   "cell_type": "markdown",
   "metadata": {},
   "source": [
    "### <span style=\"color:blue\"> Looking at a pair of categorical features </span>"
   ]
  },
  {
   "cell_type": "code",
   "execution_count": null,
   "metadata": {},
   "outputs": [],
   "source": [
    "# Consider the features \"pclass\" and \"survived\"\n",
    "# The \"pivot\" method finds the counts for the 6 combinations of categories\n",
    "\n",
    "pivot_table = titanic_sub.pivot(\"survived\", \"pclass\")\n",
    "pivot_table\n",
    "\n",
    "# There are 179 first class passengers who survived and 103 who did not, etc\n",
    "#\n",
    "# Note: The 1st argument specifies the columns, the 2nd specifies the rows\n",
    "#       unfortunate!"
   ]
  },
  {
   "cell_type": "code",
   "execution_count": null,
   "metadata": {},
   "outputs": [],
   "source": [
    "type(pivot_table)"
   ]
  },
  {
   "cell_type": "code",
   "execution_count": null,
   "metadata": {},
   "outputs": [],
   "source": [
    "pivot_table.labels"
   ]
  },
  {
   "cell_type": "code",
   "execution_count": null,
   "metadata": {},
   "outputs": [],
   "source": [
    "pivot_table.column(\"1.0\")"
   ]
  },
  {
   "cell_type": "markdown",
   "metadata": {},
   "source": [
    "**Conditional distributions**\n",
    "\n",
    "When looking at the two features \"pclass\" and \"survived\", the question of interest is whether the fraction of survivors is different for different cabin classes.\n",
    "\n",
    "If the fraction is different we say\n",
    "\n",
    "* \"There is an association between the features 'pclass' and 'survived',  or more informally\n",
    "* \"survival depends on cabin class\".\n",
    "\n",
    "To answer this questions, the table \"pclass_survived\" which has counts is not the most convenient. It would be more convenient to have the relative frequencies of survivors and casualties in each row. Let's compute that."
   ]
  },
  {
   "cell_type": "code",
   "execution_count": null,
   "metadata": {},
   "outputs": [],
   "source": [
    "# First define some new variables to make the code easier to read\n",
    "\n",
    "cond_dist = titanic_sub.pivot(\"survived\", \"pclass\")\n",
    "\n",
    "num_columns = cond_dist.num_columns\n",
    "num_rows = cond_dist.num_rows\n",
    "column_labels = cond_dist.labels\n",
    "\n",
    "print(\"number of rows = \" + str(num_rows))\n",
    "print(\"number of columns  = \" + str(num_columns))\n",
    "print(column_labels)\n"
   ]
  },
  {
   "cell_type": "code",
   "execution_count": null,
   "metadata": {},
   "outputs": [],
   "source": [
    "cond_dist"
   ]
  },
  {
   "cell_type": "code",
   "execution_count": null,
   "metadata": {},
   "outputs": [],
   "source": [
    "# Now let's replace the counts in each row by relative frequencies\n",
    "# First form an array containing the row sums\n",
    "\n",
    "# Google \"numpy fill array\"\n",
    "#\n",
    "row_sum = np.full(num_rows, 0)  # Makes an array with num_rows element, \n",
    "                                # all equal to 0\n",
    "\n",
    "for i in np.arange(1, num_columns):\n",
    "    row_sum = row_sum + cond_dist.column(i)\n",
    "\n",
    "row_sum"
   ]
  },
  {
   "cell_type": "code",
   "execution_count": null,
   "metadata": {},
   "outputs": [],
   "source": [
    "# Now divide each column by the row sums\n",
    "\n",
    "for column_index in range(1, num_columns):\n",
    "    the_column = cond_dist.column(column_index)\n",
    "    rel_freq = the_column / row_sum\n",
    "    cond_dist = cond_dist.with_column(column_labels[column_index], rel_freq)\n",
    "    \n",
    "conditional_given_pclass = cond_dist\n",
    "    \n",
    "conditional_given_pclass"
   ]
  },
  {
   "cell_type": "markdown",
   "metadata": {},
   "source": [
    "The row of cond_dist corresponding to pclass = 1 is called the **conditional distribution of survived, given\n",
    "pclass = 1**\n",
    "\n",
    "Clearly the conditional distributions of survived given pclass vary a lot between different values of pclass. We say\n",
    "\n",
    "1. \"There is an association between survived and pclass\"  or\n",
    "2. \"Survival depends in cabin class\"\n",
    "\n",
    "**Note:** \n",
    "\n",
    "Wording (2) suggests an asymmetry, a cause-and-effect relationship. However, association is a symmetric notion:\n",
    "\n",
    "If the conditional distribution of survived, given pclass depends on the value of pclass, then automatically the conditional distribution of pclass, given survived depends on the value of survived. This is a mathematical fact.\n",
    "\n",
    "As an illustration, lets compute the conditional distributions of pclass, given survived. We can use essentially the same code as above"
   ]
  },
  {
   "cell_type": "code",
   "execution_count": null,
   "metadata": {},
   "outputs": [],
   "source": [
    "cond_dist = titanic_sub.pivot(\"pclass\", \"survived\") # We exchanged the arguments\n",
    "\n",
    "num_columns = cond_dist.num_columns\n",
    "num_rows = cond_dist.num_rows\n",
    "column_labels = cond_dist.labels\n",
    "\n",
    "row_sum = np.full(num_rows, 0)  # Makes an array with num_rows element, \n",
    "                                # all equal to 0\n",
    "\n",
    "for i in np.arange(1, num_columns):\n",
    "    row_sum = row_sum + cond_dist.column(i)\n",
    "    \n",
    "for column_index in range(1, num_columns):\n",
    "    the_column = cond_dist.column(column_index)\n",
    "    rel_freq = the_column / row_sum\n",
    "    cond_dist = cond_dist.with_column(column_labels[column_index], rel_freq)\n",
    "    \n",
    "conditional_given_survived = cond_dist\n",
    "\n",
    "conditional_given_survived"
   ]
  },
  {
   "cell_type": "markdown",
   "metadata": {},
   "source": [
    "Casualties were more likely to in third class than in first class. For survivors the relationship is reversed."
   ]
  },
  {
   "cell_type": "markdown",
   "metadata": {
    "collapsed": true
   },
   "source": [
    "**We can visualize the pivot table counts or the conditional distributions**"
   ]
  },
  {
   "cell_type": "code",
   "execution_count": null,
   "metadata": {},
   "outputs": [],
   "source": [
    "# Showing the counts\n",
    "\n",
    "titanic_sub.pivot(\"survived\", \"pclass\").barh(\"pclass\")"
   ]
  },
  {
   "cell_type": "code",
   "execution_count": null,
   "metadata": {},
   "outputs": [],
   "source": [
    "# Sowing the conditional distributions\n",
    "\n",
    "conditional_given_pclass.barh(\"pclass\")"
   ]
  }
 ],
 "metadata": {
  "kernelspec": {
   "display_name": "Python 3",
   "language": "python",
   "name": "python3"
  },
  "language_info": {
   "codemirror_mode": {
    "name": "ipython",
    "version": 3
   },
   "file_extension": ".py",
   "mimetype": "text/x-python",
   "name": "python",
   "nbconvert_exporter": "python",
   "pygments_lexer": "ipython3",
   "version": "3.6.2"
  }
 },
 "nbformat": 4,
 "nbformat_minor": 2
}
