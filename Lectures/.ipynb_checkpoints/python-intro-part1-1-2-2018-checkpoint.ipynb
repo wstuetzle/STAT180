{
 "cells": [
  {
   "cell_type": "markdown",
   "metadata": {},
   "source": [
    "# <span style=\"color:red\"> Introduction to Python, Part 1  </span>\n",
    "\n",
    "\n",
    "###  <span style=\"color:blue\"> Why Python? </span>\n",
    "\n",
    "*  Python is well suited for \"exploratory programming\" - alternating between\n",
    "   *  writing and excuting small chunks of code\n",
    "   *  looking at the results and deciding what to do next\n",
    "\n",
    "\n",
    "*  There are many code libraries (\"modules\") that provide a wide range of functionality\n",
    "\n",
    "\n",
    "*  Python is more computationally efficient than its main competitor, the \"R\" language and system.\n",
    "\n",
    "\n",
    "We will write and execute Python code using Jupyter notebooks (like the one you are looking at)"
   ]
  },
  {
   "cell_type": "markdown",
   "metadata": {},
   "source": [
    "### <span style=\"color:blue\"> Jupyter notebooks </span>\n",
    "\n",
    "A Jupyter notebook consists of cells.\n",
    "There are two kinds of cells:\n",
    "*  **Markdown cells**, like the cell containing this text\n",
    "*  **Code cells** - the grey boxes you see below\n",
    "<br>\n",
    "<br>\n",
    "\n",
    "**Markdown cells**\n",
    "*  Contain text + formatting instructions \n",
    "*  Boxes around Markdown cells are not drawn\n",
    "*  To see \"source code\", double-click anywhere in the text\n",
    "*  To go back to formatted text, select and \"run\" the cell\n",
    "<br>\n",
    "<br>\n",
    "\n",
    "**Code cells** - the grey boxes you see below\n",
    "*  Contain Python code\n",
    "*  When you \"run\" a code cell, the output will appear below the cell\n",
    "\n",
    "[Jupyter Notebook Cheat Sheet](https://www.datacamp.com/community/data-science-cheatsheets)"
   ]
  },
  {
   "cell_type": "markdown",
   "metadata": {},
   "source": [
    "###  <span style=\"color:blue\"> Numbers and arithmetic </span>\n",
    "\n",
    "Python has two **basic number types**\n",
    "*  Integers (\"int\") as in ...-2, -1, 0, 1, 2,...\n",
    "*  Floating point numbers (\"float\") as in -1.75, 3.0,...\n",
    "\n",
    "Floats always have decimal points, integers never do\n",
    "\n",
    "**Arithmetic operations**\n",
    "*  \\**  exponentiation\n",
    "*  \\*   multiplication\n",
    "*  /    division\n",
    "*  \\+   addition \n",
    "*  \\-   subtraction\n",
    "\n",
    "\n",
    "**Operator precedence**\n",
    "*  Exponentiation takes precedence over multipication and division\n",
    "*  Multiplication and division take precedence over addition and subtraction\n"
   ]
  },
  {
   "cell_type": "code",
   "execution_count": null,
   "metadata": {},
   "outputs": [],
   "source": [
    "# Addition\n",
    "4 + 6  # Everything on a line after \"#\" is a comment and is ignored"
   ]
  },
  {
   "cell_type": "code",
   "execution_count": null,
   "metadata": {},
   "outputs": [],
   "source": [
    "# Subtraction\n",
    "4 - 6.0  # The result is a float because one of the operands is a float"
   ]
  },
  {
   "cell_type": "code",
   "execution_count": null,
   "metadata": {},
   "outputs": [],
   "source": [
    "# Multiplication\n",
    "4 * 6"
   ]
  },
  {
   "cell_type": "code",
   "execution_count": null,
   "metadata": {},
   "outputs": [],
   "source": [
    "# Division\n",
    "24 / 6  # The result of \"/\" is always a float"
   ]
  },
  {
   "cell_type": "code",
   "execution_count": null,
   "metadata": {},
   "outputs": [],
   "source": [
    "# Exponentiation\n",
    "2 ** 5"
   ]
  },
  {
   "cell_type": "code",
   "execution_count": null,
   "metadata": {},
   "outputs": [],
   "source": [
    "32 ** 0.2"
   ]
  },
  {
   "cell_type": "code",
   "execution_count": null,
   "metadata": {
    "collapsed": true
   },
   "outputs": [],
   "source": [
    "# 32 * * 0.2\n",
    "\n",
    "# * * is not an operator"
   ]
  },
  {
   "cell_type": "code",
   "execution_count": null,
   "metadata": {
    "collapsed": true
   },
   "outputs": [],
   "source": [
    "# 2.0 ** 10000\n",
    "\n",
    "# Floats have finite range"
   ]
  },
  {
   "cell_type": "code",
   "execution_count": null,
   "metadata": {},
   "outputs": [],
   "source": [
    "# Floats have finite precision (15 - 16 decimal places)\n",
    "1/3"
   ]
  },
  {
   "cell_type": "code",
   "execution_count": null,
   "metadata": {},
   "outputs": [],
   "source": [
    "# Trailing decimal places of float operations may be wrong\n",
    "1 + 10 ** -20"
   ]
  },
  {
   "cell_type": "code",
   "execution_count": null,
   "metadata": {},
   "outputs": [],
   "source": [
    "# This can lead to unxpected results\n",
    "1 - 1 + 10 ** -20  # Operations with the same precedence are carried out \n",
    "                   # left to right"
   ]
  },
  {
   "cell_type": "code",
   "execution_count": null,
   "metadata": {},
   "outputs": [],
   "source": [
    "1 - (1 - 10 ** -20)"
   ]
  },
  {
   "cell_type": "code",
   "execution_count": null,
   "metadata": {},
   "outputs": [],
   "source": [
    "(2 ** 0.5) * (2 ** 0.5) - 2  # Result should be 0"
   ]
  },
  {
   "cell_type": "code",
   "execution_count": null,
   "metadata": {},
   "outputs": [],
   "source": [
    "# In your head, order the results largest to smallest\n",
    "# We have to print the results explicity, because by default only \n",
    "# the result the value of the last expression in the cell is printed\n",
    "\n",
    "print(3 * 10 ** 10)\n",
    "print(10 * 3 ** 10)\n",
    "print((10 * 3) ** 10)\n",
    "print(10 / 3 / 10)\n",
    "print(10 / (3 / 10))"
   ]
  },
  {
   "cell_type": "markdown",
   "metadata": {},
   "source": [
    "### <span style=\"color:blue\"> Variables and assignment statements </span>"
   ]
  },
  {
   "cell_type": "code",
   "execution_count": null,
   "metadata": {
    "collapsed": true
   },
   "outputs": [],
   "source": [
    "fifi = 2 + 3   \n",
    "\n",
    "# is an \"assignment statement\". It defines a variable named\n",
    "# \"fifi\" and assigns it the value of the expression to the \n",
    "# right of the \"=\" sign\n",
    "\n",
    "# Variable names \n",
    "#   can contain letters, numbers, and underscore \"_\"\n",
    "#   have to start with a letter or with \"_\"\n",
    "#   Underscores are commonly in place of spaces, as in \n",
    "#   \"initial_investment\""
   ]
  },
  {
   "cell_type": "code",
   "execution_count": null,
   "metadata": {},
   "outputs": [],
   "source": [
    "fifi  \n",
    "\n",
    "# The variable \"fifi\" has the value 5"
   ]
  },
  {
   "cell_type": "code",
   "execution_count": null,
   "metadata": {},
   "outputs": [],
   "source": [
    "gaga  \n",
    "\n",
    "# We have not defined \"gaga\", hence the error message"
   ]
  },
  {
   "cell_type": "code",
   "execution_count": null,
   "metadata": {
    "collapsed": true
   },
   "outputs": [],
   "source": [
    "gaga = fifi + 2\n",
    "gaga\n",
    "\n",
    "# We defined a variable named \"gaga\" and assigned it the value\n",
    "# of the expression  fifi + 2, which is 7"
   ]
  },
  {
   "cell_type": "code",
   "execution_count": null,
   "metadata": {
    "collapsed": true
   },
   "outputs": [],
   "source": [
    "# Let's now assign a different value to fifi and see what happens \n",
    "# to gaga\n",
    "\n",
    "fifi = 100\n",
    "gaga\n",
    "\n",
    "# Changing the value of fifi did not change the value of gaga\n",
    "# The statement  gaga = fifi + 2  defined gaga and assigned it\n",
    "# the value of  fifi + 2  (7) at the time the assignment statement\n",
    "# was executed"
   ]
  },
  {
   "cell_type": "markdown",
   "metadata": {},
   "source": [
    "### <span style=\"color:blue\"> Exponential growth </span>\n",
    "\n",
    "Suppose we invest an initial capital of $10,000 and the annual return is 5%. How much money will we have after 30 years?"
   ]
  },
  {
   "cell_type": "code",
   "execution_count": null,
   "metadata": {
    "collapsed": true
   },
   "outputs": [],
   "source": [
    "initial_investment = 10000  # in $\n",
    "annual_return = 5/100       # in percent  \n",
    "duration = 30               # in years\n",
    "\n",
    "final_value_5 = initial_investment * (1 + annual_return) ** duration\n",
    "final_value_5"
   ]
  },
  {
   "cell_type": "code",
   "execution_count": null,
   "metadata": {
    "collapsed": true
   },
   "outputs": [],
   "source": [
    "# About $43,200\n",
    "# \n",
    "# Now let's do the same calculation for an annual return of \n",
    "# 4%\n",
    "\n",
    "annual_return = 4/100       # in percent \n",
    "\n",
    "final_value_4 = initial_investment * (1 + annual_return) ** duration\n",
    "final_value_4"
   ]
  },
  {
   "cell_type": "code",
   "execution_count": null,
   "metadata": {
    "collapsed": true
   },
   "outputs": [],
   "source": [
    "diff = final_value_5 - final_value_4\n",
    "percent_diff = 100 * diff / final_value_5\n",
    "print(diff)\n",
    "print(percent_diff)\n",
    "\n",
    "# The lower annual return would leave us with about 25% less money\n",
    "# at the end\n",
    "\n",
    "# Beware of managed mutual funds"
   ]
  },
  {
   "cell_type": "code",
   "execution_count": null,
   "metadata": {
    "collapsed": true
   },
   "outputs": [],
   "source": [
    "# Aside\n",
    "# Being charged a monthly interest rate of, say, 3% is worse \n",
    "# than being charged an annual rate of 12 * 3% = 36%\n",
    "\n",
    "monthly_rate = 3/100\n",
    "multiplier = (1 + monthly_rate)  ** 12\n",
    "multiplier\n",
    "\n",
    "# A monthly rate of 3% is equivalent to an annual rate of 43%, not\n",
    "# 36%."
   ]
  },
  {
   "cell_type": "markdown",
   "metadata": {},
   "source": [
    "### <span style = \"color:pink\"> An in-depth view of assignment </span>\n",
    "\n",
    "Opening a Jupyter notebook automatically starts the Python interpreter\n",
    "\n",
    "The Python interpreter is a program that reads statements written in the\n",
    "Python language and executes them.\n",
    "\n",
    "When the interpreter starts it creates a \"symbol table\" containing the names of all the variables that have been defined and their values. This symbol table is called the \"global symbol table\".\n",
    "\n",
    "When the interpreters sees an assignment statement, as in \"fifi = 5\"\n",
    "it checks whether the name \"fifi\" is already in the symbol table.\n",
    "\n",
    "If \"fifi\" is already in the symbol table, the interpreter changes the value of the variable named \"fifi\" to 5.\n",
    "\n",
    "If \"fifi\" is not in the symbol table, then the interpreter creates a new variable (a new entry in the table) with the name \"fifi\" and the value 5.\n",
    "\n",
    "When the interpreter sees an expression like \"fifi + 7\" it looks whether there is an entry for \"fifi\" in the symbol table.\n",
    "\n",
    "If there is no such entry then the interpreter generates an error message\n",
    "and stops processing the expression.\n",
    "\n",
    "If there is an entry with name \"fifi\" then the interpreter looks up the value associated with \"fifi\" and adds 7 to the value\n"
   ]
  },
  {
   "cell_type": "code",
   "execution_count": null,
   "metadata": {
    "collapsed": true
   },
   "outputs": [],
   "source": []
  }
 ],
 "metadata": {
  "kernelspec": {
   "display_name": "Python 3",
   "language": "python",
   "name": "python3"
  },
  "language_info": {
   "codemirror_mode": {
    "name": "ipython",
    "version": 3
   },
   "file_extension": ".py",
   "mimetype": "text/x-python",
   "name": "python",
   "nbconvert_exporter": "python",
   "pygments_lexer": "ipython3",
   "version": "3.6.1"
  }
 },
 "nbformat": 4,
 "nbformat_minor": 1
}
