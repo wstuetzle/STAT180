{
 "cells": [
  {
   "cell_type": "markdown",
   "metadata": {},
   "source": [
    "# <span style=\"color:red\"> Introduction to Python, Part 4 </span>"
   ]
  },
  {
   "cell_type": "code",
   "execution_count": 19,
   "metadata": {
    "collapsed": true
   },
   "outputs": [],
   "source": [
    "# !pip install datascience   # You need to un-comment this line when you\n",
    "                             # run the notebook on Azure"
   ]
  },
  {
   "cell_type": "code",
   "execution_count": 20,
   "metadata": {
    "collapsed": true
   },
   "outputs": [],
   "source": [
    "# Import code libraries or \"modules\" in Python lingo\n",
    "\n",
    "import numpy as np\n",
    "import pandas as pd\n",
    "import matplotlib.pyplot as plt\n",
    "import seaborn as sns\n",
    "import importlib\n",
    "import sys\n",
    "from datascience import *\n",
    "sns.set_style(\"whitegrid\")\n",
    "%matplotlib inline"
   ]
  },
  {
   "cell_type": "markdown",
   "metadata": {},
   "source": [
    "A summary of the methods to Table is [here](http://data8.org/datascience/tables.html) <br>\n",
    "A tutorial for the datascience module is [here](http://data8.org/datascience/tutorial.html) <br>\n",
    "A cheatsheet for the datascience module is [here](https://github.com/wstuetzle/STAT180/blob/master/Computing/data8_sp17_midterm_ref_sheet.pdf)"
   ]
  },
  {
   "cell_type": "markdown",
   "metadata": {},
   "source": [
    "**Note**\n",
    "\n",
    "If you want to run this notebook on Azure, its easiest to upload the notebook and the file \"datascience_extensions.py\" (on Canvas) and then replace the cell below by a code cell with the single line\n",
    "\n",
    "from datascience_extensions import * "
   ]
  },
  {
   "cell_type": "code",
   "execution_count": 21,
   "metadata": {},
   "outputs": [
    {
     "data": {
      "text/plain": [
       "<module 'datascience_extensions' from '/Users/wxs/Dropbox/IDS/Git-reps/STAT180/Lectures/datascience_extensions.py'>"
      ]
     },
     "execution_count": 21,
     "metadata": {},
     "output_type": "execute_result"
    }
   ],
   "source": [
    "# Import some new methods for class Table\n",
    "# Add IDS directory to search path\n",
    "\n",
    "course_dir = \"/Users/wxs/Dropbox/IDS/Git-reps/STAT180/\"\n",
    "computing_dir = course_dir + \"Computing\"\n",
    "\n",
    "if computing_dir not in sys.path:\n",
    "    sys.path.append(computing_dir)\n",
    "\n",
    "from datascience_extensions import *\n",
    "\n",
    "# Reload the extensions after we make a change\n",
    "# Importing it again does not work - a module is imported only once\n",
    "module_name = \"datascience_extensions\"\n",
    "importlib.reload(sys.modules[module_name])"
   ]
  },
  {
   "cell_type": "code",
   "execution_count": 22,
   "metadata": {},
   "outputs": [
    {
     "data": {
      "text/html": [
       "<table border=\"1\" class=\"dataframe\">\n",
       "    <thead>\n",
       "        <tr>\n",
       "            <th>pclass</th> <th>survived</th> <th>name</th> <th>sex</th> <th>age</th> <th>sibsp</th> <th>parch</th> <th>ticket</th> <th>fare</th> <th>cabin</th> <th>embarked</th> <th>boat</th> <th>body</th> <th>home.dest</th>\n",
       "        </tr>\n",
       "    </thead>\n",
       "    <tbody>\n",
       "        <tr>\n",
       "            <td>1     </td> <td>1       </td> <td>Allen, Miss. Elisabeth Walton </td> <td>female</td> <td>29    </td> <td>0    </td> <td>0    </td> <td>24160 </td> <td>211.338</td> <td>B5     </td> <td>S       </td> <td>2   </td> <td>nan </td> <td>St Louis, MO                   </td>\n",
       "        </tr>\n",
       "    </tbody>\n",
       "        <tr>\n",
       "            <td>1     </td> <td>1       </td> <td>Allison, Master. Hudson Trevor</td> <td>male  </td> <td>0.9167</td> <td>1    </td> <td>2    </td> <td>113781</td> <td>151.55 </td> <td>C22 C26</td> <td>S       </td> <td>11  </td> <td>nan </td> <td>Montreal, PQ / Chesterville, ON</td>\n",
       "        </tr>\n",
       "    </tbody>\n",
       "</table>\n",
       "<p>... (1307 rows omitted)</p"
      ],
      "text/plain": [
       "<IPython.core.display.HTML object>"
      ]
     },
     "metadata": {},
     "output_type": "display_data"
    },
    {
     "data": {
      "text/plain": [
       "[1309, 14]"
      ]
     },
     "execution_count": 22,
     "metadata": {},
     "output_type": "execute_result"
    }
   ],
   "source": [
    "# Read titanic-table.csv from URL\n",
    "titanic_table_url = \"https://github.com/wstuetzle/STAT180/raw/master/Data/titanic3-table.csv\"\n",
    "titanic = Table.read_table(titanic_table_url)\n",
    "titanic.show(2)\n",
    "titanic.shape()"
   ]
  },
  {
   "cell_type": "code",
   "execution_count": 23,
   "metadata": {},
   "outputs": [
    {
     "data": {
      "text/html": [
       "<table border=\"1\" class=\"dataframe\">\n",
       "    <thead>\n",
       "        <tr>\n",
       "            <th>pclass</th> <th>survived</th> <th>sex</th> <th>age</th> <th>embarked</th>\n",
       "        </tr>\n",
       "    </thead>\n",
       "    <tbody>\n",
       "        <tr>\n",
       "            <td>1     </td> <td>1       </td> <td>female</td> <td>29    </td> <td>S       </td>\n",
       "        </tr>\n",
       "    </tbody>\n",
       "        <tr>\n",
       "            <td>1     </td> <td>1       </td> <td>male  </td> <td>0.9167</td> <td>S       </td>\n",
       "        </tr>\n",
       "    </tbody>\n",
       "        <tr>\n",
       "            <td>1     </td> <td>0       </td> <td>female</td> <td>2     </td> <td>S       </td>\n",
       "        </tr>\n",
       "    </tbody>\n",
       "</table>\n",
       "<p>... (1041 rows omitted)</p"
      ],
      "text/plain": [
       "<IPython.core.display.HTML object>"
      ]
     },
     "metadata": {},
     "output_type": "display_data"
    },
    {
     "data": {
      "text/plain": [
       "[1044, 5]"
      ]
     },
     "execution_count": 23,
     "metadata": {},
     "output_type": "execute_result"
    }
   ],
   "source": [
    "# Let's make a subset of the Titanic data that has only the variables\n",
    "# of interest to us, and only complete rows\n",
    "\n",
    "titanic_sub = titanic.drop(\"name\", \"sibsp\", \"parch\", \"ticket\", \"fare\", \"cabin\", \"boat\", \n",
    "                           \"body\", \"home.dest\").take_complete_rows()\n",
    "titanic_sub.show(3)\n",
    "titanic_sub.shape()"
   ]
  },
  {
   "cell_type": "markdown",
   "metadata": {},
   "source": [
    "### <span style=\"color:blue\"> For statements </span>\n",
    "\n",
    "Perform a computation for  every element in a list or array"
   ]
  },
  {
   "cell_type": "code",
   "execution_count": 24,
   "metadata": {},
   "outputs": [
    {
     "name": "stdout",
     "output_type": "stream",
     "text": [
      "0\n",
      "1\n",
      "2\n",
      "3\n",
      "4\n",
      "Done\n"
     ]
    }
   ],
   "source": [
    "# Example:\n",
    "\n",
    "sequence = np.arange(5)\n",
    "for index in sequence:\n",
    "    print(index)\n",
    "print(\"Done\")"
   ]
  },
  {
   "cell_type": "code",
   "execution_count": 25,
   "metadata": {},
   "outputs": [
    {
     "name": "stdout",
     "output_type": "stream",
     "text": [
      "M\n",
      "T\n",
      "W\n",
      "Th\n",
      "F\n"
     ]
    }
   ],
   "source": [
    "# Example:\n",
    "\n",
    "weekdays = [\"M\", \"T\", \"W\", \"Th\", \"F\"]\n",
    "for day in weekdays:\n",
    "    print(day)"
   ]
  },
  {
   "cell_type": "code",
   "execution_count": 26,
   "metadata": {},
   "outputs": [
    {
     "data": {
      "text/plain": [
       "list"
      ]
     },
     "execution_count": 26,
     "metadata": {},
     "output_type": "execute_result"
    }
   ],
   "source": [
    "type(weekdays)"
   ]
  },
  {
   "cell_type": "markdown",
   "metadata": {},
   "source": [
    "**Note:** The indented statements below the \"for ....\" line are called the body of the loop. The body has to be indented (tab or 4 spaces). A non-indented statement indicates the end of the body."
   ]
  },
  {
   "cell_type": "code",
   "execution_count": 27,
   "metadata": {},
   "outputs": [
    {
     "data": {
      "text/html": [
       "<table border=\"1\" class=\"dataframe\">\n",
       "    <thead>\n",
       "        <tr>\n",
       "            <th>pclass</th> <th>0.0</th> <th>1.0</th>\n",
       "        </tr>\n",
       "    </thead>\n",
       "    <tbody>\n",
       "        <tr>\n",
       "            <td>1     </td> <td>0.365248</td> <td>0.634752</td>\n",
       "        </tr>\n",
       "    </tbody>\n",
       "        <tr>\n",
       "            <td>2     </td> <td>0.559387</td> <td>0.440613</td>\n",
       "        </tr>\n",
       "    </tbody>\n",
       "        <tr>\n",
       "            <td>3     </td> <td>0.738523</td> <td>0.261477</td>\n",
       "        </tr>\n",
       "    </tbody>\n",
       "</table>"
      ],
      "text/plain": [
       "pclass | 0.0      | 1.0\n",
       "1      | 0.365248 | 0.634752\n",
       "2      | 0.559387 | 0.440613\n",
       "3      | 0.738523 | 0.261477"
      ]
     },
     "execution_count": 27,
     "metadata": {},
     "output_type": "execute_result"
    }
   ],
   "source": [
    "# Example: For the titanic data, compute the conditional distribution\n",
    "# of survived, given pclass\n",
    "\n",
    "cond_dist = titanic_sub.pivot(\"survived\", \"pclass\")\n",
    "num_rows = cond_dist.num_rows\n",
    "num_columns = cond_dist.num_columns\n",
    "column_labels = cond_dist.labels\n",
    "row_sum = np.full(num_rows, 0)  # Makes an array with num_rows elements, \n",
    "                                # all equal to 0\n",
    "for i in np.arange(1, num_columns):\n",
    "    row_sum = row_sum + cond_dist.column(i)\n",
    "\n",
    "for column_index in np.arange(1, num_columns):\n",
    "    the_column = cond_dist.column(column_index)\n",
    "    rel_freq = the_column / row_sum\n",
    "    cond_dist = cond_dist.with_column(column_labels[column_index], rel_freq)\n",
    "    \n",
    "conditional_given_pclass = cond_dist\n",
    "conditional_given_pclass"
   ]
  },
  {
   "cell_type": "markdown",
   "metadata": {},
   "source": [
    "### <span style=\"color:blue\"> Defining functions </span>\n",
    "\n",
    "Functions are a means of packaging computations. Above is block of Python code that computes the conditional distributions of survived, given pclass. We might also be interested in the conditional distributions of survived, given sex, or the conditional distributions of sex given pclass, or....\n",
    "\n",
    "The code to calulate any of these would be essentially the same - only the names of the features would change.\n",
    "We could copy the code block and change the feature names, but that would be error prone and needlessly repetitive."
   ]
  },
  {
   "cell_type": "code",
   "execution_count": 28,
   "metadata": {},
   "outputs": [
    {
     "data": {
      "text/plain": [
       "10"
      ]
     },
     "execution_count": 28,
     "metadata": {},
     "output_type": "execute_result"
    }
   ],
   "source": [
    "# Here is a simple function definition\n",
    "\n",
    "def double (arg):\n",
    "    '''Double the argument''' \n",
    "    result = 2 * arg\n",
    "    return result\n",
    "\n",
    "double(5)\n",
    "    "
   ]
  },
  {
   "cell_type": "code",
   "execution_count": 37,
   "metadata": {
    "collapsed": true
   },
   "outputs": [],
   "source": [
    "# Show signature and docstring\n",
    "double?"
   ]
  },
  {
   "cell_type": "code",
   "execution_count": 42,
   "metadata": {
    "collapsed": true
   },
   "outputs": [],
   "source": [
    "# A more complex example\n",
    "\n",
    "def double_with_twist (x):\n",
    "    '''Illustrate that functions have their own symbol tables'''\n",
    "    result = 2 * x\n",
    "    a = x\n",
    "    x = \"changed argument\" \n",
    "    print(\"x inside function = \" + str(x))\n",
    "    print(\"a inside function = \" + str(a))          \n",
    "    return result"
   ]
  },
  {
   "cell_type": "code",
   "execution_count": 43,
   "metadata": {},
   "outputs": [
    {
     "name": "stdout",
     "output_type": "stream",
     "text": [
      "x inside function = changed argument\n",
      "a inside function = 5\n",
      "y = 10\n",
      "a = 7\n",
      "x = 5\n"
     ]
    }
   ],
   "source": [
    "a = 7\n",
    "x = 5\n",
    "y = double_with_twist(x)\n",
    "print(\"y = \" + str(y))\n",
    "print(\"a = \" + str(a))\n",
    "print(\"x = \" + str(x))"
   ]
  },
  {
   "cell_type": "markdown",
   "metadata": {},
   "source": [
    "**Note**<br> Even though x and a were assigned values \"changed argument\" and 5 inside the function, that did not change the global values of x and a.\n",
    "\n",
    "**Conceptually** <br>\n",
    "\n",
    "* The function \"double_with_twist\" has its own symbol table containing variables named \"x\", \"a\", \"result\".\n",
    "* When \"double_with_twist\" is called, the value of \"x\" is set to the value passed in by the function call (5, in our case)\n",
    "\n",
    "* The statements in the body of \"double_with_twist\" are executed\n",
    "\n",
    "* The result is passed back, and the values of the symbols in the symbol table of \"double_with_twist\" are forgotten\n",
    "\n",
    "\n"
   ]
  },
  {
   "cell_type": "code",
   "execution_count": 32,
   "metadata": {
    "collapsed": true
   },
   "outputs": [],
   "source": [
    "# An example for what not to do\n",
    "\n",
    "def multiply_by_factor(arg):\n",
    "    product = factor * arg\n",
    "    return product"
   ]
  },
  {
   "cell_type": "code",
   "execution_count": 33,
   "metadata": {
    "collapsed": true
   },
   "outputs": [],
   "source": [
    "# x = 5\n",
    "# result = multiply_by_factor(x)\n",
    "# print(result)\n",
    "\n",
    "# That bombs because factor is not an argument and is not defined inside the function\n",
    "# The variable named \"factor\" is a \"free variable\" in \"multiply_by_factor\""
   ]
  },
  {
   "cell_type": "code",
   "execution_count": 34,
   "metadata": {},
   "outputs": [
    {
     "name": "stdout",
     "output_type": "stream",
     "text": [
      "50\n"
     ]
    }
   ],
   "source": [
    "# Let's define a global variable named \"factor\"\n",
    "\n",
    "x = 5\n",
    "factor = 10\n",
    "result = multiply_by_factor(x)\n",
    "print(result)\n"
   ]
  },
  {
   "cell_type": "markdown",
   "metadata": {},
   "source": [
    "**What's happening?** <br>\n",
    "The value of \"factor\" in the symbol table of \"multiply_by_factor\" is undefined. So the interpreter looks for a variable named \"factor\" in the global symbol table and uses its value.\n",
    "\n",
    "This is **bad**: The result returned by a function should depend only on its arguments.\n",
    "\n",
    "**Note** There are exceptions, and the explanation is only correct if all the functions are defined in the global environment - no functions defined within functions."
   ]
  },
  {
   "cell_type": "markdown",
   "metadata": {},
   "source": [
    "### <span style=\"color:blue\"> A more realistic example for a function definition </span>\n",
    "\n",
    "Let's package the computation of conditional distributions into a function"
   ]
  },
  {
   "cell_type": "code",
   "execution_count": 35,
   "metadata": {
    "collapsed": true
   },
   "outputs": [],
   "source": [
    "def conditional_distribution(table, feature, given_feature):\n",
    "    '''For the dataset table calculate the conditional distributions of a \n",
    "    categorical feature, given another categorical feature'''\n",
    "    cond_dist = table.pivot(feature, given_feature)\n",
    "    num_rows = cond_dist.num_rows\n",
    "    num_columns = cond_dist.num_columns\n",
    "    column_labels = cond_dist.labels\n",
    "    row_sum = np.full(num_rows, 0) \n",
    "    for i in np.arange(1, num_columns):\n",
    "        row_sum = row_sum + cond_dist.column(i)\n",
    "    for column_index in np.arange(1, num_columns):\n",
    "        the_column = cond_dist.column(column_index)\n",
    "        rel_freq = the_column / row_sum\n",
    "        cond_dist = cond_dist.with_column(column_labels[column_index], rel_freq)\n",
    "    return cond_dist\n"
   ]
  },
  {
   "cell_type": "code",
   "execution_count": 36,
   "metadata": {},
   "outputs": [
    {
     "data": {
      "text/html": [
       "<table border=\"1\" class=\"dataframe\">\n",
       "    <thead>\n",
       "        <tr>\n",
       "            <th>pclass</th> <th>0.0</th> <th>1.0</th>\n",
       "        </tr>\n",
       "    </thead>\n",
       "    <tbody>\n",
       "        <tr>\n",
       "            <td>1     </td> <td>0.365248</td> <td>0.634752</td>\n",
       "        </tr>\n",
       "    </tbody>\n",
       "        <tr>\n",
       "            <td>2     </td> <td>0.559387</td> <td>0.440613</td>\n",
       "        </tr>\n",
       "    </tbody>\n",
       "        <tr>\n",
       "            <td>3     </td> <td>0.738523</td> <td>0.261477</td>\n",
       "        </tr>\n",
       "    </tbody>\n",
       "</table>"
      ],
      "text/plain": [
       "pclass | 0.0      | 1.0\n",
       "1      | 0.365248 | 0.634752\n",
       "2      | 0.559387 | 0.440613\n",
       "3      | 0.738523 | 0.261477"
      ]
     },
     "execution_count": 36,
     "metadata": {},
     "output_type": "execute_result"
    }
   ],
   "source": [
    "conditional_distribution(titanic_sub, \"survived\", \"pclass\")"
   ]
  },
  {
   "cell_type": "code",
   "execution_count": null,
   "metadata": {
    "collapsed": true
   },
   "outputs": [],
   "source": []
  },
  {
   "cell_type": "code",
   "execution_count": null,
   "metadata": {
    "collapsed": true
   },
   "outputs": [],
   "source": []
  }
 ],
 "metadata": {
  "kernelspec": {
   "display_name": "Python 3",
   "language": "python",
   "name": "python3"
  },
  "language_info": {
   "codemirror_mode": {
    "name": "ipython",
    "version": 3
   },
   "file_extension": ".py",
   "mimetype": "text/x-python",
   "name": "python",
   "nbconvert_exporter": "python",
   "pygments_lexer": "ipython3",
   "version": "3.6.1"
  }
 },
 "nbformat": 4,
 "nbformat_minor": 2
}
