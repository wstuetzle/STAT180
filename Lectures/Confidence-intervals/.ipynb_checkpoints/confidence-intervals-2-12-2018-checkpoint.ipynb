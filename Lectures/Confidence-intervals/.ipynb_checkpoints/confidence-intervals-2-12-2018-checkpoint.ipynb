{
 "cells": [
  {
   "cell_type": "markdown",
   "metadata": {},
   "source": [
    "# <span style=\"color:red\"> Confidence intervals </span>"
   ]
  },
  {
   "cell_type": "code",
   "execution_count": null,
   "metadata": {
    "collapsed": true
   },
   "outputs": [],
   "source": [
    "# Import modules \n",
    "\n",
    "import numpy as np\n",
    "from datascience import *\n",
    "# from datascience_extensions import *\n",
    "import seaborn as sns\n",
    "sns.set_style(\"whitegrid\")\n",
    "%matplotlib inline\n",
    "import os.path"
   ]
  },
  {
   "cell_type": "markdown",
   "metadata": {},
   "source": [
    "A summary of the methods for Table is [here](http://data8.org/datascience/tables.html) <br>\n",
    "A tutorial for the datascience module is [here](http://data8.org/datascience/tutorial.html) <br>\n",
    "A cheatsheet for the datascience module is [here](https://github.com/wstuetzle/STAT180/blob/master/Computing/data8_sp17_midterm_ref_sheet.pdf)"
   ]
  },
  {
   "cell_type": "markdown",
   "metadata": {},
   "source": [
    "### <span style=\"color:blue\"> Confidence intervals for a population mean </span>\n",
    "\n",
    "Let mu denote the population mean and sigma denote the population standard deviation. In the chapter on Sampling we found that approximately 95% of sample means of random samples of size n fall in the interval\n",
    "\n",
    "[mu - 2 sigma / n^0.5, mu + 2 sigma / n^0.5].\n",
    "\n",
    "<br>\n",
    "\n",
    "We can rephrase that: Let xbar be the mean of a random sample of size n. For sufficienly large n, the interval\n",
    "\n",
    "[xbar - 2 sigma / n^0.5, xbar + 2 sigma / n^0.5]\n",
    "\n",
    "has approximately a 95% chance of containing the population mean mu.\n",
    "\n",
    "** Note **: This is a random interval because it is centered at the sample mean xbar.\n",
    "\n",
    "<br>\n",
    "\n",
    "In practice we do not know the population standard deviation sigma. An obvious way out is to estimate sigma\n",
    "by the standard deviation of the sample - let's call that sigma_hat. For sufficiently large sample size n, sigma_hat will be close to sigma, and therefore the interval\n",
    "\n",
    "[xbar - 2 sigma_hat / n^0.5, xbar + 2 sigma_hat / n^0.5]\n",
    "\n",
    "has approximately a 95% chance of containing the population mean mu.\n",
    "\n",
    "<br>\n",
    "\n",
    "** The (random) interval [xbar - 2 sigma_hat / n^0.5, xbar + 2 sigma_hat / n^0.5] is a 95% confidence interval for the population mean mu. **"
   ]
  },
  {
   "cell_type": "code",
   "execution_count": null,
   "metadata": {
    "collapsed": true
   },
   "outputs": [],
   "source": []
  },
  {
   "cell_type": "markdown",
   "metadata": {},
   "source": [
    "### <span style=\"color:blue\"> Experiment with confidence intervals for a population mean </span>\n",
    "\n",
    "Use the flight delay data as in the \"Sampling\" chapter. \n",
    "\n",
    "Draw 100,000 samples each for sample sizes [4, 16, 64, 256, 1024].\n",
    "\n",
    "For each sample size \n",
    "\n",
    "* Compute the 100,000 sample means, the 100,000 sample stds, and the 100,000 confidence intervals.\n",
    "\n",
    "* Compute the percentage of confidence intervals that contain the population mean.\n"
   ]
  },
  {
   "cell_type": "code",
   "execution_count": null,
   "metadata": {},
   "outputs": [],
   "source": [
    "delay_tab = Table.read_table(\"https://github.com/wstuetzle/STAT180/raw/master/\\\n",
    "Lectures/Sampling/united.csv\")\n",
    "N = delay_tab.num_rows\n",
    "\n",
    "Population = delay_tab.where(\"Delay\", are.below(100)).select(\"Delay\")\n",
    "N = Population.num_rows\n",
    "Population_mean = np.mean(Population.column(\"Delay\"))\n",
    "\n",
    "# Choose sample sizes and number or samples to be drawn\n",
    "\n",
    "sample_sizes = [4, 16, 64, 256, 1024]\n",
    "num_samples = 100000    \n",
    "\n",
    "means = np.zeros(num_samples)\n",
    "stds = np.zeros(num_samples)\n",
    "\n",
    "def evaluate_mean_std_for_random_samples(sample_size, num_samples, with_replacement = True):\n",
    "    sample_means = np.zeros(num_samples)\n",
    "    sample_stds = np.zeros(num_samples)\n",
    "    for i in range(num_samples):\n",
    "        sample = Population.sample(sample_size, with_replacement)\n",
    "        sample_means[i] = np.mean(sample.column(\"Delay\"))\n",
    "        sample_stds[i] = np.std(sample.column(\"Delay\"))\n",
    "        if i % 10000 == 0:\n",
    "            print(str(i) + \" \", end = \"\")\n",
    "    return([sample_means, sample_stds])\n",
    "\n"
   ]
  },
  {
   "cell_type": "code",
   "execution_count": null,
   "metadata": {},
   "outputs": [],
   "source": [
    "mean_std_filename = \"mean-std.csv\"\n",
    "file_exists = os.path.isfile(mean_std_filename)\n",
    "if file_exists:\n",
    "    mean_std_tab = Table.read_table(mean_std_filename)\n",
    "\n",
    "if not file_exists: \n",
    "    mean_std_tab = Table()\n",
    "    for n in sample_sizes:\n",
    "        evaluate_out = evaluate_mean_std_for_random_samples(n, num_samples)\n",
    "        mean_estimates = evaluate_out[0]\n",
    "        std_estimates = evaluate_out[1]\n",
    "        mean_std_tab = mean_std_tab.with_column(str(n) + \"-mean\", mean_estimates)\\\n",
    "                                    .with_column(str(n) + \"-std\", std_estimates)\n",
    "    \n",
    "    mean_std_tab.to_csv(mean_std_filename)\n",
    "\n",
    "mean_std_tab.show(5)"
   ]
  },
  {
   "cell_type": "code",
   "execution_count": null,
   "metadata": {},
   "outputs": [],
   "source": [
    "# Compute coverage probabilities\n",
    "\n",
    "for n in sample_sizes:\n",
    "    mean_label = str(n) + \"-mean\"\n",
    "    std_label = str(n) + \"-std\"\n",
    "    sample_means = mean_std_tab.column(mean_label)\n",
    "    sample_stds = mean_std_tab.column(std_label)\n",
    "    ci_limits = Table().with_columns(\"lower\", sample_means - 2 * sample_stds / n ** (0.5),\\\n",
    "                                     \"upper\", sample_means + 2 * sample_stds / n ** (0.5))\n",
    "    cover_count = ci_limits.where(\"lower\", are.below(Population_mean))\\\n",
    "                           .where(\"upper\", are.above(Population_mean)).num_rows\n",
    "    print(\"n = \" + str(n) + \"   cover percentage = \" + str(100 * cover_count / num_samples))"
   ]
  },
  {
   "cell_type": "code",
   "execution_count": null,
   "metadata": {
    "collapsed": true
   },
   "outputs": [],
   "source": []
  }
 ],
 "metadata": {
  "kernelspec": {
   "display_name": "Python 3",
   "language": "python",
   "name": "python3"
  },
  "language_info": {
   "codemirror_mode": {
    "name": "ipython",
    "version": 3
   },
   "file_extension": ".py",
   "mimetype": "text/x-python",
   "name": "python",
   "nbconvert_exporter": "python",
   "pygments_lexer": "ipython3",
   "version": "3.6.1"
  },
  "varInspector": {
   "cols": {
    "lenName": 16,
    "lenType": 16,
    "lenVar": 40
   },
   "kernels_config": {
    "python": {
     "delete_cmd_postfix": "",
     "delete_cmd_prefix": "del ",
     "library": "var_list.py",
     "varRefreshCmd": "print(var_dic_list())"
    },
    "r": {
     "delete_cmd_postfix": ") ",
     "delete_cmd_prefix": "rm(",
     "library": "var_list.r",
     "varRefreshCmd": "cat(var_dic_list()) "
    }
   },
   "types_to_exclude": [
    "module",
    "function",
    "builtin_function_or_method",
    "instance",
    "_Feature"
   ],
   "window_display": false
  }
 },
 "nbformat": 4,
 "nbformat_minor": 2
}
