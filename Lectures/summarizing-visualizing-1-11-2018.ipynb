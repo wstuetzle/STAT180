{
 "cells": [
  {
   "cell_type": "markdown",
   "metadata": {},
   "source": [
    "# <span style=\"color:red\"> Summarizing and visualizing features </span>"
   ]
  },
  {
   "cell_type": "code",
   "execution_count": 60,
   "metadata": {},
   "outputs": [
    {
     "name": "stdout",
     "output_type": "stream",
     "text": [
      "Requirement already satisfied: datascience in /Users/wxs/anaconda/lib/python3.6/site-packages\n",
      "Requirement already satisfied: coverage==3.7.1 in /Users/wxs/anaconda/lib/python3.6/site-packages (from datascience)\n",
      "Requirement already satisfied: pytest in /Users/wxs/anaconda/lib/python3.6/site-packages (from datascience)\n",
      "Requirement already satisfied: folium==0.1.5 in /Users/wxs/anaconda/lib/python3.6/site-packages (from datascience)\n",
      "Requirement already satisfied: sphinx in /Users/wxs/anaconda/lib/python3.6/site-packages/Sphinx-1.5.6-py3.6.egg (from datascience)\n",
      "Requirement already satisfied: setuptools in /Users/wxs/anaconda/lib/python3.6/site-packages/setuptools-27.2.0-py3.6.egg (from datascience)\n",
      "Requirement already satisfied: coveralls==0.5 in /Users/wxs/anaconda/lib/python3.6/site-packages (from datascience)\n",
      "Requirement already satisfied: py>=1.4.29 in /Users/wxs/anaconda/lib/python3.6/site-packages (from pytest->datascience)\n",
      "Requirement already satisfied: six>=1.5 in /Users/wxs/anaconda/lib/python3.6/site-packages (from sphinx->datascience)\n",
      "Requirement already satisfied: Jinja2>=2.3 in /Users/wxs/anaconda/lib/python3.6/site-packages (from sphinx->datascience)\n",
      "Requirement already satisfied: Pygments>=2.0 in /Users/wxs/anaconda/lib/python3.6/site-packages (from sphinx->datascience)\n",
      "Requirement already satisfied: docutils>=0.11 in /Users/wxs/anaconda/lib/python3.6/site-packages (from sphinx->datascience)\n",
      "Requirement already satisfied: snowballstemmer>=1.1 in /Users/wxs/anaconda/lib/python3.6/site-packages (from sphinx->datascience)\n",
      "Requirement already satisfied: babel!=2.0,>=1.3 in /Users/wxs/anaconda/lib/python3.6/site-packages (from sphinx->datascience)\n",
      "Requirement already satisfied: alabaster<0.8,>=0.7 in /Users/wxs/anaconda/lib/python3.6/site-packages (from sphinx->datascience)\n",
      "Requirement already satisfied: imagesize in /Users/wxs/anaconda/lib/python3.6/site-packages (from sphinx->datascience)\n",
      "Requirement already satisfied: requests>=2.0.0 in /Users/wxs/anaconda/lib/python3.6/site-packages (from sphinx->datascience)\n",
      "Requirement already satisfied: PyYAML>=3.10 in /Users/wxs/anaconda/lib/python3.6/site-packages (from coveralls==0.5->datascience)\n",
      "Requirement already satisfied: docopt>=0.6.1 in /Users/wxs/anaconda/lib/python3.6/site-packages (from coveralls==0.5->datascience)\n",
      "Requirement already satisfied: MarkupSafe>=0.23 in /Users/wxs/anaconda/lib/python3.6/site-packages (from Jinja2>=2.3->sphinx->datascience)\n",
      "Requirement already satisfied: pytz>=0a in /Users/wxs/anaconda/lib/python3.6/site-packages (from babel!=2.0,>=1.3->sphinx->datascience)\n"
     ]
    }
   ],
   "source": [
    "!pip install datascience"
   ]
  },
  {
   "cell_type": "code",
   "execution_count": 61,
   "metadata": {
    "collapsed": true
   },
   "outputs": [],
   "source": [
    "# Import code libraries or \"modules\" in Python lingo\n",
    "\n",
    "import numpy as np\n",
    "import pandas as pd\n",
    "import matplotlib.pyplot as plt\n",
    "import seaborn as sns\n",
    "import importlib\n",
    "import sys\n",
    "from datascience import *\n",
    "sns.set_style(\"whitegrid\")\n",
    "%matplotlib inline"
   ]
  },
  {
   "cell_type": "markdown",
   "metadata": {},
   "source": [
    "A summary of the methods for Table is [here](http://data8.org/datascience/tables.html) <br>\n",
    "A tutorial for the datascience module is [here](http://data8.org/datascience/tutorial.html) <br>\n",
    "A cheatsheet for the datascience module is [here](https://github.com/wstuetzle/STAT180/blob/master/Computing/data8_sp17_midterm_ref_sheet.pdf)"
   ]
  },
  {
   "cell_type": "markdown",
   "metadata": {},
   "source": [
    "**Note**\n",
    "\n",
    "If you want to run this notebook on Azure, its easiest to upload the notebook, the file \"datascience_extensions.py\" (on Canvas) and the file \"titanic3-table.csv\" (on Canvas) and then replace the next two cells (below) by a single code cell\n",
    "with the following two lines:\n",
    "\n",
    "from datascience_extensions import * <br>\n",
    "titanic = Table.read_table(\"titanic3-table.csv\")"
   ]
  },
  {
   "cell_type": "code",
   "execution_count": 62,
   "metadata": {},
   "outputs": [
    {
     "data": {
      "text/plain": [
       "<module 'datascience_extensions' from '/Users/wxs/Dropbox/IDS/Git-reps/STAT180/Lectures/datascience_extensions.py'>"
      ]
     },
     "execution_count": 62,
     "metadata": {},
     "output_type": "execute_result"
    }
   ],
   "source": [
    "# Import some new methods for class Table\n",
    "# Add IDS directory to search path\n",
    "\n",
    "course_dir = \"/Users/wxs/Dropbox/IDS/Git-reps/STAT180/\"\n",
    "computing_dir = course_dir + \"Computing\"\n",
    "\n",
    "if computing_dir not in sys.path:\n",
    "    sys.path.append(computing_dir)\n",
    "\n",
    "from datascience_extensions import *\n",
    "\n",
    "# Reload the extensions after we make a change\n",
    "# Importing it again does not work - a module is imported only once\n",
    "module_name = \"datascience_extensions\"\n",
    "importlib.reload(sys.modules[module_name])"
   ]
  },
  {
   "cell_type": "markdown",
   "metadata": {},
   "source": [
    "Detailed documentation for class Table is [here](http://data8.org/datascience/tables.html)"
   ]
  },
  {
   "cell_type": "code",
   "execution_count": 63,
   "metadata": {
    "collapsed": true
   },
   "outputs": [],
   "source": [
    "# Load the titanic table\n",
    "data_dir = course_dir + \"Data/\"\n",
    "titanic_filename = \"titanic3-table.csv\"\n",
    "titanic_pathname = data_dir + titanic_filename\n",
    "titanic = Table.read_table(titanic_pathname)"
   ]
  },
  {
   "cell_type": "code",
   "execution_count": 64,
   "metadata": {},
   "outputs": [
    {
     "data": {
      "text/html": [
       "<table border=\"1\" class=\"dataframe\">\n",
       "    <thead>\n",
       "        <tr>\n",
       "            <th>pclass</th> <th>survived</th> <th>name</th> <th>sex</th> <th>age</th> <th>sibsp</th> <th>parch</th> <th>ticket</th> <th>fare</th> <th>cabin</th> <th>embarked</th> <th>boat</th> <th>body</th> <th>home.dest</th>\n",
       "        </tr>\n",
       "    </thead>\n",
       "    <tbody>\n",
       "        <tr>\n",
       "            <td>1     </td> <td>1       </td> <td>Allen, Miss. Elisabeth Walton </td> <td>female</td> <td>29    </td> <td>0    </td> <td>0    </td> <td>24160 </td> <td>211.338</td> <td>B5     </td> <td>S       </td> <td>2   </td> <td>nan </td> <td>St Louis, MO                   </td>\n",
       "        </tr>\n",
       "    </tbody>\n",
       "        <tr>\n",
       "            <td>1     </td> <td>1       </td> <td>Allison, Master. Hudson Trevor</td> <td>male  </td> <td>0.9167</td> <td>1    </td> <td>2    </td> <td>113781</td> <td>151.55 </td> <td>C22 C26</td> <td>S       </td> <td>11  </td> <td>nan </td> <td>Montreal, PQ / Chesterville, ON</td>\n",
       "        </tr>\n",
       "    </tbody>\n",
       "        <tr>\n",
       "            <td>1     </td> <td>0       </td> <td>Allison, Miss. Helen Loraine  </td> <td>female</td> <td>2     </td> <td>1    </td> <td>2    </td> <td>113781</td> <td>151.55 </td> <td>C22 C26</td> <td>S       </td> <td>nan </td> <td>nan </td> <td>Montreal, PQ / Chesterville, ON</td>\n",
       "        </tr>\n",
       "    </tbody>\n",
       "</table>"
      ],
      "text/plain": [
       "pclass | survived | name                           | sex    | age    | sibsp | parch | ticket | fare    | cabin   | embarked | boat | body | home.dest\n",
       "1      | 1        | Allen, Miss. Elisabeth Walton  | female | 29     | 0     | 0     | 24160  | 211.338 | B5      | S        | 2    | nan  | St Louis, MO\n",
       "1      | 1        | Allison, Master. Hudson Trevor | male   | 0.9167 | 1     | 2     | 113781 | 151.55  | C22 C26 | S        | 11   | nan  | Montreal, PQ / Chesterville, ON\n",
       "1      | 0        | Allison, Miss. Helen Loraine   | female | 2      | 1     | 2     | 113781 | 151.55  | C22 C26 | S        | nan  | nan  | Montreal, PQ / Chesterville, ON"
      ]
     },
     "execution_count": 64,
     "metadata": {},
     "output_type": "execute_result"
    }
   ],
   "source": [
    "titanic.take(make_array(0, 1, 2))"
   ]
  },
  {
   "cell_type": "code",
   "execution_count": 65,
   "metadata": {},
   "outputs": [
    {
     "data": {
      "text/plain": [
       "[1309, 14]"
      ]
     },
     "execution_count": 65,
     "metadata": {},
     "output_type": "execute_result"
    }
   ],
   "source": [
    "titanic.shape()"
   ]
  },
  {
   "cell_type": "markdown",
   "metadata": {},
   "source": [
    "### <span style=\"color:blue\"> Feature types </span>\n",
    "\n",
    "We distinguish between\n",
    "\n",
    "* unordered categorical features (\"sex\", \"embarked\")\n",
    "* ordered categorical features (\"pclass\")\n",
    "* numerical features (\"age\")\n",
    "\n",
    "For unordered categorical features, values can be either the same or different.\n",
    "There are no notions of order or distance.\n",
    "\n",
    "For ordered categorical features, category c1 can be larger, the same, or smaller than category c2.\n",
    "\n",
    "For numerical features there are notions of order and distance - it makes sense to compute and compare differences between values.\n",
    "\n",
    "<br>\n",
    "\n",
    "**Note:** The values of categorical features are often encoded as numbers, but that does not make them into numerical features.\n"
   ]
  },
  {
   "cell_type": "markdown",
   "metadata": {},
   "source": [
    "### <span style=\"color:blue\"> Summarizing and visualizing categorical features </span>\n",
    "\n",
    "We can summarize a categorical feature by the counts or the relative frequencies of the categories."
   ]
  },
  {
   "cell_type": "code",
   "execution_count": 66,
   "metadata": {},
   "outputs": [
    {
     "data": {
      "text/html": [
       "<table border=\"1\" class=\"dataframe\">\n",
       "    <thead>\n",
       "        <tr>\n",
       "            <th>pclass</th> <th>count</th>\n",
       "        </tr>\n",
       "    </thead>\n",
       "    <tbody>\n",
       "        <tr>\n",
       "            <td>1     </td> <td>323  </td>\n",
       "        </tr>\n",
       "    </tbody>\n",
       "        <tr>\n",
       "            <td>2     </td> <td>277  </td>\n",
       "        </tr>\n",
       "    </tbody>\n",
       "        <tr>\n",
       "            <td>3     </td> <td>709  </td>\n",
       "        </tr>\n",
       "    </tbody>\n",
       "</table>"
      ],
      "text/plain": [
       "pclass | count\n",
       "1      | 323\n",
       "2      | 277\n",
       "3      | 709"
      ]
     },
     "execution_count": 66,
     "metadata": {},
     "output_type": "execute_result"
    }
   ],
   "source": [
    "pclass_count = titanic.group(\"pclass\")\n",
    "pclass_count\n",
    "\n",
    "# There were 323 passengers in 1st class...."
   ]
  },
  {
   "cell_type": "code",
   "execution_count": 67,
   "metadata": {},
   "outputs": [
    {
     "data": {
      "text/plain": [
       "('pclass', 'count')"
      ]
     },
     "execution_count": 67,
     "metadata": {},
     "output_type": "execute_result"
    }
   ],
   "source": [
    "# pclass_count is a table\n",
    "\n",
    "pclass_count.labels"
   ]
  },
  {
   "cell_type": "markdown",
   "metadata": {},
   "source": [
    "The relative frequencies are the counts divided by the total number of passengers. Let's make a table pclass_dist that has the relative frequencies instead of the counts."
   ]
  },
  {
   "cell_type": "code",
   "execution_count": 68,
   "metadata": {},
   "outputs": [
    {
     "data": {
      "text/html": [
       "<table border=\"1\" class=\"dataframe\">\n",
       "    <thead>\n",
       "        <tr>\n",
       "            <th>pclass</th> <th>rel_freq</th>\n",
       "        </tr>\n",
       "    </thead>\n",
       "    <tbody>\n",
       "        <tr>\n",
       "            <td>1     </td> <td>0.246753</td>\n",
       "        </tr>\n",
       "    </tbody>\n",
       "        <tr>\n",
       "            <td>2     </td> <td>0.211612</td>\n",
       "        </tr>\n",
       "    </tbody>\n",
       "        <tr>\n",
       "            <td>3     </td> <td>0.541635</td>\n",
       "        </tr>\n",
       "    </tbody>\n",
       "</table>"
      ],
      "text/plain": [
       "pclass | rel_freq\n",
       "1      | 0.246753\n",
       "2      | 0.211612\n",
       "3      | 0.541635"
      ]
     },
     "execution_count": 68,
     "metadata": {},
     "output_type": "execute_result"
    }
   ],
   "source": [
    "count = pclass_count.column(\"count\")\n",
    "rel_freq = count / sum(count)\n",
    "pclass_dist = pclass_count.drop(\"count\").with_column(\"rel_freq\", rel_freq)\n",
    "pclass_dist\n",
    "\n",
    "# It would be easy to write a function that takes a table of counts as input \n",
    "# and produces a table of relative frequencies. We will do this later."
   ]
  },
  {
   "cell_type": "markdown",
   "metadata": {},
   "source": [
    "The collection of (category, relative frequency) pairs is called the **distribution** of a categorical feature.\n",
    "\n",
    "The most frequent category is called the **mode** of the distribution.\n",
    "\n",
    "Let's compute the mode of pclass_dist."
   ]
  },
  {
   "cell_type": "code",
   "execution_count": 69,
   "metadata": {},
   "outputs": [
    {
     "data": {
      "text/plain": [
       "3.0"
      ]
     },
     "execution_count": 69,
     "metadata": {},
     "output_type": "execute_result"
    }
   ],
   "source": [
    "pclass_mode = pclass_dist.sort(\"rel_freq\", descending = True).column(\"pclass\")[0]\n",
    "pclass_mode\n",
    "\n",
    "# Again, this calculation could be easily packaged into a function"
   ]
  },
  {
   "cell_type": "code",
   "execution_count": 70,
   "metadata": {},
   "outputs": [
    {
     "data": {
      "image/png": "[encoded data removed]",
      "text/plain": [
       "<matplotlib.figure.Figure at 0x11e94a5f8>"
      ]
     },
     "metadata": {},
     "output_type": "display_data"
    }
   ],
   "source": [
    "pclass_count.barh(\"pclass\")"
   ]
  },
  {
   "cell_type": "code",
   "execution_count": 71,
   "metadata": {},
   "outputs": [
    {
     "data": {
      "image/png": "[encoded data removed]",
      "text/plain": [
       "<matplotlib.figure.Figure at 0x11e9ceba8>"
      ]
     },
     "metadata": {},
     "output_type": "display_data"
    }
   ],
   "source": [
    "pclass_dist.barh(\"pclass\")\n",
    "\n",
    "# Looks the same. Only the scale is different."
   ]
  },
  {
   "cell_type": "code",
   "execution_count": 72,
   "metadata": {},
   "outputs": [
    {
     "data": {
      "image/png": "[encoded data removed]",
      "text/plain": [
       "<matplotlib.figure.Figure at 0x11ec685c0>"
      ]
     },
     "metadata": {},
     "output_type": "display_data"
    }
   ],
   "source": [
    "pclass_dist.barh(\"pclass\", \"rel_freq\")"
   ]
  },
  {
   "cell_type": "markdown",
   "metadata": {},
   "source": [
    "For unordered categorical variables we would like to sort the categories by count or relative frequency. This could be easily packaged into a function."
   ]
  },
  {
   "cell_type": "markdown",
   "metadata": {},
   "source": [
    "### <span style=\"color:blue\"> Summarizing numerical features </span>\n",
    "\n",
    "We want numerical summaries of\n",
    "\n",
    "* **location**: what is a \"typical\" value of the feature\n",
    "* **scale**: how large is the \"scatter\" of the values\n",
    "\n",
    "The most common measures of location are the \n",
    "* **mean** - the average of the values\n",
    "* **median** - the middle most value"
   ]
  },
  {
   "cell_type": "code",
   "execution_count": 73,
   "metadata": {},
   "outputs": [
    {
     "data": {
      "text/plain": [
       "11.0"
      ]
     },
     "execution_count": 73,
     "metadata": {},
     "output_type": "execute_result"
    }
   ],
   "source": [
    "foo = make_array(1, 25, 7)\n",
    "np.mean(foo)  # 33/3"
   ]
  },
  {
   "cell_type": "code",
   "execution_count": 74,
   "metadata": {},
   "outputs": [
    {
     "data": {
      "text/plain": [
       "7.0"
      ]
     },
     "execution_count": 74,
     "metadata": {},
     "output_type": "execute_result"
    }
   ],
   "source": [
    "np.median(foo)\n",
    "\n",
    "# One of the values is >= (smaller than or equal) 7, one is <= (less than or equal) 7"
   ]
  },
  {
   "cell_type": "code",
   "execution_count": 75,
   "metadata": {},
   "outputs": [
    {
     "data": {
      "text/plain": [
       "8.0"
      ]
     },
     "execution_count": 75,
     "metadata": {},
     "output_type": "execute_result"
    }
   ],
   "source": [
    "foo = make_array(1, 25, 7, 9)\n",
    "np.median(foo)\n",
    "\n",
    "# If the number of observations is even, the median is the average of the two middle \n",
    "# most values"
   ]
  },
  {
   "cell_type": "markdown",
   "metadata": {},
   "source": [
    "Mean and median measure different characteristics of a feature.\n",
    "\n",
    "<img src=\"huff-mean-vs-median.png\">"
   ]
  },
  {
   "cell_type": "markdown",
   "metadata": {},
   "source": [
    "The median is **resistant** against outliers - it is a typical value for the bulk of the data. Outliers are common in real data (data entry errors, instrument failure)"
   ]
  },
  {
   "cell_type": "code",
   "execution_count": 76,
   "metadata": {},
   "outputs": [
    {
     "name": "stdout",
     "output_type": "stream",
     "text": [
      "208.2\n",
      "9.0\n"
     ]
    }
   ],
   "source": [
    "foo_with_outlier = make_array(1, 25, 7, 9, 999)\n",
    "print(np.mean(foo_with_outlier))\n",
    "print(np.median(foo_with_outlier))"
   ]
  },
  {
   "cell_type": "markdown",
   "metadata": {},
   "source": [
    "**Note**\n",
    "\n",
    "* Adding a constant c to all the values shifts the mean and the median by c\n",
    "* Multiplying all the values by a constant c multiplies the mean and the median by c"
   ]
  },
  {
   "cell_type": "markdown",
   "metadata": {},
   "source": [
    "The most common measure of scale is the **standard deviation**"
   ]
  },
  {
   "cell_type": "code",
   "execution_count": 77,
   "metadata": {},
   "outputs": [
    {
     "data": {
      "text/plain": [
       "10.246950765959598"
      ]
     },
     "execution_count": 77,
     "metadata": {},
     "output_type": "execute_result"
    }
   ],
   "source": [
    "squared_deviations_from_mean = (foo - np.mean(foo)) ** 2\n",
    "almost_mean_squared_deviation = sum(squared_deviations_from_mean) / (len(foo) - 1)\n",
    "\n",
    "# It is common to divide by (len(foo) - 1) rather than len(foo) for arcane \n",
    "# technical reasons\n",
    "\n",
    "sd = (almost_mean_squared_deviation) ** 0.5\n",
    "\n",
    "# We take the square root so that the measure of scale is in the same\n",
    "# units as the feature itself\n",
    "\n",
    "sd"
   ]
  },
  {
   "cell_type": "code",
   "execution_count": 78,
   "metadata": {},
   "outputs": [
    {
     "data": {
      "text/plain": [
       "8.8741196746494246"
      ]
     },
     "execution_count": 78,
     "metadata": {},
     "output_type": "execute_result"
    }
   ],
   "source": [
    "# There is a function in numpy that computes the standard deviation\n",
    "\n",
    "np.std(foo)"
   ]
  },
  {
   "cell_type": "code",
   "execution_count": 79,
   "metadata": {},
   "outputs": [
    {
     "data": {
      "text/plain": [
       "10.246950765959598"
      ]
     },
     "execution_count": 79,
     "metadata": {},
     "output_type": "execute_result"
    }
   ],
   "source": [
    "# By default, np.std() divides by len(foo)\n",
    "# If we want to divide by len(foo) - 1 we have to suply an extra argument\n",
    "\n",
    "np.std(foo, ddof = 1)"
   ]
  },
  {
   "cell_type": "code",
   "execution_count": 80,
   "metadata": {},
   "outputs": [
    {
     "data": {
      "text/plain": [
       "10.246950765959598"
      ]
     },
     "execution_count": 80,
     "metadata": {},
     "output_type": "execute_result"
    }
   ],
   "source": [
    "# The square of the standard deviation is called the variance\n",
    "\n",
    "np.var(foo, ddof = 1) ** 0.5"
   ]
  },
  {
   "cell_type": "markdown",
   "metadata": {},
   "source": [
    "A measure of scale that naturally goes with the median is the median absolute deviation from the median."
   ]
  },
  {
   "cell_type": "code",
   "execution_count": 81,
   "metadata": {},
   "outputs": [
    {
     "data": {
      "text/plain": [
       "4.0"
      ]
     },
     "execution_count": 81,
     "metadata": {},
     "output_type": "execute_result"
    }
   ],
   "source": [
    "mad = np.median(abs(foo - np.median(foo)))\n",
    "mad"
   ]
  },
  {
   "cell_type": "code",
   "execution_count": 82,
   "metadata": {},
   "outputs": [
    {
     "name": "stdout",
     "output_type": "stream",
     "text": [
      "442.159699656\n",
      "8.0\n"
     ]
    }
   ],
   "source": [
    "# Like the median, the mad is resistant against outliers\n",
    "\n",
    "print(np.std(foo_with_outlier, ddof = 1))\n",
    "print(np.median(abs(foo_with_outlier - np.median(foo_with_outlier))))"
   ]
  },
  {
   "cell_type": "markdown",
   "metadata": {},
   "source": [
    "**Note**\n",
    "\n",
    "* Adding a constant c to all the values leaves the standard deviation \n",
    "and the mad unchanged\n",
    "* Multiplying all the values by a constant c multiplies the standard deviation and the mad by abs(c)"
   ]
  },
  {
   "cell_type": "markdown",
   "metadata": {},
   "source": [
    "### <span style=\"color:blue\"> Visualizing numerical features </span>\n",
    "\n",
    "Recall: The collection of (category, relative frequency) pairs is called the distribution of a categorical feature.\n",
    "\n",
    "We can draw the distribution of a numerical feature as a bar chart. Let's try that for the age of the titanic passengers."
   ]
  },
  {
   "cell_type": "code",
   "execution_count": 83,
   "metadata": {},
   "outputs": [
    {
     "data": {
      "image/png": "[encoded data removed]",
      "text/plain": [
       "<matplotlib.figure.Figure at 0x11ec68b38>"
      ]
     },
     "metadata": {},
     "output_type": "display_data"
    }
   ],
   "source": [
    "# Make a table with one column that has only the present (non-missing)\n",
    "# values of age and draw a bar chart\n",
    "\n",
    "age_count = titanic.select(\"age\").take_complete_rows().group(\"age\")\n",
    "\n",
    "# Convert to relative frequencies\n",
    "\n",
    "count = age_count.column(\"count\")\n",
    "rel_freq = count / sum(count)\n",
    "age_dist = age_count.drop(\"count\").with_column(\"rel_freq\", rel_freq)\n",
    "age_dist.bar(\"age\")"
   ]
  },
  {
   "cell_type": "markdown",
   "metadata": {
    "collapsed": true
   },
   "source": [
    "We get the general picture but the plot is pretty wiggly. \n",
    "\n",
    "For smaller data sets each value of the feature may occur only once, so the bars all would have the same hight. The only information would be in the spacing of the bars.\n",
    "\n",
    "We need to do some smoothing. \n",
    "\n",
    "<br>\n",
    "\n",
    "**Histograms**\n",
    "\n"
   ]
  },
  {
   "cell_type": "code",
   "execution_count": 84,
   "metadata": {},
   "outputs": [
    {
     "data": {
      "image/png": "[encoded data removed]",
      "text/plain": [
       "<matplotlib.figure.Figure at 0x11ec70dd8>"
      ]
     },
     "metadata": {},
     "output_type": "display_data"
    }
   ],
   "source": [
    "# Let's draw one\n",
    "\n",
    "age = titanic.select(\"age\").take_complete_rows()\n",
    "bins = np.arange(0, 100, 10)\n",
    "age.hist(\"age\", bins = bins)"
   ]
  },
  {
   "cell_type": "markdown",
   "metadata": {},
   "source": [
    "**How is the histogram computed?**\n",
    "\n",
    "* Choose bin boundaries, in our case 0, 10,...,90. The bins should cover the span of the data\n",
    "\n",
    "* Count for how many cases (rows) the value of the feature (\"age\") falls in each bin. The lower bin boundary is part of the bin, the upper bin boundary is not.\n",
    "\n",
    "* Draw a bar over each bin with area = relative freqency of cases for which the feature value falls in the bin.\n",
    "\n",
    "In our example the area of the leftmost bin is approximately 10 * 0.7 = 7, meaning ~7% of the passengers for whom we know the age were less than one year old.\n",
    "\n",
    "The most frequent age range is [20 years, 30 years) - the bin includes 20 years but does not include 30 years. About 33% of the passenger for whom we know the age were between between 20 and 29 years old."
   ]
  },
  {
   "cell_type": "code",
   "execution_count": 85,
   "metadata": {},
   "outputs": [
    {
     "data": {
      "image/png": "[encoded data removed]",
      "text/plain": [
       "<matplotlib.figure.Figure at 0x11f283d68>"
      ]
     },
     "metadata": {},
     "output_type": "display_data"
    }
   ],
   "source": [
    "# If we don't provide the bins, the hist function will automatically \n",
    "# try to make a sensible choice.\n",
    "\n",
    "age.hist(\"age\")"
   ]
  },
  {
   "cell_type": "code",
   "execution_count": 86,
   "metadata": {},
   "outputs": [
    {
     "data": {
      "image/png": "[encoded data removed]",
      "text/plain": [
       "<matplotlib.figure.Figure at 0x11f3abd30>"
      ]
     },
     "metadata": {},
     "output_type": "display_data"
    }
   ],
   "source": [
    "# We may be missing some features of the distribution. Let's try\n",
    "# a smaller bin width\n",
    "\n",
    "bins = np.arange(0, 90, 5)\n",
    "age.hist(\"age\", bins = bins)\n",
    "\n",
    "# Indeed there seems to ba age peak between 0 and ~4 years"
   ]
  },
  {
   "cell_type": "code",
   "execution_count": 87,
   "metadata": {},
   "outputs": [
    {
     "name": "stdout",
     "output_type": "stream",
     "text": [
      "29.8811345124\n",
      "28.0\n"
     ]
    }
   ],
   "source": [
    "# The age distribution also looks asymmetric.\n",
    "\n",
    "print(np.mean(age.column(\"age\")))\n",
    "print(np.median(age.column(\"age\")))\n",
    "\n",
    "# Suprising: I would have expected a bigger difference."
   ]
  },
  {
   "cell_type": "code",
   "execution_count": 88,
   "metadata": {},
   "outputs": [
    {
     "data": {
      "text/plain": [
       "80.0"
      ]
     },
     "execution_count": 88,
     "metadata": {},
     "output_type": "execute_result"
    }
   ],
   "source": [
    "max(age.column(\"age\"))"
   ]
  }
 ],
 "metadata": {
  "kernelspec": {
   "display_name": "Python 3",
   "language": "python",
   "name": "python3"
  },
  "language_info": {
   "codemirror_mode": {
    "name": "ipython",
    "version": 3
   },
   "file_extension": ".py",
   "mimetype": "text/x-python",
   "name": "python",
   "nbconvert_exporter": "python",
   "pygments_lexer": "ipython3",
   "version": "3.6.1"
  }
 },
 "nbformat": 4,
 "nbformat_minor": 2
}
