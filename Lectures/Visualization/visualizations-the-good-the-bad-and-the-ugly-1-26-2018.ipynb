{
 "cells": [
  {
   "cell_type": "markdown",
   "metadata": {},
   "source": [
    "# <span style=\"color:red\"> Visualizations: the good, the bad, and the ugly </span>"
   ]
  },
  {
   "cell_type": "markdown",
   "metadata": {},
   "source": [
    "** A good visualization can be eye opening: ** [Grades from NYC Regent's Exam](http://cs109.github.io/2014/pages/lectures/02-distributions.html#/)"
   ]
  },
  {
   "cell_type": "markdown",
   "metadata": {},
   "source": [
    "** A bad visualization can hide rather than reveal**:\n",
    "### <span style=\"color:blue\"> The Spaceshuttle Challenger Accident </span>\n",
    "\n",
    "On January 28, 1986 the Spaceshuttle Challenger exploded 73 seconds after liftoff, with loss of mission and crew.\n",
    "\n",
    "The President appointed a ommission to investigate the accident.\n",
    "\n",
    "The commission issued a [report](https://spaceflight.nasa.gov/outreach/SignificantIncidents/assets/rogers_commission_report.pdf)\n",
    "\n",
    "* Page 11:      Challenger on the launchpad\n",
    "* Page 22-36:   Photos of the launch and explosion\n",
    "* Page 53:      Drawing of the Solid Rocket Booster\n",
    "* Page 58-61:   Drawings of a joint between two Booster segments\n",
    "* Page 78-82:   Photos of damaged Booster segments\n",
    "* Page 147:     O-ring damage as a function of temperature\n",
    "* Page 146:     Discussion of temperature effects\n",
    "\n",
    "Let n(T) be the # of damaged O-Rings given temperature T. \n",
    "\n",
    "* Figure 6 reflects the conditional distribution of n(T), given (T and n(T) > 0). There is no obvious dependence on T. However, this is not the relevant quantity.\n",
    "\n",
    "* Figure 7 reflects the conditional of n(T), which is the relevant quantity. There are strong indications of a dependence on T. \n",
    "   * Of the 20 flights with launch temperature > 65 degrees, three - about 14% - had O-ring damaage.\n",
    "   * of the four flights with launch temperature < 65 degrees, all four - 100% - had O-ring damage\n",
    "   * The launch temperature for Challenger was around freezing, about 30 degrees colder than the coldest previous launch.\n"
   ]
  },
  {
   "cell_type": "markdown",
   "metadata": {},
   "source": [
    "### <span style=\"color:blue\"> Examples for the good and the ugly </span>\n",
    "\n",
    "* Hanspeter Pfister and Joe Blitzstein slides on [Statistical Graphs](https://drive.google.com/drive/folders/0BxYkKyLxfsNVd0xicUVDS1dIS0k)\n",
    "* [How writers use misleading graphs to manipulate you](https://venngage.com/blog/misleading-graphs)\n",
    "* [Consultant's mind example for bad charts](http://www.consultantsmind.com/2017/04/10/bad-charts/)\n",
    "* [Good and bad graphs](https://iase-web.org/islp/apps/gov_stats_graphing/GoodBad/GoodBadGraphs.pdf)"
   ]
  },
  {
   "cell_type": "code",
   "execution_count": null,
   "metadata": {
    "collapsed": true
   },
   "outputs": [],
   "source": []
  },
  {
   "cell_type": "code",
   "execution_count": null,
   "metadata": {
    "collapsed": true
   },
   "outputs": [],
   "source": []
  }
 ],
 "metadata": {
  "kernelspec": {
   "display_name": "Python 3",
   "language": "python",
   "name": "python3"
  },
  "language_info": {
   "codemirror_mode": {
    "name": "ipython",
    "version": 3
   },
   "file_extension": ".py",
   "mimetype": "text/x-python",
   "name": "python",
   "nbconvert_exporter": "python",
   "pygments_lexer": "ipython3",
   "version": "3.6.1"
  },
  "varInspector": {
   "cols": {
    "lenName": 16,
    "lenType": 16,
    "lenVar": 40
   },
   "kernels_config": {
    "python": {
     "delete_cmd_postfix": "",
     "delete_cmd_prefix": "del ",
     "library": "var_list.py",
     "varRefreshCmd": "print(var_dic_list())"
    },
    "r": {
     "delete_cmd_postfix": ") ",
     "delete_cmd_prefix": "rm(",
     "library": "var_list.r",
     "varRefreshCmd": "cat(var_dic_list()) "
    }
   },
   "types_to_exclude": [
    "module",
    "function",
    "builtin_function_or_method",
    "instance",
    "_Feature"
   ],
   "window_display": false
  }
 },
 "nbformat": 4,
 "nbformat_minor": 2
}
