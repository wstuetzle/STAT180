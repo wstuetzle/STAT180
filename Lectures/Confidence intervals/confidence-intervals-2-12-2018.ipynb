{
 "cells": [
  {
   "cell_type": "markdown",
   "metadata": {},
   "source": [
    "# <span style=\"color:red\"> Confidence intervals </span>"
   ]
  },
  {
   "cell_type": "code",
   "execution_count": 3,
   "metadata": {
    "collapsed": true
   },
   "outputs": [],
   "source": [
    "# Import modules \n",
    "\n",
    "import numpy as np\n",
    "from datascience import *\n",
    "# from datascience_extensions import *\n",
    "import seaborn as sns\n",
    "sns.set_style(\"whitegrid\")\n",
    "%matplotlib inline\n",
    "import os.path"
   ]
  },
  {
   "cell_type": "markdown",
   "metadata": {},
   "source": [
    "A summary of the methods for Table is [here](http://data8.org/datascience/tables.html) <br>\n",
    "A tutorial for the datascience module is [here](http://data8.org/datascience/tutorial.html) <br>\n",
    "A cheatsheet for the datascience module is [here](https://github.com/wstuetzle/STAT180/blob/master/Computing/data8_sp17_midterm_ref_sheet.pdf)"
   ]
  },
  {
   "cell_type": "markdown",
   "metadata": {},
   "source": [
    "### <span style=\"color:blue\"> Confidence intervals for a population mean </span>\n",
    "\n",
    "Let $\\mu$ denote the population mean and $\\sigma$ denote the population standard deviation. In the chapter on Sampling we found that approximately 95% of sample means of random samples of size $n$ fall in the interval\n",
    "\n",
    "$$\\left[\\mu-\\dfrac {2\\sigma}{\\sqrt {n}}, \\mu+\\dfrac {2\\sigma}{\\sqrt {n}}\\right]$$\n",
    "\n",
    "<br>\n",
    "\n",
    "We can rephrase that: Let $\\overline {x}$ be the mean of a random sample of size $n$. For sufficienly large $n$, the interval\n",
    "\n",
    "$$\\left[\\overline {x}-\\dfrac {2\\sigma}{\\sqrt {n}}, \\overline {x}+\\dfrac {2\\sigma}{\\sqrt {n}}\\right]$$\n",
    "\n",
    "has approximately a 95% chance of containing the population mean mu.\n",
    "\n",
    "** Note **: This is a random interval because it is centered at the sample mean xbar.\n",
    "\n",
    "<br>\n",
    "\n",
    "In practice we do not know the population standard deviation $\\sigma$. An obvious way out is to estimate $\\sigma$\n",
    "by the standard deviation of the sample - let's call that $\\overline {\\sigma}$. For sufficiently large sample size $n$, $\\overline {\\sigma}$ will be close to $\\sigma$, and therefore the interval\n",
    "\n",
    "$$\\left[\\overline {x}-\\dfrac {2\\overline {\\sigma}}{\\sqrt {n}}, \\overline {x}+\\dfrac {2\\overline {\\sigma}}{\\sqrt {n}}\\right]$$\n",
    "\n",
    "has approximately a 95% chance of containing the population mean mu.\n",
    "\n",
    "<br>\n",
    "\n",
    "** The (random) interval $\\left[\\overline {x}-\\dfrac {2\\overline {\\sigma}}{\\sqrt {n}}, \\overline {x}+\\dfrac {2\\overline {\\sigma}}{\\sqrt {n}}\\right]$ is a 95% confidence interval for the population mean $\\mu$. **"
   ]
  },
  {
   "cell_type": "markdown",
   "metadata": {},
   "source": [
    "### <span style=\"color:blue\"> Experiment with confidence intervals for a population mean </span>\n",
    "\n",
    "Use the flight delay data as in the \"Sampling\" chapter. \n",
    "\n",
    "Draw 100,000 samples each for sample sizes [4, 16, 64, 256, 1024].\n",
    "\n",
    "For each sample size \n",
    "\n",
    "* Compute the 100,000 sample means, the 100,000 sample stds, and the 100,000 confidence intervals.\n",
    "\n",
    "* Compute the percentage of confidence intervals that contain the population mean.\n"
   ]
  },
  {
   "cell_type": "code",
   "execution_count": 4,
   "metadata": {},
   "outputs": [],
   "source": [
    "delay_tab = Table.read_table(\"https://github.com/wstuetzle/STAT180/raw/master/\\\n",
    "Lectures/Sampling/united.csv\")\n",
    "N = delay_tab.num_rows\n",
    "\n",
    "Population = delay_tab.where(\"Delay\", are.below(100)).select(\"Delay\")\n",
    "N = Population.num_rows\n",
    "Population_mean = np.mean(Population.column(\"Delay\"))\n",
    "\n",
    "# Choose sample sizes and number or samples to be drawn\n",
    "\n",
    "sample_sizes = [4, 16, 64, 256, 1024]\n",
    "num_samples = 100000    \n",
    "\n",
    "means = np.zeros(num_samples)\n",
    "stds = np.zeros(num_samples)\n",
    "\n",
    "def evaluate_mean_std_for_random_samples(sample_size, num_samples, with_replacement = True):\n",
    "    sample_means = np.zeros(num_samples)\n",
    "    sample_stds = np.zeros(num_samples)\n",
    "    for i in range(num_samples):\n",
    "        sample = Population.sample(sample_size, with_replacement)\n",
    "        sample_means[i] = np.mean(sample.column(\"Delay\"))\n",
    "        sample_stds[i] = np.std(sample.column(\"Delay\"))\n",
    "        if i % 10000 == 0:\n",
    "            print(str(i) + \" \", end = \"\")\n",
    "    return([sample_means, sample_stds])\n",
    "\n"
   ]
  },
  {
   "cell_type": "code",
   "execution_count": 5,
   "metadata": {},
   "outputs": [
    {
     "data": {
      "text/html": [
       "<table border=\"1\" class=\"dataframe\">\n",
       "    <thead>\n",
       "        <tr>\n",
       "            <th>4-mean</th> <th>4-std</th> <th>16-mean</th> <th>16-std</th> <th>64-mean</th> <th>64-std</th> <th>256-mean</th> <th>256-std</th> <th>1024-mean</th> <th>1024-std</th>\n",
       "        </tr>\n",
       "    </thead>\n",
       "    <tbody>\n",
       "        <tr>\n",
       "            <td>15.5  </td> <td>15.5804</td> <td>13.1875</td> <td>21.2639</td> <td>9.95312</td> <td>19.8875</td> <td>12.2578 </td> <td>23.9784</td> <td>11.7949  </td> <td>22.7022 </td>\n",
       "        </tr>\n",
       "    </tbody>\n",
       "        <tr>\n",
       "            <td>-3.5  </td> <td>3.5    </td> <td>7.375  </td> <td>13.5595</td> <td>10.0312</td> <td>21.3761</td> <td>10.7773 </td> <td>21.5452</td> <td>10.5098  </td> <td>21.916  </td>\n",
       "        </tr>\n",
       "    </tbody>\n",
       "        <tr>\n",
       "            <td>3     </td> <td>4.74342</td> <td>6.5625 </td> <td>14.5558</td> <td>10.1562</td> <td>19.015 </td> <td>10.1562 </td> <td>20.0413</td> <td>10.1875  </td> <td>20.6313 </td>\n",
       "        </tr>\n",
       "    </tbody>\n",
       "        <tr>\n",
       "            <td>2     </td> <td>12.7083</td> <td>17.1875</td> <td>25.4907</td> <td>9.20312</td> <td>18.0392</td> <td>9.62891 </td> <td>19.6009</td> <td>9.53711  </td> <td>20.0376 </td>\n",
       "        </tr>\n",
       "    </tbody>\n",
       "        <tr>\n",
       "            <td>26.25 </td> <td>20.1541</td> <td>6.4375 </td> <td>19.6404</td> <td>10.625 </td> <td>20.2319</td> <td>11.5742 </td> <td>21.2046</td> <td>10.3975  </td> <td>21.6582 </td>\n",
       "        </tr>\n",
       "    </tbody>\n",
       "</table>\n",
       "<p>... (99995 rows omitted)</p"
      ],
      "text/plain": [
       "<IPython.core.display.HTML object>"
      ]
     },
     "metadata": {},
     "output_type": "display_data"
    }
   ],
   "source": [
    "mean_std_filename = \"mean-std.csv\"\n",
    "file_exists = os.path.isfile(mean_std_filename)\n",
    "if file_exists:\n",
    "    mean_std_tab = Table.read_table(mean_std_filename)\n",
    "\n",
    "if not file_exists: \n",
    "    mean_std_tab = Table()\n",
    "    for n in sample_sizes:\n",
    "        evaluate_out = evaluate_mean_std_for_random_samples(n, num_samples)\n",
    "        mean_estimates = evaluate_out[0]\n",
    "        std_estimates = evaluate_out[1]\n",
    "        mean_std_tab = mean_std_tab.with_column(str(n) + \"-mean\", mean_estimates)\\\n",
    "                                    .with_column(str(n) + \"-std\", std_estimates)\n",
    "    \n",
    "    mean_std_tab.to_csv(mean_std_filename)\n",
    "\n",
    "mean_std_tab.show(5)"
   ]
  },
  {
   "cell_type": "code",
   "execution_count": 6,
   "metadata": {},
   "outputs": [
    {
     "name": "stdout",
     "output_type": "stream",
     "text": [
      "n = 4   cover percentage = 68.311\n",
      "n = 16   cover percentage = 87.012\n",
      "n = 64   cover percentage = 93.386\n",
      "n = 256   cover percentage = 95.064\n",
      "n = 1024   cover percentage = 95.427\n"
     ]
    }
   ],
   "source": [
    "# Compute coverage probabilities\n",
    "\n",
    "for n in sample_sizes:\n",
    "    mean_label = str(n) + \"-mean\"\n",
    "    std_label = str(n) + \"-std\"\n",
    "    sample_means = mean_std_tab.column(mean_label)\n",
    "    sample_stds = mean_std_tab.column(std_label)\n",
    "    ci_limits = Table().with_columns(\"lower\", sample_means - 2 * sample_stds / n ** (0.5),\\\n",
    "                                     \"upper\", sample_means + 2 * sample_stds / n ** (0.5))\n",
    "    cover_count = ci_limits.where(\"lower\", are.below(Population_mean))\\\n",
    "                           .where(\"upper\", are.above(Population_mean)).num_rows\n",
    "    print(\"n = \" + str(n) + \"   cover percentage = \" + str(100 * cover_count / num_samples))"
   ]
  }
 ],
 "metadata": {
  "kernelspec": {
   "display_name": "Python 3",
   "language": "python",
   "name": "python3"
  },
  "language_info": {
   "codemirror_mode": {
    "name": "ipython",
    "version": 3
   },
   "file_extension": ".py",
   "mimetype": "text/x-python",
   "name": "python",
   "nbconvert_exporter": "python",
   "pygments_lexer": "ipython3",
   "version": "3.6.3"
  },
  "varInspector": {
   "cols": {
    "lenName": 16,
    "lenType": 16,
    "lenVar": 40
   },
   "kernels_config": {
    "python": {
     "delete_cmd_postfix": "",
     "delete_cmd_prefix": "del ",
     "library": "var_list.py",
     "varRefreshCmd": "print(var_dic_list())"
    },
    "r": {
     "delete_cmd_postfix": ") ",
     "delete_cmd_prefix": "rm(",
     "library": "var_list.r",
     "varRefreshCmd": "cat(var_dic_list()) "
    }
   },
   "types_to_exclude": [
    "module",
    "function",
    "builtin_function_or_method",
    "instance",
    "_Feature"
   ],
   "window_display": false
  }
 },
 "nbformat": 4,
 "nbformat_minor": 2
}
