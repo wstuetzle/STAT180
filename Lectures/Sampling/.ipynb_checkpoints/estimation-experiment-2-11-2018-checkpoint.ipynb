{
 "cells": [
  {
   "cell_type": "markdown",
   "metadata": {},
   "source": [
    "# <span style=\"color:red\"> Estimating a population parameter from a sample - a simulation experiment</span>"
   ]
  },
  {
   "cell_type": "code",
   "execution_count": null,
   "metadata": {
    "collapsed": true
   },
   "outputs": [],
   "source": [
    "# Import modules \n",
    "\n",
    "import numpy as np\n",
    "from datascience import *\n",
    "# from datascience_extensions import *\n",
    "import seaborn as sns\n",
    "sns.set_style(\"whitegrid\")\n",
    "%matplotlib inline\n",
    "import os.path"
   ]
  },
  {
   "cell_type": "markdown",
   "metadata": {},
   "source": [
    "A summary of the methods for Table is [here](http://data8.org/datascience/tables.html) <br>\n",
    "A tutorial for the datascience module is [here](http://data8.org/datascience/tutorial.html) <br>\n",
    "A cheatsheet for the datascience module is [here](https://github.com/wstuetzle/STAT180/blob/master/Computing/data8_sp17_midterm_ref_sheet.pdf)"
   ]
  },
  {
   "cell_type": "markdown",
   "metadata": {},
   "source": [
    "** Scenario: **\n",
    "\n",
    "We are given a cases x variables matrix in the form of a datascience Table. Let's call this table \"Population\". Let N be the number of rows of Population\n",
    "\n",
    "By a \"Statistic\" we mean a function that can be applied to any collection of rows of Population and produces a number.\n",
    "\n",
    "Define the Population_parameter as the value of Statistic(Population).\n",
    "\n",
    "A size n random Sample of Population is a subset of n rows of Population chosen so that any\n",
    "of the N^n subsets has the same chance of being drawn as any other.\n",
    "\n",
    "The natural estimate for the population parameter from a Sample is Statistic(Sample).\n",
    "\n",
    "We want to experimentally explore the perfomance of this estimate for different populations, Statistics, and sample sizes."
   ]
  },
  {
   "cell_type": "markdown",
   "metadata": {},
   "source": [
    "### <span style=\"color:blue\"> Make a Population table </span>\n",
    "\n",
    "Here is a data set recording the flight delays for United Airlines flights taking off from SFO during the third quarter of 2015."
   ]
  },
  {
   "cell_type": "code",
   "execution_count": null,
   "metadata": {
    "collapsed": true
   },
   "outputs": [],
   "source": [
    "delay_tab = Table.read_table(\"https://github.com/wstuetzle/STAT180/raw/master/\\\n",
    "Lectures/Sampling/united.csv\")\n",
    "N = delay_tab.num_rows\n",
    "delay_tab.show(5)\n",
    "delay_tab.take(np.arange(N - 5, N))"
   ]
  },
  {
   "cell_type": "markdown",
   "metadata": {},
   "source": [
    "For our experiment we look at the delays. Here is a histogram"
   ]
  },
  {
   "cell_type": "code",
   "execution_count": null,
   "metadata": {
    "collapsed": true
   },
   "outputs": [],
   "source": [
    "delay_tab.hist(\"Delay\", bins = np.arange(-10, 300, 5))"
   ]
  },
  {
   "cell_type": "code",
   "execution_count": null,
   "metadata": {
    "collapsed": true
   },
   "outputs": [],
   "source": [
    "# For our experiment we will focus on delays below 100 minutes\n",
    "\n",
    "Population = delay_tab.where(\"Delay\", are.below(100)).select(\"Delay\")\n",
    "N = Population.num_rows\n",
    "N\n",
    "np.mean(Population.column(\"Delay\"))"
   ]
  },
  {
   "cell_type": "code",
   "execution_count": null,
   "metadata": {
    "collapsed": true
   },
   "outputs": [],
   "source": [
    "# Here is a function that evaluates the Statistic for num_samples samples \n",
    "# of size sample_size from the Population, drawn with replacement\n",
    "\n",
    "def evaluate_statistic_for_random_samples(Statistic, sample_size, num_samples, \n",
    "                                          with_replacement = True):\n",
    "    estimates = np.zeros(num_samples)\n",
    "    for i in range(num_samples):\n",
    "        sample = Population.sample(sample_size, with_replacement)\n",
    "        estimates[i] = Statistic(sample)\n",
    "        if i % 10000 == 0:\n",
    "            print(str(i) + \" \", end = \"\")\n",
    "    return(estimates)"
   ]
  },
  {
   "cell_type": "code",
   "execution_count": null,
   "metadata": {
    "collapsed": true
   },
   "outputs": [],
   "source": [
    "# Choose sample sizes and number or samples to be drawn\n",
    "\n",
    "sample_sizes = [4, 16, 64, 256, 1024]\n",
    "num_samples = 1000000    "
   ]
  },
  {
   "cell_type": "markdown",
   "metadata": {},
   "source": [
    "### <span style=\"color:purple\"> Setup for Statistic = mean </span>"
   ]
  },
  {
   "cell_type": "code",
   "execution_count": null,
   "metadata": {
    "collapsed": true
   },
   "outputs": [],
   "source": [
    "def Statistic (table):\n",
    "    return(np.mean(table.column(\"Delay\")))\n",
    "\n",
    "Population_parameter = Statistic(Population)\n",
    "Population_std = np.std(Population.column(\"Delay\"))\n",
    "print(\"Population parameter = \" + str(Population_parameter))\n",
    "print(\"Population std = \" + str(Population_std))\n",
    "\n",
    "estimates_filename = \"mean-with-replacement.csv\"\n",
    "file_exists = os.path.isfile(estimates_filename)\n",
    "if file_exists:\n",
    "    estimates_tab = Table.read_table(estimates_filename)\n",
    "\n",
    "if not file_exists: \n",
    "    estimates_tab = Table()\n",
    "    for n in sample_sizes:\n",
    "        estimates = evaluate_statistic_for_random_samples(Statistic, n, num_samples)\n",
    "        estimates_tab = estimates_tab.with_column(str(n), estimates)\n",
    "    estimates_tab.to_csv(estimates_filename)\n",
    "\n",
    "estimates_tab.show(5)"
   ]
  },
  {
   "cell_type": "markdown",
   "metadata": {},
   "source": [
    "### <span style=\"color:purple\"> Setup for Statistic = std </span>"
   ]
  },
  {
   "cell_type": "code",
   "execution_count": null,
   "metadata": {
    "collapsed": true
   },
   "outputs": [],
   "source": [
    "def Statistic (table):\n",
    "    return(np.std(table.column(\"Delay\")))\n",
    "\n",
    "Population_parameter = Statistic(Population)\n",
    "Population_std = np.std(Population.column(\"Delay\"))\n",
    "print(\"Population parameter = \" + str(Population_parameter))\n",
    "print(\"Population std = \" + str(Population_std))\n",
    "\n",
    "estimates_filename = \"std-with-replacement.csv\"\n",
    "file_exists = os.path.isfile(estimates_filename)\n",
    "if file_exists:\n",
    "    estimates_tab = Table.read_table(estimates_filename)\n",
    "    \n",
    "if not file_exists: \n",
    "    estimates_tab = Table()\n",
    "    for n in sample_sizes:\n",
    "        estimates = evaluate_statistic_for_random_samples(Statistic, n, num_samples)\n",
    "        estimates_tab = estimates_tab.with_column(str(n), estimates)\n",
    "    estimates_tab.to_csv(estimates_filename)\n",
    "\n",
    "estimates_tab.show(5)"
   ]
  },
  {
   "cell_type": "markdown",
   "metadata": {},
   "source": [
    "### <span style=\"color:purple\"> Setup for Statistic = median </span>"
   ]
  },
  {
   "cell_type": "code",
   "execution_count": null,
   "metadata": {
    "collapsed": true
   },
   "outputs": [],
   "source": [
    "def Statistic (table):\n",
    "    return(np.median(table.column(\"Delay\")))\n",
    "\n",
    "Population_parameter = Statistic(Population)\n",
    "Population_std = np.std(Population.column(\"Delay\"))\n",
    "print(\"Population parameter = \" + str(Population_parameter))\n",
    "print(\"Population std = \" + str(Population_std))\n",
    "\n",
    "estimates_filename = \"median-with-replacement.csv\"\n",
    "file_exists = os.path.isfile(estimates_filename)\n",
    "if file_exists:\n",
    "    estimates_tab = Table.read_table(estimates_filename)\n",
    "    \n",
    "if not file_exists: \n",
    "    estimates_tab = Table()\n",
    "    for n in sample_sizes:\n",
    "        estimates = evaluate_statistic_for_random_samples(Statistic, n, num_samples)\n",
    "        estimates_tab = estimates_tab.with_column(str(n), estimates)\n",
    "    estimates_tab.to_csv(estimates_filename)\n",
    "\n",
    "estimates_tab.show(5)"
   ]
  },
  {
   "cell_type": "markdown",
   "metadata": {},
   "source": [
    "###  <span style=\"color:purple\"> 1. Calculate the average of the estimates for the different sample sizes </span>"
   ]
  },
  {
   "cell_type": "code",
   "execution_count": null,
   "metadata": {
    "collapsed": true
   },
   "outputs": [],
   "source": [
    "ns = len(sample_sizes)\n",
    "for i in np.arange(ns):\n",
    "    ave_of_estimates = np.mean(estimates_tab.column(i))\n",
    "    print(\"n = \" + str(sample_sizes[i]) + \"  average_of_estimates = \" + str(ave_of_estimates))\n",
    "print(\"population parameter = \" + str(Population_parameter))"
   ]
  },
  {
   "cell_type": "markdown",
   "metadata": {},
   "source": [
    "### <span style=\"color:purple\"> 2. Draw histograms of the estimates for the different sample sizes </span>\n",
    "\n",
    "First all on the same scale"
   ]
  },
  {
   "cell_type": "code",
   "execution_count": null,
   "metadata": {
    "collapsed": true
   },
   "outputs": [],
   "source": [
    "num_bins = 50\n",
    "overall_min = np.min(estimates_tab.column(0))\n",
    "overall_max = np.max(estimates_tab.column(0))\n",
    "for i in np.arange(1, estimates_tab.num_columns):\n",
    "    the_min = np.min(estimates_tab.column(i))\n",
    "    the_max = np.max(estimates_tab.column(i))\n",
    "    if the_min < overall_min:\n",
    "        overall_min = the_min\n",
    "    if the_max > overall_max:\n",
    "        overall_max = the_max\n",
    "overall_range = overall_max - overall_min\n",
    "hist_min = overall_min - 0.01 * overall_range\n",
    "hist_max = overall_max + 0.01 * overall_range\n",
    "the_bins = np.arange(hist_min, hist_max, overall_range / num_bins)\n",
    "estimates_tab.hist(estimates_tab.labels, bins = the_bins, overlay = False)     "
   ]
  },
  {
   "cell_type": "markdown",
   "metadata": {},
   "source": [
    "Now on individual scales"
   ]
  },
  {
   "cell_type": "code",
   "execution_count": null,
   "metadata": {
    "collapsed": true
   },
   "outputs": [],
   "source": [
    "num_bins = 50\n",
    "for i in np.arange(estimates_tab.num_columns):\n",
    "    the_label = estimates_tab.labels[i]\n",
    "    the_min = np.min(estimates_tab.column(i))\n",
    "    the_max = np.max(estimates_tab.column(i))\n",
    "    the_range = the_max - the_min\n",
    "    hist_min = the_min - 0.01 * the_range\n",
    "    hist_max = the_max + 0.01 * the_range\n",
    "    the_bins = np.arange(hist_min, hist_max, the_range / num_bins)\n",
    "    estimates_tab.hist(i, bins = the_bins, overlay = False)\n",
    "    \n"
   ]
  },
  {
   "cell_type": "markdown",
   "metadata": {},
   "source": [
    "### <span style=\"color:purple\"> 3. Calculate the std of the estimates for the different sample sizes"
   ]
  },
  {
   "cell_type": "code",
   "execution_count": null,
   "metadata": {
    "collapsed": true
   },
   "outputs": [],
   "source": [
    "print(\"Population std = \" + str(Population_std))\n",
    "for i in np.arange(estimates_tab.num_columns):\n",
    "    std_of_estimates = np.std(estimates_tab.column(i))\n",
    "    print(\"n = \" + str(sample_sizes[i]) + \"  std_of_estimates = \" \\\n",
    "          + str(std_of_estimates), end = \"\")\n",
    "    print(\"  std of estimates * n^0.5 = \" + str(std_of_estimates * sample_sizes[i] ** 0.5))"
   ]
  },
  {
   "cell_type": "markdown",
   "metadata": {},
   "source": [
    "### <span style=\"color:purple\"> 4. Calculate the fraction of estimates that are within +- 2 * (std of estimates) from the population parameter </span>."
   ]
  },
  {
   "cell_type": "code",
   "execution_count": null,
   "metadata": {
    "collapsed": true
   },
   "outputs": [],
   "source": [
    "for i in np.arange(estimates_tab.num_columns):\n",
    "    lab = estimates_tab.labels[i]\n",
    "    std_of_estimates = np.std(estimates_tab.column(i))\n",
    "    estimates_within = estimates_tab.where(lab, are.between((Population_parameter - 2 * std_of_estimates),\n",
    "                                                            (Population_parameter + 2 * std_of_estimates)))\n",
    "    fraction_within = estimates_within.num_rows / estimates_tab.num_rows\n",
    "    print(\"n = \" + lab + \"  fraction within interval = \" + str(fraction_within))\n"
   ]
  },
  {
   "cell_type": "markdown",
   "metadata": {},
   "source": [
    "### <span style=\"color:purple\"> Summary of results </span>"
   ]
  },
  {
   "cell_type": "markdown",
   "metadata": {},
   "source": [
    "** Statistic = mean **\n",
    "\n",
    "* The sample mean is an unbiased estimate of the population mean. (Can be shown mathematically and does not depend\n",
    "  on the population distribution)\n",
    "  \n",
    "  \n",
    "* The standard deviation of the sample means is (population std) / n^0.5, where n is the sample size. (Can be shown mathematically and does not depend on the population distribution)\n",
    "\n",
    "\n",
    "* As the sample size n grows, the distribution of the sample means approximates the bell-shaped curve (Gaussian   distribution) (Can be shown mathematically)\n",
    "\n",
    "\n",
    "* For sufficiently large sample size, approximately 95% of sample means are between (population mean - 2 std of sample means) and (population mean + 2 std of sample means)\n",
    "\n",
    "\n",
    "<br>\n",
    "\n",
    "** Statistic = std **\n",
    "\n",
    "* The sample std is a biased estimate of the population std, but the bias decreases as the sample size n increases\n",
    "\n",
    "\n",
    "* The standard deviation of the sample stds decreases like 1 / n^0.5 but it does depend on other properties of the population distribution besides the population standard deviation.\n",
    "\n",
    "\n",
    "*  As the sample size n grows, the distribution of the sample stds approximates the bell-shaped curve (Gaussian   distribution) (Can be shown mathematically)\n",
    "\n",
    "\n",
    "* For sufficiently large sample size, approximately 95% of sample stds are between (population std - 2 std of sample stds) and (population mean + 2 std of sample stds)\n",
    "\n",
    "<br>\n",
    "\n",
    "** Statistics = median **\n",
    "\n",
    "* The sample median is a biased estimate of the population median, but the bias decreases as the sample size n increases\n",
    "\n",
    "\n",
    "* The standard deviation of the sample medians decreases like 1 / n^0.5 for most population distributions, but it does depend on other properties of the population distribution besides the population standard deviation.\n",
    "\n",
    "\n",
    "*  If the population distribution is discrete (as in our example), the distribution of the sample medians may not approximate a bell shaped curve.\n",
    "\n",
    "\n",
    "\n"
   ]
  },
  {
   "cell_type": "code",
   "execution_count": null,
   "metadata": {
    "collapsed": true
   },
   "outputs": [],
   "source": []
  }
 ],
 "metadata": {
  "kernelspec": {
   "display_name": "Python 3",
   "language": "python",
   "name": "python3"
  },
  "language_info": {
   "codemirror_mode": {
    "name": "ipython",
    "version": 3
   },
   "file_extension": ".py",
   "mimetype": "text/x-python",
   "name": "python",
   "nbconvert_exporter": "python",
   "pygments_lexer": "ipython3",
   "version": "3.6.1"
  },
  "varInspector": {
   "cols": {
    "lenName": 16,
    "lenType": 16,
    "lenVar": 40
   },
   "kernels_config": {
    "python": {
     "delete_cmd_postfix": "",
     "delete_cmd_prefix": "del ",
     "library": "var_list.py",
     "varRefreshCmd": "print(var_dic_list())"
    },
    "r": {
     "delete_cmd_postfix": ") ",
     "delete_cmd_prefix": "rm(",
     "library": "var_list.r",
     "varRefreshCmd": "cat(var_dic_list()) "
    }
   },
   "types_to_exclude": [
    "module",
    "function",
    "builtin_function_or_method",
    "instance",
    "_Feature"
   ],
   "window_display": false
  }
 },
 "nbformat": 4,
 "nbformat_minor": 2
}
