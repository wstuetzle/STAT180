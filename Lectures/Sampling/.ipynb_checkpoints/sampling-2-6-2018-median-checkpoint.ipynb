{
 "cells": [
  {
   "cell_type": "markdown",
   "metadata": {},
   "source": [
    "# <span style=\"color:red\"> Estimating a population characteristic from a sample: Median </span>"
   ]
  },
  {
   "cell_type": "code",
   "execution_count": 6,
   "metadata": {
    "collapsed": true
   },
   "outputs": [],
   "source": [
    "# Import modules \n",
    "\n",
    "import numpy as np\n",
    "from datascience import *\n",
    "# from datascience_extensions import *\n",
    "import seaborn as sns\n",
    "sns.set_style(\"whitegrid\")\n",
    "%matplotlib inline"
   ]
  },
  {
   "cell_type": "markdown",
   "metadata": {},
   "source": [
    "A summary of the methods for Table is [here](http://data8.org/datascience/tables.html) <br>\n",
    "A tutorial for the datascience module is [here](http://data8.org/datascience/tutorial.html) <br>\n",
    "A cheatsheet for the datascience module is [here](https://github.com/wstuetzle/STAT180/blob/master/Computing/data8_sp17_midterm_ref_sheet.pdf)"
   ]
  },
  {
   "cell_type": "markdown",
   "metadata": {},
   "source": [
    "### <span style=\"color:blue\"> Basics of sampling </span>\n",
    "\n",
    "[Slides](https://github.com/wstuetzle/STAT180/raw/master/Lectures/Sampling/lec2.ppt)"
   ]
  },
  {
   "cell_type": "markdown",
   "metadata": {},
   "source": [
    "### <span style=\"color:blue\"> An experiment to study the performance of sampling </span>\n",
    "\n",
    "Here is a data set recording the flight delays for United Airlines flights taking off from SFO during the third quarter of 2015."
   ]
  },
  {
   "cell_type": "code",
   "execution_count": 7,
   "metadata": {},
   "outputs": [
    {
     "data": {
      "text/html": [
       "<table border=\"1\" class=\"dataframe\">\n",
       "    <thead>\n",
       "        <tr>\n",
       "            <th>Date</th> <th>Flight Number</th> <th>Destination</th> <th>Delay</th>\n",
       "        </tr>\n",
       "    </thead>\n",
       "    <tbody>\n",
       "        <tr>\n",
       "            <td>6/1/15</td> <td>73           </td> <td>HNL        </td> <td>257  </td>\n",
       "        </tr>\n",
       "    </tbody>\n",
       "        <tr>\n",
       "            <td>6/1/15</td> <td>217          </td> <td>EWR        </td> <td>28   </td>\n",
       "        </tr>\n",
       "    </tbody>\n",
       "        <tr>\n",
       "            <td>6/1/15</td> <td>237          </td> <td>STL        </td> <td>-3   </td>\n",
       "        </tr>\n",
       "    </tbody>\n",
       "        <tr>\n",
       "            <td>6/1/15</td> <td>250          </td> <td>SAN        </td> <td>0    </td>\n",
       "        </tr>\n",
       "    </tbody>\n",
       "        <tr>\n",
       "            <td>6/1/15</td> <td>267          </td> <td>PHL        </td> <td>64   </td>\n",
       "        </tr>\n",
       "    </tbody>\n",
       "</table>\n",
       "<p>... (13727 rows omitted)</p"
      ],
      "text/plain": [
       "<IPython.core.display.HTML object>"
      ]
     },
     "metadata": {},
     "output_type": "display_data"
    },
    {
     "data": {
      "text/html": [
       "<table border=\"1\" class=\"dataframe\">\n",
       "    <thead>\n",
       "        <tr>\n",
       "            <th>Date</th> <th>Flight Number</th> <th>Destination</th> <th>Delay</th>\n",
       "        </tr>\n",
       "    </thead>\n",
       "    <tbody>\n",
       "        <tr>\n",
       "            <td>8/31/15</td> <td>1978         </td> <td>LAS        </td> <td>-4   </td>\n",
       "        </tr>\n",
       "    </tbody>\n",
       "        <tr>\n",
       "            <td>8/31/15</td> <td>1993         </td> <td>IAD        </td> <td>8    </td>\n",
       "        </tr>\n",
       "    </tbody>\n",
       "        <tr>\n",
       "            <td>8/31/15</td> <td>1994         </td> <td>ORD        </td> <td>3    </td>\n",
       "        </tr>\n",
       "    </tbody>\n",
       "        <tr>\n",
       "            <td>8/31/15</td> <td>2000         </td> <td>PHX        </td> <td>-1   </td>\n",
       "        </tr>\n",
       "    </tbody>\n",
       "        <tr>\n",
       "            <td>8/31/15</td> <td>2013         </td> <td>EWR        </td> <td>-2   </td>\n",
       "        </tr>\n",
       "    </tbody>\n",
       "</table>"
      ],
      "text/plain": [
       "Date    | Flight Number | Destination | Delay\n",
       "8/31/15 | 1978          | LAS         | -4\n",
       "8/31/15 | 1993          | IAD         | 8\n",
       "8/31/15 | 1994          | ORD         | 3\n",
       "8/31/15 | 2000          | PHX         | -1\n",
       "8/31/15 | 2013          | EWR         | -2"
      ]
     },
     "execution_count": 7,
     "metadata": {},
     "output_type": "execute_result"
    }
   ],
   "source": [
    "# delay_tab = Table.read_table(\"united.csv\")\n",
    "delay_tab = Table.read_table(\"https://github.com/wstuetzle/STAT180/raw/master/Lectures/Sampling/united.csv\")\n",
    "N = delay_tab.num_rows\n",
    "delay_tab.show(5)\n",
    "delay_tab.take(np.arange(N - 5, N))"
   ]
  },
  {
   "cell_type": "markdown",
   "metadata": {},
   "source": [
    "For our experiment we look at the delays. Here is a histogram"
   ]
  },
  {
   "cell_type": "code",
   "execution_count": 16,
   "metadata": {},
   "outputs": [
    {
     "data": {
      "image/png": "[encoded data removed]",
      "text/plain": [
       "<matplotlib.figure.Figure at 0x11f19e6d8>"
      ]
     },
     "metadata": {},
     "output_type": "display_data"
    }
   ],
   "source": [
    "delay_tab.hist(\"Delay\", bins = np.arange(-10, 300, 5))"
   ]
  },
  {
   "cell_type": "code",
   "execution_count": 8,
   "metadata": {},
   "outputs": [
    {
     "data": {
      "text/plain": [
       "13217"
      ]
     },
     "execution_count": 8,
     "metadata": {},
     "output_type": "execute_result"
    }
   ],
   "source": [
    "# Let's see how many flights took off early\n",
    "\n",
    "delay_tab.where(\"Delay\", are.below(0)).num_rows\n",
    "\n",
    "# Wow - I wonder why that is\n",
    "\n",
    "# For our experiment, let's focus on delays below 100 minutes\n",
    "\n",
    "population = delay_tab.where(\"Delay\", are.below(100))\n",
    "population.relabel(\"Delay\", \"value\")\n",
    "\n",
    "N = population.num_rows\n",
    "N"
   ]
  },
  {
   "cell_type": "code",
   "execution_count": 9,
   "metadata": {},
   "outputs": [
    {
     "name": "stdout",
     "output_type": "stream",
     "text": [
      "min = -10\n",
      "max = 99\n",
      "mean = 10.5871226451\n",
      "median = 2.0\n",
      "standard deviation = 21.3639543727\n"
     ]
    }
   ],
   "source": [
    "print (\"min = \" + str(np.min(population.column(\"value\"))))\n",
    "print (\"max = \" + str(np.max(population.column(\"value\"))))\n",
    "print (\"mean = \" + str(np.mean(population.column(\"value\"))))\n",
    "print (\"median = \" + str(np.median(population.column(\"value\"))))\n",
    "print (\"standard deviation = \" + str(np.std(population.column(\"value\"))))"
   ]
  },
  {
   "cell_type": "markdown",
   "metadata": {},
   "source": [
    "** We want to perform an experiment to find out how accurately we can estimate a population parameter (population mean, population median, population standard deviation, ...) by the plug-in estimate (sample mean, sample median, sample standard deviation, ...) for a simple random sample of the flights **\n",
    "\n",
    "(\"Simple random sample\" means all possible samples are equally likely to be chosen.\n",
    "\n",
    "We will first use sampling with replacement. It is easier to analyze, and the performance is similar to sampling without replacement, as long as the sample size is a small fraction of the population size (< 10%)"
   ]
  },
  {
   "cell_type": "code",
   "execution_count": 11,
   "metadata": {
    "collapsed": true
   },
   "outputs": [],
   "source": [
    "# Here are some examples we may want to try\n",
    "\n",
    "# statistic = np.mean\n",
    "statistic = np.median\n",
    "# statistics = np.std"
   ]
  },
  {
   "cell_type": "code",
   "execution_count": 13,
   "metadata": {},
   "outputs": [
    {
     "name": "stdout",
     "output_type": "stream",
     "text": [
      "population parameter = 2.0\n",
      "estimate =  5.0\n",
      "estimate =  -0.5\n",
      "estimate =  1.0\n",
      "estimate =  6.5\n",
      "estimate =  1.5\n",
      "estimate =  4.5\n"
     ]
    }
   ],
   "source": [
    "# Let's see some examples for sample size n = 16\n",
    "\n",
    "population_parameter = statistic(population.column(\"value\"))\n",
    "print(\"population parameter = \" + str(population_parameter))\n",
    "\n",
    "n = 16\n",
    "wr = True\n",
    "print(\"estimate = \", str(statistic(population.sample(n, with_replacement = wr).column(\"value\"))))\n",
    "print(\"estimate = \", str(statistic(population.sample(n, with_replacement = wr).column(\"value\"))))\n",
    "print(\"estimate = \", str(statistic(population.sample(n, with_replacement = wr).column(\"value\"))))\n",
    "print(\"estimate = \", str(statistic(population.sample(n, with_replacement = wr).column(\"value\"))))\n",
    "print(\"estimate = \", str(statistic(population.sample(n, with_replacement = wr).column(\"value\"))))\n",
    "print(\"estimate = \", str(statistic(population.sample(n, with_replacement = wr).column(\"value\"))))"
   ]
  },
  {
   "cell_type": "markdown",
   "metadata": {},
   "source": [
    "** Always keep in mind: ** \n",
    "\n",
    "* The estimate depends on which sample we happen to pick\n",
    "* We could be unlucky and pick the 16 members of the population with the smallest values, or the 16 members with the largest values, and the value of the statistic would be very far away from the population parameter.\n",
    "* Therefore we can only analyze the performance of the sampling procedure on the average over samples."
   ]
  },
  {
   "cell_type": "code",
   "execution_count": 14,
   "metadata": {},
   "outputs": [
    {
     "name": "stdout",
     "output_type": "stream",
     "text": [
      "population parameter = 2.0\n",
      "estimate =  1.0\n",
      "estimate =  2.0\n",
      "estimate =  3.0\n",
      "estimate =  2.0\n",
      "estimate =  2.0\n",
      "estimate =  3.0\n"
     ]
    }
   ],
   "source": [
    "# Let's try n = 1064\n",
    "\n",
    "n = 1064\n",
    "wr = True\n",
    "print(\"population parameter = \" + str(population_parameter))\n",
    "print(\"estimate = \", str(statistic(population.sample(n, with_replacement = wr).column(\"value\"))))\n",
    "print(\"estimate = \", str(statistic(population.sample(n, with_replacement = wr).column(\"value\"))))\n",
    "print(\"estimate = \", str(statistic(population.sample(n, with_replacement = wr).column(\"value\"))))\n",
    "print(\"estimate = \", str(statistic(population.sample(n, with_replacement = wr).column(\"value\"))))\n",
    "print(\"estimate = \", str(statistic(population.sample(n, with_replacement = wr).column(\"value\"))))\n",
    "print(\"estimate = \", str(statistic(population.sample(n, with_replacement = wr).column(\"value\"))))\n",
    "\n",
    "# These estimate are a lot closer to the population parameter"
   ]
  },
  {
   "cell_type": "code",
   "execution_count": null,
   "metadata": {
    "collapsed": true
   },
   "outputs": [],
   "source": []
  },
  {
   "cell_type": "markdown",
   "metadata": {},
   "source": [
    "### <span style=\"color:blue\"> Assessing the performance of a statistic as an estimate of the population parameter </span>\n",
    "\n",
    "There are finitely many possible samples (N^n for sampling with replacement) which are all equally likely.\n",
    "\n",
    "Let's take a look at \n",
    "* the average of the statistic  (for the N^n samples)\n",
    "* the distribution (histogram) of the statistic (for the N^n samples)\n",
    "* the standard deviation of the statistic (for the N^n samples)\n",
    "\n",
    "for different sample sizes (n = 4, 16, 64, 256, 1024)\n",
    "\n",
    "In our experiment we can't average over all N^n sample - there are too many of them.\n",
    "So instead we randomly pick a large number of them.\n"
   ]
  },
  {
   "cell_type": "code",
   "execution_count": 30,
   "metadata": {
    "collapsed": true
   },
   "outputs": [],
   "source": [
    "# Here is a function that evaluates a statistic (think np.mean) for\n",
    "# num_samples samples of size sample_size from the population\n",
    "\n",
    "def evaluate_statistic_for_random_samples(statistic, sample_size, num_samples, with_replacement):\n",
    "    estimates = np.zeros(num_samples)\n",
    "    for i in range(num_samples):\n",
    "        sample = population.select(\"value\").sample(sample_size, with_replacement).column(\"value\")\n",
    "        estimates[i] = statistic(sample)\n",
    "        if i % 10000 == 0:\n",
    "            print(str(i) + \" \", end = \"\")\n",
    "    return(estimates)"
   ]
  },
  {
   "cell_type": "code",
   "execution_count": null,
   "metadata": {},
   "outputs": [],
   "source": [
    "# Calculate the sample std's for 1,000,000 randomly drawn samples of sizes \n",
    "# 4, 16, 64, 256, 1024 with replacement\n",
    "\n",
    "# sample_sizes = [4, 16, 64, 256, 1024]\n",
    "# nrep = 1000000  # number of samples\n",
    "\n",
    "# wr = True       # with replacement\n",
    "# stat = np.std\n",
    "\n",
    "# This calculation takes a while. I therefoee pre-computed the table and saved it.\n",
    "\n",
    "# estimates_tab = Table()\n",
    "# for n in sample_sizes:\n",
    "#    estimates = evaluate_statistic_for_random_samples(stat, n, nrep, wr)\n",
    "#    estimates_tab = estimates_tab.with_column(str(n), estimates)\n",
    "# estimates_tab.to_csv(\"std-with-replacement.csv\")"
   ]
  },
  {
   "cell_type": "code",
   "execution_count": null,
   "metadata": {
    "collapsed": true
   },
   "outputs": [],
   "source": [
    "# Calculate the sample means for 1,000,000 randomly drawn samples of sizes \n",
    "# 4, 16, 64, 256, 1024 with replacement\n",
    "\n",
    "# sample_sizes = [4, 16, 64, 256, 1024]\n",
    "# nrep = 1000000  # number of samples\n",
    "\n",
    "# wr = True       # with replacement\n",
    "# stat = np.mean\n",
    "\n",
    "# This calculation takes a while. I therefoee pre-computed the table and saved it.\n",
    "\n",
    "# estimates_tab = Table()\n",
    "# for n in sample_sizes:\n",
    "#    estimates = evaluate_statistic_for_random_samples(stat, n, nrep, wr)\n",
    "#    estimates_tab = estimates_tab.with_column(str(n), estimates)\n",
    "# estimates_tab.to_csv(\"mean-with-replacement.csv\")"
   ]
  },
  {
   "cell_type": "code",
   "execution_count": null,
   "metadata": {
    "collapsed": true
   },
   "outputs": [],
   "source": [
    "# Calculate the sample medians for 1,000,000 randomly drawn samples of sizes \n",
    "# 4, 16, 64, 256, 1024 with replacement\n",
    "\n",
    "# sample_sizes = [4, 16, 64, 256, 1024]\n",
    "# nrep = 1000000  # number of samples\n",
    "\n",
    "# wr = True       # with replacement\n",
    "# stat = np.median\n",
    "\n",
    "# estimates_tab = Table()\n",
    "# for n in sample_sizes:\n",
    "#     estimates = evaluate_statistic_for_random_samples(stat, n, nrep, wr)\n",
    "#    estimates_tab = estimates_tab.with_column(str(n), estimates)\n",
    "# estimates_tab.to_csv(\"median-with-replacement.csv\")"
   ]
  },
  {
   "cell_type": "code",
   "execution_count": null,
   "metadata": {
    "collapsed": true
   },
   "outputs": [],
   "source": [
    "# Calculate the sample means for 1,000,000 randomly drawn samples of sizes \n",
    "# 4, 16, 64, 256, 1024 without replacement\n",
    "\n",
    "# sample_sizes = [4, 16, 64, 256, 1024]\n",
    "# nrep = 1000000   # number of samples\n",
    "\n",
    "# wr = False       # without replacement\n",
    "# stat = np.mean\n",
    "\n",
    "# estimates_tab = Table()\n",
    "# for n in sample_sizes:\n",
    "#     estimates = evaluate_statistic_for_random_samples(stat, n, nrep, wr)\n",
    "#     estimates_tab = estimates_tab.with_column(str(n), estimates)\n",
    "# estimates_tab.to_csv(\"mean-without-replacement.csv\")"
   ]
  },
  {
   "cell_type": "code",
   "execution_count": null,
   "metadata": {
    "collapsed": true
   },
   "outputs": [],
   "source": [
    "# Calculate the sample medians for 1,000,000 randomly drawn samples of sizes \n",
    "# 4, 16, 64, 256, 1024 without replacement\n",
    "\n",
    "# sample_sizes = [4, 16, 64, 256, 1024]\n",
    "# nrep = 1000000   # number of samples\n",
    "\n",
    "# wr = False       # without replacement\n",
    "# stat = np.median\n",
    "\n",
    "# estimates_tab = Table()\n",
    "# for n in sample_sizes:\n",
    "#     estimates = evaluate_statistic_for_random_samples(stat, n, nrep, wr)\n",
    "#     estimates_tab = estimates_tab.with_column(str(n), estimates)\n",
    "# estimates_tab.to_csv(\"median-without-replacement.csv\")"
   ]
  },
  {
   "cell_type": "markdown",
   "metadata": {},
   "source": [
    "##  <span style=\"color:purple\"> 0. Read table of estimates </span>"
   ]
  },
  {
   "cell_type": "code",
   "execution_count": 15,
   "metadata": {},
   "outputs": [
    {
     "data": {
      "text/html": [
       "<table border=\"1\" class=\"dataframe\">\n",
       "    <thead>\n",
       "        <tr>\n",
       "            <th>4</th> <th>16</th> <th>64</th> <th>256</th> <th>1024</th>\n",
       "        </tr>\n",
       "    </thead>\n",
       "    <tbody>\n",
       "        <tr>\n",
       "            <td>-0.5</td> <td>-1  </td> <td>2   </td> <td>2   </td> <td>2   </td>\n",
       "        </tr>\n",
       "    </tbody>\n",
       "        <tr>\n",
       "            <td>16  </td> <td>0   </td> <td>1.5 </td> <td>2   </td> <td>2   </td>\n",
       "        </tr>\n",
       "    </tbody>\n",
       "        <tr>\n",
       "            <td>-2.5</td> <td>4.5 </td> <td>0   </td> <td>3   </td> <td>1   </td>\n",
       "        </tr>\n",
       "    </tbody>\n",
       "        <tr>\n",
       "            <td>7.5 </td> <td>5   </td> <td>1   </td> <td>1   </td> <td>2   </td>\n",
       "        </tr>\n",
       "    </tbody>\n",
       "        <tr>\n",
       "            <td>10  </td> <td>7   </td> <td>5   </td> <td>1   </td> <td>2   </td>\n",
       "        </tr>\n",
       "    </tbody>\n",
       "</table>\n",
       "<p>... (999995 rows omitted)</p"
      ],
      "text/plain": [
       "<IPython.core.display.HTML object>"
      ]
     },
     "metadata": {},
     "output_type": "display_data"
    }
   ],
   "source": [
    "if (statistic == np.median) & (wr == True):\n",
    "    pathname = \"https://github.com/wstuetzle/STAT180/raw/master/Lectures/Sampling/median-with-replacement.csv\"\n",
    "    estimates_tab = Table.read_table(pathname)\n",
    "    estimates_tab.show(5)\n",
    "    sample_sizes = [4, 16, 64, 256, 1024]    "
   ]
  },
  {
   "cell_type": "markdown",
   "metadata": {},
   "source": [
    "##  <span style=\"color:purple\"> 1. Calculate the average of the statistic for the different sample sizes </span>"
   ]
  },
  {
   "cell_type": "code",
   "execution_count": 17,
   "metadata": {},
   "outputs": [
    {
     "name": "stdout",
     "output_type": "stream",
     "text": [
      "n = 4  average_of_estimates = 6.1278415\n",
      "n = 16  average_of_estimates = 2.8505325\n",
      "n = 64  average_of_estimates = 2.1319065\n",
      "n = 256  average_of_estimates = 1.959621\n",
      "n = 1024  average_of_estimates = 1.9316875\n",
      "population parameter = 2.0\n"
     ]
    }
   ],
   "source": [
    "ns = len(sample_sizes)\n",
    "for i in np.arange(ns):\n",
    "    ave_of_estimates = np.mean(estimates_tab.column(i))\n",
    "    print(\"n = \" + str(sample_sizes[i]) + \"  average_of_estimates = \" + str(ave_of_estimates))\n",
    "print(\"population parameter = \" + str(population_parameter))"
   ]
  },
  {
   "cell_type": "markdown",
   "metadata": {},
   "source": [
    "## <span style=\"color:purple\"> Finding 1: The sample median is a biased estimate of the population mean </span>"
   ]
  },
  {
   "cell_type": "markdown",
   "metadata": {},
   "source": [
    "## <span style=\"color:purple\"> 2. Draw histograms of the sample medians for the different sample sizes </span>\n",
    "\n",
    "First all on the same scale"
   ]
  },
  {
   "cell_type": "code",
   "execution_count": 18,
   "metadata": {},
   "outputs": [
    {
     "data": {
      "image/png": "[encoded data removed]",
      "text/plain": [
       "<matplotlib.figure.Figure at 0x11aca78d0>"
      ]
     },
     "metadata": {},
     "output_type": "display_data"
    }
   ],
   "source": [
    "# \n",
    "\n",
    "estimates_tab.hist(\"4\", \"16\", \"64\", \"256\", \"1024\", bins = np.arange(0, 60, 1), overlay = False)"
   ]
  },
  {
   "cell_type": "markdown",
   "metadata": {},
   "source": [
    "## <span style=\"color:purple\"> Finding 2a: As the sample size increases, the sample medians cluster more and more tighly around the population median </span>"
   ]
  },
  {
   "cell_type": "code",
   "execution_count": 28,
   "metadata": {
    "scrolled": true
   },
   "outputs": [
    {
     "data": {
      "image/png": "[encoded data removed]",
      "text/plain": [
       "<matplotlib.figure.Figure at 0x11adae7f0>"
      ]
     },
     "metadata": {},
     "output_type": "display_data"
    }
   ],
   "source": [
    "# Now draw histograms on individual scales\n",
    "\n",
    "# estimates_tab.hist(\"4\", bins = np.arange(-5, 60, 1))\n",
    "# estimates_tab.hist(\"16\", bins = np.arange(-5, 25, 1))\n",
    "# estimates_tab.select(\"64\").group(\"64\").barh(\"64\")\n",
    "# estimates_tab.select(\"256\").group(\"256\").barh(\"256\")\n",
    "estimates_tab.select(\"1024\").group(\"1024\").barh(\"1024\")"
   ]
  },
  {
   "cell_type": "markdown",
   "metadata": {},
   "source": [
    "## <span style=\"color:purple\"> Finding 2b: No \"bell shaped curve\" here. The data is discrete and the median can only be a data value of the average between two adjacent data values.  </span>\n"
   ]
  },
  {
   "cell_type": "markdown",
   "metadata": {},
   "source": [
    "## <span style=\"color:purple\"> 3. Calculate the std of the statistic for the different sample sizes"
   ]
  },
  {
   "cell_type": "code",
   "execution_count": 29,
   "metadata": {},
   "outputs": [
    {
     "name": "stdout",
     "output_type": "stream",
     "text": [
      "n = 4  std_of_estimates = 9.92493575802  population std / n^0.5 = 17.4359346335\n",
      "n = 16  std_of_estimates = 3.8186860589  population std / n^0.5 = 8.71796731676\n",
      "n = 64  std_of_estimates = 1.743899775  population std / n^0.5 = 4.35898365838\n",
      "n = 256  std_of_estimates = 0.904462291286  population std / n^0.5 = 2.17949182919\n",
      "n = 1024  std_of_estimates = 0.492950456277  population std / n^0.5 = 1.08974591459\n"
     ]
    }
   ],
   "source": [
    "ns = len(sample_sizes)\n",
    "population_std = np.std(delay_tab.column(\"Delay\"))\n",
    "for i in np.arange(ns):\n",
    "    std_of_estimates = np.std(estimates_tab.column(i))\n",
    "    print(\"n = \" + str(sample_sizes[i]) + \"  std_of_estimates = \" + str(std_of_estimates), end = \"\")\n",
    "    print(\"  population std / n^0.5 = \" + str(population_std / sample_sizes[i] ** 0.5))"
   ]
  },
  {
   "cell_type": "markdown",
   "metadata": {},
   "source": [
    "## <span style=\"color:purple\"> Finding 3: The std of sample medians of random samples of size n depends on n in a more complicated way."
   ]
  },
  {
   "cell_type": "code",
   "execution_count": null,
   "metadata": {
    "collapsed": true
   },
   "outputs": [],
   "source": []
  },
  {
   "cell_type": "markdown",
   "metadata": {},
   "source": [
    "##  <span style=\"color:purple\"> 4. Calculate the fraction of sample medians that are within +- 2 * (std of sample means) from the population median </span>.\n",
    "\n",
    "We can skip that because the distribution of sample medians in our example is so weird."
   ]
  },
  {
   "cell_type": "code",
   "execution_count": 29,
   "metadata": {},
   "outputs": [
    {
     "name": "stdout",
     "output_type": "stream",
     "text": [
      "n = 4  fraction within interval = 0.955503\n",
      "n = 16  fraction within interval = 0.959824\n",
      "n = 64  fraction within interval = 0.956197\n",
      "n = 256  fraction within interval = 0.954879\n",
      "n = 1024  fraction within interval = 0.954883\n"
     ]
    }
   ],
   "source": [
    "population_std = np.std(delay_tab.column(\"Delay\"))\n",
    "population_parameter = np.mean(delay_tab.column(\"Delay\"))\n",
    "\n",
    "ns = len(sample_sizes)\n",
    "for i in np.arange(ns):\n",
    "    lab = estimates_tab.labels[i]\n",
    "    ni = sample_sizes[i]\n",
    "    std_of_means = population_std / (ni ** 0.5)\n",
    "    estimates_within = estimates_tab.where(lab, are.between((population_mean - 2 * std_of_means),\n",
    "                                                            (population_mean + 2 * std_of_means)))\n",
    "    fraction_within = estimates_within.num_rows / estimates_tab.num_rows\n",
    "    print(\"n = \" + str(ni) + \"  fraction within interval = \" + str(fraction_within))\n"
   ]
  },
  {
   "cell_type": "markdown",
   "metadata": {},
   "source": [
    "## <span style=\"color:purple\"> Finding 4: About 95% of sample means are within +- 2 * (std of sample means) from the population mean </span>\n",
    "(This is a consequence of Finding 2b)"
   ]
  },
  {
   "cell_type": "code",
   "execution_count": null,
   "metadata": {
    "collapsed": true
   },
   "outputs": [],
   "source": []
  },
  {
   "cell_type": "code",
   "execution_count": null,
   "metadata": {
    "collapsed": true
   },
   "outputs": [],
   "source": []
  }
 ],
 "metadata": {
  "kernelspec": {
   "display_name": "Python 3",
   "language": "python",
   "name": "python3"
  },
  "language_info": {
   "codemirror_mode": {
    "name": "ipython",
    "version": 3
   },
   "file_extension": ".py",
   "mimetype": "text/x-python",
   "name": "python",
   "nbconvert_exporter": "python",
   "pygments_lexer": "ipython3",
   "version": "3.6.1"
  },
  "varInspector": {
   "cols": {
    "lenName": 16,
    "lenType": 16,
    "lenVar": 40
   },
   "kernels_config": {
    "python": {
     "delete_cmd_postfix": "",
     "delete_cmd_prefix": "del ",
     "library": "var_list.py",
     "varRefreshCmd": "print(var_dic_list())"
    },
    "r": {
     "delete_cmd_postfix": ") ",
     "delete_cmd_prefix": "rm(",
     "library": "var_list.r",
     "varRefreshCmd": "cat(var_dic_list()) "
    }
   },
   "types_to_exclude": [
    "module",
    "function",
    "builtin_function_or_method",
    "instance",
    "_Feature"
   ],
   "window_display": false
  }
 },
 "nbformat": 4,
 "nbformat_minor": 2
}
