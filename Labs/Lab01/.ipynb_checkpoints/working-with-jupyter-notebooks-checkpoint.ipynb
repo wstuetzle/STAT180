{
 "cells": [
  {
   "cell_type": "markdown",
   "metadata": {},
   "source": [
    "# Working with Jupyter notebooks\n",
    "\n",
    "You are probably familiar with Microsoft Word, a program that lets you create documents containing text, tables, graphics, etc. Once you have produced a document you can save it, and Word will create a file in a Word-specific format. Files created by Word typically have a name ending with \".doc\", as in \"my-letter.doc\". You can open .doc files in Word and edit them. However, If you don't have the Word program on your computer you can't read or edit Word documents. Word gives you the option of saving your document in other formats, such as PDF. You can view my-letter.pdf using, for example, Adobe Acrobat, and it will look the same as my-letter.doc does when you open it in Word. However, all you can do with my-letter.pdf is view it - you can't edit it, and you can't reconstruct my-letter.doc.\n",
    "\n",
    "In this regard, Jupyter notebooks are like Word documents. You create and edit Jupyter notebooks with a \"Jupyter server\", and you can save them in a Jupyter specific format. Jupyter notebooks typically have a name ending in \".ipynb\", as in \"lab01.ipynb\". A Jupyter server gives you the option of saving a notebook in other formats, like PDF or HTML. You can  view \"lab01.pdf\" (in fact you are doing that right now) but you can't edit it.\n",
    "\n",
    "We will use a free Jupyter server provided my Microsoft. Its URL is http://notebooks.azure.com. Visit this Web page. Next steps:\n",
    "\n",
    "* You will see \"Sign in\" in the top right corner. Sign in with your UW netid and password. \n",
    "\n",
    "\n",
    "* Click on \"Libraries\" near the top left of the screen. You should see a single library \"Sample notebooks\". \n",
    "\n",
    "\n",
    "* Click on \"+ New Library\" and name the new library \"STAT180\". \n",
    "\n",
    "\n",
    "* Open STAT180 by clicking on it. It should be empty.\n",
    "\n",
    "\n",
    "* Click \"+ New\" and you will see a window titled \"Add items to library\". \n",
    "\n",
    "\n",
    "* Click on \"From computer\" and \"Choose files\". You will see a window that lets you choose a file on your computer.\n",
    "\n",
    "\n",
    "* Choose \"lab01.ipynb\" (This assumes that you have downloaded lab01.ipynb from the Canvas site to your computer.) You should now see lab01.ipynb in the STAT180 library.\n",
    "\n",
    "\n",
    "* Click on lab01.ipynb and the notebook should open.\n",
    "\n",
    "\n",
    "Instead of uploading an existing notebook you can also open a new one. When asked for an \"Item type\" choose \"Python 3.5 Notebook\"\n",
    "\n",
    "Once you are finished working on a notebook, you may want to download it to your computer (for example if it is a homework that you want to hand in). To download, right-click the filename and choose \"Download\".\n",
    "\n",
    "\n",
    "\n",
    "\n",
    "\n",
    "\n"
   ]
  }
 ],
 "metadata": {
  "kernelspec": {
   "display_name": "Python 3",
   "language": "python",
   "name": "python3"
  },
  "language_info": {
   "codemirror_mode": {
    "name": "ipython",
    "version": 3
   },
   "file_extension": ".py",
   "mimetype": "text/x-python",
   "name": "python",
   "nbconvert_exporter": "python",
   "pygments_lexer": "ipython3",
   "version": "3.6.1"
  }
 },
 "nbformat": 4,
 "nbformat_minor": 2
}
