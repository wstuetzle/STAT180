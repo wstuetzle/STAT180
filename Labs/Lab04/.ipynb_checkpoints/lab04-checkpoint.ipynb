{
 "cells": [
  {
   "cell_type": "markdown",
   "metadata": {
    "collapsed": true
   },
   "source": [
    "# Lab 4 \n",
    "\n",
    "Welcome to lab 4! You will practice using tables and bar chart to take another look at the Titanic data. "
   ]
  },
  {
   "cell_type": "code",
   "execution_count": 1,
   "metadata": {
    "collapsed": true
   },
   "outputs": [],
   "source": [
    "# !pip install datascience   # You need to run this cell if you are working on Azure"
   ]
  },
  {
   "cell_type": "code",
   "execution_count": 2,
   "metadata": {
    "collapsed": true
   },
   "outputs": [],
   "source": [
    "# Import modules \n",
    "\n",
    "import numpy as np\n",
    "from datascience import *\n",
    "from datascience_extensions import *\n",
    "%matplotlib inline"
   ]
  },
  {
   "cell_type": "markdown",
   "metadata": {},
   "source": [
    "A summary of the methods to Table is [here](http://data8.org/datascience/tables.html) <br>\n",
    "A tutorial for the datascience module is [here](http://data8.org/datascience/tutorial.html) <br>\n",
    "A cheatsheet for the datascience module is [here](https://github.com/wstuetzle/STAT180/blob/master/Computing/data8_sp17_midterm_ref_sheet.pdf)"
   ]
  },
  {
   "cell_type": "markdown",
   "metadata": {},
   "source": [
    "** 1. Read the titanic data from \"titanic3-table.csv\" and show the fist three rows **"
   ]
  },
  {
   "cell_type": "markdown",
   "metadata": {},
   "source": [
    "** 2. Produce a table of the conditional distribution of survived, given pclass and draw the corresponding bar chart **\n",
    "\n",
    "** Hints: **\n",
    "* Use the .group method with the optional argument \"collect\"\n",
    "* For a binary feature taking on the numerical values 0 or 1 the relative \n",
    "   frequency of 1 is the mean value of the feature"
   ]
  },
  {
   "cell_type": "markdown",
   "metadata": {},
   "source": [
    "** 3. Fill in the missing word **\n",
    "\n",
    "First class passengers were about ... times as likely to survive as third class passengers"
   ]
  },
  {
   "cell_type": "markdown",
   "metadata": {},
   "source": [
    "** 4. Produce a table of the conditional distribution of survived, \n",
    "given pclass and sex, and draw the corresponding bar chart **\n",
    "\n",
    "** Hint: **\n",
    "* Use the .pivot method with the optional arguments \"vals\" and \"collect\"\n"
   ]
  },
  {
   "cell_type": "markdown",
   "metadata": {},
   "source": [
    "** 5. Fill in the missing words **\n",
    "\n",
    "* Females in 2nd class were about ...% as likely to survive as females in 1st class\n",
    "\n",
    "* Females in 3rd class were about ...% as likely to survive as females in 1st class"
   ]
  },
  {
   "cell_type": "markdown",
   "metadata": {},
   "source": [
    "** 6. Create a new column \"died\". Produce table and barchart for the conditional distribution of died, given pclass and sex. **"
   ]
  },
  {
   "cell_type": "markdown",
   "metadata": {},
   "source": [
    "** 7. Fill in the missing words **\n",
    "\n",
    "* Females in 2nd class were about ... times as likely to die as females in 1st class\n",
    "\n",
    "* Females in 3rd class were about ... times as likely to die as females in 1st class"
   ]
  },
  {
   "cell_type": "markdown",
   "metadata": {},
   "source": [
    "** 8. Create a new table titanic_wa (\"with age\") containig all the passengers of titanic with known age. **\n",
    "\n",
    "* Print the number of rows of titanic_wa"
   ]
  },
  {
   "cell_type": "markdown",
   "metadata": {},
   "source": [
    "** 9. For the table titanic_wa create a new feature \"mfc\" (for Male, Female, or Child) with values \"male\", \"female\", \"child\" **\n",
    "\n",
    "* Any passenger age 15 or younger is considered  child\n",
    "\n",
    "* Show the first four rows."
   ]
  },
  {
   "cell_type": "markdown",
   "metadata": {},
   "source": [
    "** 10. What can you say about the likelihood of survival of children compared to the likelihood of survival of women and men in the same cabin class?  (open ended question) **"
   ]
  },
  {
   "cell_type": "code",
   "execution_count": null,
   "metadata": {
    "collapsed": true
   },
   "outputs": [],
   "source": []
  }
 ],
 "metadata": {
  "kernelspec": {
   "display_name": "Python 3",
   "language": "python",
   "name": "python3"
  },
  "language_info": {
   "codemirror_mode": {
    "name": "ipython",
    "version": 3
   },
   "file_extension": ".py",
   "mimetype": "text/x-python",
   "name": "python",
   "nbconvert_exporter": "python",
   "pygments_lexer": "ipython3",
   "version": "3.6.1"
  },
  "varInspector": {
   "cols": {
    "lenName": 16,
    "lenType": 16,
    "lenVar": 40
   },
   "kernels_config": {
    "python": {
     "delete_cmd_postfix": "",
     "delete_cmd_prefix": "del ",
     "library": "var_list.py",
     "varRefreshCmd": "print(var_dic_list())"
    },
    "r": {
     "delete_cmd_postfix": ") ",
     "delete_cmd_prefix": "rm(",
     "library": "var_list.r",
     "varRefreshCmd": "cat(var_dic_list()) "
    }
   },
   "types_to_exclude": [
    "module",
    "function",
    "builtin_function_or_method",
    "instance",
    "_Feature"
   ],
   "window_display": false
  }
 },
 "nbformat": 4,
 "nbformat_minor": 2
}
