{
 "cells": [
  {
   "cell_type": "code",
   "execution_count": 10,
   "metadata": {
    "collapsed": true
   },
   "outputs": [],
   "source": [
    "# Import modules \n",
    "\n",
    "import numpy as np\n",
    "from datascience import *\n",
    "from datascience_extensions import *\n",
    "import seaborn as sns\n",
    "sns.set_style(\"whitegrid\")\n",
    "%matplotlib inline"
   ]
  },
  {
   "cell_type": "markdown",
   "metadata": {},
   "source": [
    "### Maternal smoking and pregnacies\n",
    "\n",
    "Printed below are the first three rows of a table. The column labels should be self explanatory."
   ]
  },
  {
   "cell_type": "code",
   "execution_count": 11,
   "metadata": {
    "scrolled": true
   },
   "outputs": [
    {
     "data": {
      "text/html": [
       "<table border=\"1\" class=\"dataframe\">\n",
       "    <thead>\n",
       "        <tr>\n",
       "            <th>Birth Weight</th> <th>Gestational Days</th> <th>Maternal Age</th> <th>Maternal Height</th> <th>Maternal Pregnancy Weight</th> <th>Maternal Smoker</th>\n",
       "        </tr>\n",
       "    </thead>\n",
       "    <tbody>\n",
       "        <tr>\n",
       "            <td>120         </td> <td>284             </td> <td>27          </td> <td>62             </td> <td>100                      </td> <td>False          </td>\n",
       "        </tr>\n",
       "    </tbody>\n",
       "        <tr>\n",
       "            <td>113         </td> <td>282             </td> <td>33          </td> <td>64             </td> <td>135                      </td> <td>False          </td>\n",
       "        </tr>\n",
       "    </tbody>\n",
       "        <tr>\n",
       "            <td>128         </td> <td>279             </td> <td>28          </td> <td>64             </td> <td>115                      </td> <td>True           </td>\n",
       "        </tr>\n",
       "    </tbody>\n",
       "</table>\n",
       "<p>... (1171 rows omitted)</p"
      ],
      "text/plain": [
       "<IPython.core.display.HTML object>"
      ]
     },
     "metadata": {},
     "output_type": "display_data"
    }
   ],
   "source": [
    "baby = Table().read_table(\"baby.csv\")\n",
    "baby.show(3)"
   ]
  },
  {
   "cell_type": "markdown",
   "metadata": {},
   "source": [
    "** Problem 1 ** (10 points)\n",
    "\n",
    "Write Python code that finds the weight of the heaviest baby"
   ]
  },
  {
   "cell_type": "code",
   "execution_count": 12,
   "metadata": {},
   "outputs": [
    {
     "data": {
      "text/plain": [
       "176"
      ]
     },
     "execution_count": 12,
     "metadata": {},
     "output_type": "execute_result"
    }
   ],
   "source": [
    "baby.sort(\"Birth Weight\", descending = True).column(\"Birth Weight\")[0]\n",
    "max(baby.column(\"Birth Weight\"))\n",
    "np.max(baby.column(\"Birth Weight\"))"
   ]
  },
  {
   "cell_type": "markdown",
   "metadata": {},
   "source": [
    "** Problem 2 ** (10 points)\n",
    "\n",
    "Write Python code that computes the average birth weight of babies of 33 year old mothers"
   ]
  },
  {
   "cell_type": "code",
   "execution_count": 13,
   "metadata": {},
   "outputs": [
    {
     "data": {
      "text/plain": [
       "123.28571428571429"
      ]
     },
     "execution_count": 13,
     "metadata": {},
     "output_type": "execute_result"
    }
   ],
   "source": [
    "np.mean(baby.where(\"Maternal Age\", are.equal_to(33)).column(\"Birth Weight\"))"
   ]
  },
  {
   "cell_type": "markdown",
   "metadata": {},
   "source": [
    "** Problem 3 ** (10 points)\n",
    "\n",
    "Write Python code that computes the average birth weight of babies of 33 year old smokers"
   ]
  },
  {
   "cell_type": "code",
   "execution_count": 14,
   "metadata": {},
   "outputs": [
    {
     "data": {
      "text/plain": [
       "118.625"
      ]
     },
     "execution_count": 14,
     "metadata": {},
     "output_type": "execute_result"
    }
   ],
   "source": [
    "np.mean(baby.where(\"Maternal Age\", are.equal_to(33)).where(\"Maternal Smoker\", are.equal_to(True)) \\\n",
    "        .column(\"Birth Weight\"))"
   ]
  },
  {
   "cell_type": "markdown",
   "metadata": {},
   "source": [
    "** Problem 4 **  (10 points)\n",
    "\n",
    "Write Python code that draws a bar chart showing the mean birth weights\n",
    "for babies of smokers and babies of non-smokers."
   ]
  },
  {
   "cell_type": "code",
   "execution_count": 15,
   "metadata": {},
   "outputs": [
    {
     "data": {
      "image/png": "[encoded data removed]",
      "text/plain": [
       "<matplotlib.figure.Figure at 0x116ee8080>"
      ]
     },
     "metadata": {},
     "output_type": "display_data"
    }
   ],
   "source": [
    "baby.select(\"Maternal Smoker\", \"Birth Weight\").group(\"Maternal Smoker\", np.mean).barh(\"Maternal Smoker\")"
   ]
  },
  {
   "cell_type": "markdown",
   "metadata": {},
   "source": [
    "** Problem 5 ** (20 points)\n",
    "\n",
    "Write a function \n",
    "\n",
    "  mean_birth_weight(query_age)\n",
    "\n",
    "that returns the average birth weight of babies with Maternal Age = query_age if there are such babies in the data set, and \"None\" otherwise."
   ]
  },
  {
   "cell_type": "code",
   "execution_count": 16,
   "metadata": {},
   "outputs": [
    {
     "name": "stdout",
     "output_type": "stream",
     "text": [
      "123.285714286\n",
      "None\n"
     ]
    }
   ],
   "source": [
    "def mean_birth_weight(query_age):\n",
    "    subtab = baby.where(\"Maternal Age\", are.equal_to(query_age))\n",
    "    if subtab.num_rows == 0:\n",
    "        return(None)\n",
    "    else:\n",
    "        return(np.mean(subtab.column(\"Birth Weight\")))\n",
    "\n",
    "print(mean_birth_weight(33))\n",
    "print(mean_birth_weight(133))\n"
   ]
  },
  {
   "cell_type": "markdown",
   "metadata": {},
   "source": [
    "** Problem 6 ** (10 points)\n",
    "\n",
    "The average birth weight for babies of smokers is 114oz, while the average birth weight for babies of non-smokers is 123oz. Can you conclude that smoking causes low birth weight? Briefly justify your answer."
   ]
  },
  {
   "cell_type": "code",
   "execution_count": 17,
   "metadata": {
    "collapsed": true
   },
   "outputs": [],
   "source": [
    "# No. This is an observational study, not a randomized experiment. \n",
    "# There could be confounders, for example nutrition during pregnancy, \n",
    "# quality of prenatal care,....."
   ]
  },
  {
   "cell_type": "markdown",
   "metadata": {},
   "source": [
    "** Problem 7 ** (10 points)\n",
    "\n",
    "In 1954 the Public Health Service conducted a study  to test the effectiveness of Jonas Salk's polio vaccine. The incidence of polio among childred who were vaccinated was 28 per 100,000, while the incidence among unvaccinated children was 71 per 100,000. The Public Health Service concluded that the vaccine does indeed reduce the incidence of polio. What is the crucial aspect of the study that justifies this conclusion?"
   ]
  },
  {
   "cell_type": "code",
   "execution_count": 18,
   "metadata": {
    "collapsed": true
   },
   "outputs": [],
   "source": [
    "# The Salk Vaccine Field Trial was a randomized experiment"
   ]
  },
  {
   "cell_type": "markdown",
   "metadata": {},
   "source": [
    "** Problem 8 ** (5 points)\n",
    "\n",
    "In the figure below, draw the condition mean of y, given x"
   ]
  },
  {
   "cell_type": "markdown",
   "metadata": {},
   "source": [
    "<img src = new-sin-wave-solution.jpg>"
   ]
  },
  {
   "cell_type": "markdown",
   "metadata": {},
   "source": [
    "** Problem 9 ** (5 points)\n",
    "\n",
    "In the figure below, draw the condition mean of y, given x"
   ]
  },
  {
   "cell_type": "markdown",
   "metadata": {},
   "source": [
    "<img src = new-annulus-solution.jpg>"
   ]
  },
  {
   "cell_type": "code",
   "execution_count": null,
   "metadata": {
    "collapsed": true
   },
   "outputs": [],
   "source": []
  }
 ],
 "metadata": {
  "kernelspec": {
   "display_name": "Python 3",
   "language": "python",
   "name": "python3"
  },
  "language_info": {
   "codemirror_mode": {
    "name": "ipython",
    "version": 3
   },
   "file_extension": ".py",
   "mimetype": "text/x-python",
   "name": "python",
   "nbconvert_exporter": "python",
   "pygments_lexer": "ipython3",
   "version": "3.6.1"
  },
  "varInspector": {
   "cols": {
    "lenName": 16,
    "lenType": 16,
    "lenVar": 40
   },
   "kernels_config": {
    "python": {
     "delete_cmd_postfix": "",
     "delete_cmd_prefix": "del ",
     "library": "var_list.py",
     "varRefreshCmd": "print(var_dic_list())"
    },
    "r": {
     "delete_cmd_postfix": ") ",
     "delete_cmd_prefix": "rm(",
     "library": "var_list.r",
     "varRefreshCmd": "cat(var_dic_list()) "
    }
   },
   "types_to_exclude": [
    "module",
    "function",
    "builtin_function_or_method",
    "instance",
    "_Feature"
   ],
   "window_display": false
  }
 },
 "nbformat": 4,
 "nbformat_minor": 2
}
