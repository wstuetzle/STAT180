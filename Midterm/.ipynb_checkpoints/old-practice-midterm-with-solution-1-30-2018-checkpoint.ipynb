{
 "cells": [
  {
   "cell_type": "markdown",
   "metadata": {},
   "source": [
    "Introduction to Data Science <br>\n",
    "Winter 2018\n",
    "\n",
    "## Practice Midterm Exam\n"
   ]
  },
  {
   "cell_type": "markdown",
   "metadata": {},
   "source": [
    "* You have 45 minutes to complete the exam\n",
    "\n",
    "\n",
    "* The exam is closed book, closed notes, closed computer, closed calculator, except one hand-written 8.5” × 11” crib sheet of your own creation and the official study guide provided with the exam.\n",
    "\n",
    "\n",
    "* Mark your answers **on the exam itself**. We will **not** grade answers written on scratch paper."
   ]
  },
  {
   "cell_type": "markdown",
   "metadata": {},
   "source": [
    "** Last name **  \n",
    "\n",
    "====================================================\n",
    "\n",
    "** First name **\n",
    "\n",
    "====================================================\n",
    "\n",
    "** Student Id number **\n",
    "\n",
    "====================================================\n",
    "\n",
    "** Email **\n",
    "\n",
    "====================================================\n",
    "\n",
    "** Name of the person to your right **\n",
    "\n",
    "====================================================\n",
    "\n",
    "** Name of the person to your left **\n",
    "\n",
    "====================================================\n",
    "\n",
    "** All the work on this exam is my own ** <br>\n",
    "(Please sign)\n",
    "\n",
    "===================================================="
   ]
  },
  {
   "cell_type": "code",
   "execution_count": 1,
   "metadata": {
    "collapsed": true
   },
   "outputs": [],
   "source": [
    "# Import modules \n",
    "\n",
    "import numpy as np\n",
    "from datascience import *\n",
    "from datascience_extensions import *\n",
    "import matplotlib.pyplot as plt\n",
    "import seaborn as sns\n",
    "sns.set_style(\"whitegrid\")\n",
    "\n",
    "%matplotlib inline"
   ]
  },
  {
   "cell_type": "code",
   "execution_count": 2,
   "metadata": {},
   "outputs": [
    {
     "data": {
      "text/html": [
       "<table border=\"1\" class=\"dataframe\">\n",
       "    <thead>\n",
       "        <tr>\n",
       "            <th>color</th> <th>brand</th>\n",
       "        </tr>\n",
       "    </thead>\n",
       "    <tbody>\n",
       "        <tr>\n",
       "            <td>red  </td> <td>Volvo</td>\n",
       "        </tr>\n",
       "    </tbody>\n",
       "        <tr>\n",
       "            <td>blue </td> <td>Chevy</td>\n",
       "        </tr>\n",
       "    </tbody>\n",
       "        <tr>\n",
       "            <td>blue </td> <td>Volvo</td>\n",
       "        </tr>\n",
       "    </tbody>\n",
       "        <tr>\n",
       "            <td>red  </td> <td>Volvo</td>\n",
       "        </tr>\n",
       "    </tbody>\n",
       "        <tr>\n",
       "            <td>green</td> <td>Chevy</td>\n",
       "        </tr>\n",
       "    </tbody>\n",
       "</table>"
      ],
      "text/plain": [
       "color | brand\n",
       "red   | Volvo\n",
       "blue  | Chevy\n",
       "blue  | Volvo\n",
       "red   | Volvo\n",
       "green | Chevy"
      ]
     },
     "execution_count": 2,
     "metadata": {},
     "output_type": "execute_result"
    }
   ],
   "source": [
    "color = np.array([\"red\", \"blue\", \"blue\", \"red\", \"green\"])\n",
    "brand = np.array([\"Volvo\", \"Chevy\", \"Volvo\", \"Volvo\", \"Chevy\"])\n",
    "cars = Table().with_columns(\"color\", color, \"brand\", brand)\n",
    "cars"
   ]
  },
  {
   "cell_type": "markdown",
   "metadata": {},
   "source": [
    "** Problem 1** (5 points)\n",
    "\n",
    "Write a Python expression that calculates the number of Volvos"
   ]
  },
  {
   "cell_type": "code",
   "execution_count": 3,
   "metadata": {
    "collapsed": true
   },
   "outputs": [],
   "source": [
    "#\n",
    "#\n",
    "#\n",
    "#"
   ]
  },
  {
   "cell_type": "markdown",
   "metadata": {},
   "source": [
    "** Problem 2 ** (5 points)\n",
    "\n",
    "Write a Python expression that calculates the number of blue Volvos"
   ]
  },
  {
   "cell_type": "code",
   "execution_count": 4,
   "metadata": {
    "collapsed": true
   },
   "outputs": [],
   "source": [
    "#\n",
    "#\n",
    "#\n",
    "#"
   ]
  },
  {
   "cell_type": "markdown",
   "metadata": {},
   "source": [
    "** Problem 3 ** (5 points)\n",
    "\n",
    "Calculate (by hand) and write down the pivot table cars.pivot(\"color\", \"brand\")"
   ]
  },
  {
   "cell_type": "code",
   "execution_count": 5,
   "metadata": {
    "collapsed": true
   },
   "outputs": [],
   "source": [
    "#\n",
    "#\n",
    "#\n",
    "#\n",
    "#\n",
    "#\n",
    "#\n",
    "#"
   ]
  },
  {
   "cell_type": "markdown",
   "metadata": {},
   "source": [
    "** Problem 4 ** (10 points)\n",
    "\n",
    "Suppose tab is a table with all numerical columns. Write a function  column_means(tab) that returns an array containg the column means of all the columns.\n",
    "\n",
    "Note: you can use the function  np.zeros(n)  to make an array of length n filled with 0's."
   ]
  },
  {
   "cell_type": "code",
   "execution_count": 6,
   "metadata": {
    "scrolled": true
   },
   "outputs": [
    {
     "data": {
      "text/plain": [
       "array([ 2.,  5.])"
      ]
     },
     "execution_count": 6,
     "metadata": {},
     "output_type": "execute_result"
    }
   ],
   "source": [
    "tab = Table().with_columns(\"c1\", [1, 2, 3], \"c2\", [4, 5, 6])\n",
    "\n",
    "def column_means(tab):\n",
    "    column_means = np.zeros(tab.num_columns)\n",
    "    for i in range(tab.num_columns):\n",
    "        column_means[i] = np.mean(tab.column(i))\n",
    "    return column_means \n",
    "\n",
    "tab = Table().with_columns(\"c1\", [1, 2, 3], \"c2\", [4, 5, 6])\n",
    "column_means(tab)\n"
   ]
  },
  {
   "cell_type": "markdown",
   "metadata": {},
   "source": [
    "** Problem 5**  (10 points)\n",
    "\n",
    "Printed below are the first three rows of a table. The column labels should be self explanatory.\n",
    "\n",
    "Write an expression that calculates the mean difference between  the birthweights for children of smokers and children of non-smokers."
   ]
  },
  {
   "cell_type": "code",
   "execution_count": 7,
   "metadata": {},
   "outputs": [
    {
     "data": {
      "text/html": [
       "<table border=\"1\" class=\"dataframe\">\n",
       "    <thead>\n",
       "        <tr>\n",
       "            <th>Birth Weight</th> <th>Gestational Days</th> <th>Maternal Age</th> <th>Maternal Height</th> <th>Maternal Pregnancy Weight</th> <th>Maternal Smoker</th>\n",
       "        </tr>\n",
       "    </thead>\n",
       "    <tbody>\n",
       "        <tr>\n",
       "            <td>120         </td> <td>284             </td> <td>27          </td> <td>62             </td> <td>100                      </td> <td>False          </td>\n",
       "        </tr>\n",
       "    </tbody>\n",
       "        <tr>\n",
       "            <td>113         </td> <td>282             </td> <td>33          </td> <td>64             </td> <td>135                      </td> <td>False          </td>\n",
       "        </tr>\n",
       "    </tbody>\n",
       "        <tr>\n",
       "            <td>128         </td> <td>279             </td> <td>28          </td> <td>64             </td> <td>115                      </td> <td>True           </td>\n",
       "        </tr>\n",
       "    </tbody>\n",
       "</table>\n",
       "<p>... (1171 rows omitted)</p"
      ],
      "text/plain": [
       "<IPython.core.display.HTML object>"
      ]
     },
     "metadata": {},
     "output_type": "display_data"
    }
   ],
   "source": [
    "baby = Table.read_table(\"baby.csv\")\n",
    "baby.show(3)"
   ]
  },
  {
   "cell_type": "markdown",
   "metadata": {},
   "source": [
    "Write code that calculates the number of babies for which both Birth Weight and Maternal Pregnancy Weight are above the mean. "
   ]
  },
  {
   "cell_type": "code",
   "execution_count": 8,
   "metadata": {},
   "outputs": [
    {
     "data": {
      "text/plain": [
       "295"
      ]
     },
     "execution_count": 8,
     "metadata": {},
     "output_type": "execute_result"
    }
   ],
   "source": [
    "bw_mean = np.mean(baby.column(\"Birth Weight\"))\n",
    "mpw_mean = np.mean(baby.column(\"Maternal Pregnancy Weight\"))\n",
    "baby.where(\"Birth Weight\", are.above(bw_mean)).\\\n",
    "  where(\"Maternal Pregnancy Weight\", are.above(mpw_mean)).num_rows"
   ]
  },
  {
   "cell_type": "markdown",
   "metadata": {},
   "source": [
    "** Problem 6 ** (10 points)\n",
    "\n",
    "Below is a histogram of Birth Weight. Roughly, what is the percentage of birth with birth weight below 90oz."
   ]
  },
  {
   "cell_type": "code",
   "execution_count": 12,
   "metadata": {},
   "outputs": [
    {
     "data": {
      "image/png": "[encoded data removed]",
      "text/plain": [
       "<matplotlib.figure.Figure at 0x1181cf160>"
      ]
     },
     "metadata": {},
     "output_type": "display_data"
    }
   ],
   "source": [
    "baby.hist(\"Birth Weight\", bins = np.arange(40, 190, 20))"
   ]
  },
  {
   "cell_type": "code",
   "execution_count": 17,
   "metadata": {},
   "outputs": [
    {
     "data": {
      "text/plain": [
       "0.1303236797274276"
      ]
     },
     "execution_count": 17,
     "metadata": {},
     "output_type": "execute_result"
    }
   ],
   "source": [
    "baby.where(\"Birth Weight\", are.below(100)).num_rows / baby.num_rows"
   ]
  },
  {
   "cell_type": "code",
   "execution_count": null,
   "metadata": {
    "collapsed": true
   },
   "outputs": [],
   "source": []
  }
 ],
 "metadata": {
  "kernelspec": {
   "display_name": "Python 3",
   "language": "python",
   "name": "python3"
  },
  "language_info": {
   "codemirror_mode": {
    "name": "ipython",
    "version": 3
   },
   "file_extension": ".py",
   "mimetype": "text/x-python",
   "name": "python",
   "nbconvert_exporter": "python",
   "pygments_lexer": "ipython3",
   "version": "3.6.1"
  },
  "varInspector": {
   "cols": {
    "lenName": 16,
    "lenType": 16,
    "lenVar": 40
   },
   "kernels_config": {
    "python": {
     "delete_cmd_postfix": "",
     "delete_cmd_prefix": "del ",
     "library": "var_list.py",
     "varRefreshCmd": "print(var_dic_list())"
    },
    "r": {
     "delete_cmd_postfix": ") ",
     "delete_cmd_prefix": "rm(",
     "library": "var_list.r",
     "varRefreshCmd": "cat(var_dic_list()) "
    }
   },
   "types_to_exclude": [
    "module",
    "function",
    "builtin_function_or_method",
    "instance",
    "_Feature"
   ],
   "window_display": false
  }
 },
 "nbformat": 4,
 "nbformat_minor": 2
}
