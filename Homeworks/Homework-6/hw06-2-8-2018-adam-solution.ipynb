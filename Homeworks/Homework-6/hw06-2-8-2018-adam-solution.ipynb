{
 "cells": [
  {
   "cell_type": "markdown",
   "metadata": {},
   "source": [
    "Introduction to Data Science <br> Winter 2018\n",
    "\n",
    "# Homework 6\n",
    "Due Saturday, 2/19 , 3:00am\n",
    "\n",
    "Please complete this notebook by filling in the cells provided. Once you are finished, \"Save and Checkpoint\" the notebook, download the ipynb and html versions to your computer, and submit the html version. \n",
    "\n",
    "**Each question is worth 10 points** <br>\n",
    "**Total points: 60**"
   ]
  },
  {
   "cell_type": "markdown",
   "metadata": {},
   "source": [
    "In this homework you will use a permutation tests to analyze data from a clinical trial. "
   ]
  },
  {
   "cell_type": "markdown",
   "metadata": {},
   "source": [
    "A summary of the methods to Table is [here](http://data8.org/datascience/tables.html) <br>\n",
    "A tutorial for the datascience module is [here](http://data8.org/datascience/tutorial.html) <br>\n",
    "A cheatsheet for the datascience module is [here](https://github.com/wstuetzle/STAT180/blob/master/Computing/data8_sp17_midterm_ref_sheet.pdf)"
   ]
  },
  {
   "cell_type": "code",
   "execution_count": 1,
   "metadata": {
    "collapsed": true
   },
   "outputs": [],
   "source": [
    "from datascience import *\n",
    "import numpy as np\n",
    "import seaborn as sns\n",
    "sns.set_style(\"whitegrid\")\n",
    "%matplotlib inline"
   ]
  },
  {
   "cell_type": "markdown",
   "metadata": {},
   "source": [
    "### Does Rogain promote hair growth ?\n",
    "\n",
    "You will analyze the results of a randomized, double blind clinical trial to evaluate the effectiveness of Rogaine in promoting hair growth. There were 1431 subjects, of whom 714 were treated with Rogaine and 717 received a placebo. Here is a table summarizing the outcome of the experiment:"
   ]
  },
  {
   "cell_type": "code",
   "execution_count": 2,
   "metadata": {},
   "outputs": [
    {
     "data": {
      "text/html": [
       "<table border=\"1\" class=\"dataframe\">\n",
       "    <thead>\n",
       "        <tr>\n",
       "            <th>treatment</th> <th>dense_growth</th> <th>minimal_growth</th> <th>moderate_growth</th> <th>new_vellus</th> <th>no_growth</th>\n",
       "        </tr>\n",
       "    </thead>\n",
       "    <tbody>\n",
       "        <tr>\n",
       "            <td>Placebo  </td> <td>1           </td> <td>114           </td> <td>29             </td> <td>150       </td> <td>423      </td>\n",
       "        </tr>\n",
       "    </tbody>\n",
       "        <tr>\n",
       "            <td>Rogaine  </td> <td>5           </td> <td>178           </td> <td>58             </td> <td>172       </td> <td>301      </td>\n",
       "        </tr>\n",
       "    </tbody>\n",
       "</table>"
      ],
      "text/plain": [
       "treatment | dense_growth | minimal_growth | moderate_growth | new_vellus | no_growth\n",
       "Placebo   | 1            | 114            | 29              | 150        | 423\n",
       "Rogaine   | 5            | 178            | 58              | 172        | 301"
      ]
     },
     "execution_count": 2,
     "metadata": {},
     "output_type": "execute_result"
    }
   ],
   "source": [
    "observed_counts = Table.read_table(\"rogaine_observed_counts.csv\")\n",
    "observed_counts"
   ]
  },
  {
   "cell_type": "markdown",
   "metadata": {},
   "source": [
    "It does look like subjects who received Rogaine fared better than subjects who received a placebo. You want to find out whether there really is an association between treatment and outcome or whether the difference could just have been due to luck of the draw in the random assignment of subjects to Rogaine and Placebo. \n",
    "\n",
    "** Here is the basic idea: **\n",
    "\n",
    "There were 1431 subjects, of whom 714 (let's call that half) were treated with Rogaine.\n",
    "\n",
    "Consider the \"no_growth\" column. There were 724 subjects with outcome \"no_growth\". If there was no treatment effect you would expect them to be split 50/50 between \"Placebo\" and \"Rogaine\", just like the overall pool of subjects. So under the null hypotheses of no treatment effect you would expect the \"no_growth\" column to be (362, 362).\n",
    "\n",
    "The same argument can be made for the other four columns."
   ]
  },
  {
   "cell_type": "markdown",
   "metadata": {},
   "source": [
    "** Question 1. ** Write Python code to compute the table of expected counts (under the hypotheses of no treatment effect). Call this table \"expected_counts\". Print the table.\n",
    "\n",
    "** Note: ** If this takes you too long and you run out of patience, you can compute the table of expected counts \"by hand\"."
   ]
  },
  {
   "cell_type": "code",
   "execution_count": 3,
   "metadata": {},
   "outputs": [
    {
     "name": "stdout",
     "output_type": "stream",
     "text": [
      "There were 717 subjects assigned placebo and 714 subjects assigned Rogaine out of 1431 total subjects.\n"
     ]
    },
    {
     "data": {
      "text/html": [
       "<table border=\"1\" class=\"dataframe\">\n",
       "    <thead>\n",
       "        <tr>\n",
       "            <th>treatment</th> <th>dense_growth</th> <th>minimal_growth</th> <th>moderate_growth</th> <th>new_vellus</th> <th>no_growth</th>\n",
       "        </tr>\n",
       "    </thead>\n",
       "    <tbody>\n",
       "        <tr>\n",
       "            <td>Placebo  </td> <td>3           </td> <td>146           </td> <td>44             </td> <td>161       </td> <td>363      </td>\n",
       "        </tr>\n",
       "    </tbody>\n",
       "        <tr>\n",
       "            <td>Rogaine  </td> <td>3           </td> <td>146           </td> <td>43             </td> <td>161       </td> <td>361      </td>\n",
       "        </tr>\n",
       "    </tbody>\n",
       "</table>"
      ],
      "text/plain": [
       "<IPython.core.display.HTML object>"
      ]
     },
     "metadata": {},
     "output_type": "display_data"
    }
   ],
   "source": [
    "n_placebo = make_array(observed_counts.drop('treatment').row(0)).sum()\n",
    "n_treatment = make_array(observed_counts.drop('treatment').row(1)).sum()\n",
    "n_total = n_placebo + n_treatment\n",
    "print('There were', n_placebo, 'subjects assigned placebo and', n_treatment, 'subjects assigned Rogaine out of', \n",
    "      n_total, 'total subjects.')\n",
    "expected_counts = Table()\n",
    "for label in observed_counts.labels:\n",
    "    if label == 'treatment':\n",
    "        expected_counts = expected_counts.with_column(label, observed_counts.column(label))\n",
    "    else:\n",
    "        expected_counts = expected_counts.with_column(label, np.round(observed_counts.column(label).sum() * \n",
    "                                                                      make_array(n_placebo/n_total, n_treatment/n_total)))\n",
    "\n",
    "expected_counts.show()"
   ]
  },
  {
   "cell_type": "markdown",
   "metadata": {},
   "source": [
    "Now we need a measure of distance between the observed and expected tables. A commonly used measure is the Chi-square distance, defined as \n",
    "\\begin{equation}\n",
    "Chi2 = \\sum_{rows} \\sum_{columns} \\frac{(observed\\_count - expected\\_count)^2}{expected\\_count}\n",
    "\\end{equation}"
   ]
  },
  {
   "cell_type": "markdown",
   "metadata": {},
   "source": [
    "** Question 2. ** Write a Python function  Chi_square_distance(observed_counts, expected_counts)  that computes the Chi-square distance between a table of observed counts and a table of expected counts. Compute and print the distance."
   ]
  },
  {
   "cell_type": "code",
   "execution_count": 4,
   "metadata": {},
   "outputs": [
    {
     "data": {
      "text/plain": [
       "48.433018561049892"
      ]
     },
     "execution_count": 4,
     "metadata": {},
     "output_type": "execute_result"
    }
   ],
   "source": [
    "def chi_square_distance(observed, expected):\n",
    "    chi2 = 0\n",
    "    for i in [0, 1]:\n",
    "        obs_row = make_array(observed.drop('treatment').row(i))\n",
    "        exp_row = make_array(expected.drop('treatment').row(i))\n",
    "        chi2 = chi2 + (obs_row - exp_row)**2/exp_row\n",
    "    return chi2.sum()\n",
    "observed_chi_square = chi_square_distance(observed_counts, expected_counts)\n",
    "observed_chi_square"
   ]
  },
  {
   "cell_type": "markdown",
   "metadata": {},
   "source": [
    "Next you need to randomly permute the treatment labels, thereby destroying any association between treatment and outcome, and find out what values of the Chi-square distance you would obtain under the null hypotheses of \"no association\" (or equivalently \"no treatment effect\")\n",
    "\n",
    "To do that you first need to make up the raw_data table that gave rise to the observed_counts. The raw_data table will have 1,431 rows (one for each subject), and two columns, \"treatment\" and \"outcome\". The treatment column has entries \"Rogaine\" and \"Placebo\". The outcome column has entries \"no_growth\", \"new_vellus\", ... , \"dense_growth\"\n",
    "\n",
    "** Question 3. ** Write Python code to create a raw_data table that such that raw_data.pivot(\"outcome\", \"treatment\") \n",
    "produces the observed counts.\n",
    "\n",
    "** Hints: **\n",
    "\n",
    "np.full(714, \"Rogaine\") produces an array of length 714 filled with the string \"Rogaine\" <br>\n",
    "np.concatenate([array1, array2, array3]) glues any number of arrays together into a single array"
   ]
  },
  {
   "cell_type": "code",
   "execution_count": 28,
   "metadata": {
    "collapsed": true
   },
   "outputs": [
    {
     "data": {
      "text/html": [
       "<table border=\"1\" class=\"dataframe\">\n",
       "    <thead>\n",
       "        <tr>\n",
       "            <th>treatment</th> <th>dense_growth</th> <th>minimal_growth</th> <th>moderate_growth</th> <th>new_vellus</th> <th>no_growth</th>\n",
       "        </tr>\n",
       "    </thead>\n",
       "    <tbody>\n",
       "        <tr>\n",
       "            <td>Placebo  </td> <td>1           </td> <td>114           </td> <td>29             </td> <td>150       </td> <td>423      </td>\n",
       "        </tr>\n",
       "    </tbody>\n",
       "        <tr>\n",
       "            <td>Rogaine  </td> <td>5           </td> <td>178           </td> <td>58             </td> <td>172       </td> <td>301      </td>\n",
       "        </tr>\n",
       "    </tbody>\n",
       "</table>"
      ],
      "text/plain": [
       "treatment | dense_growth | minimal_growth | moderate_growth | new_vellus | no_growth\n",
       "Placebo   | 1            | 114            | 29              | 150        | 423\n",
       "Rogaine   | 5            | 178            | 58              | 172        | 301"
      ]
     },
     "execution_count": 28,
     "metadata": {},
     "output_type": "execute_result"
    }
   ],
   "source": [
    "placebo_row = observed_counts.drop('treatment').row(0)\n",
    "treatment_row = observed_counts.drop('treatment').row(1)\n",
    "placebo_outcomes = []\n",
    "treatment_outcomes = []\n",
    "labels = observed_counts.drop('treatment').labels\n",
    "for i in np.arange(0, len(labels)):\n",
    "    placebo_outcomes = placebo_outcomes + [labels[i]]*placebo_row.item(i)\n",
    "    treatment_outcomes = treatment_outcomes + [labels[i]]*treatment_row.item(i)\n",
    "       \n",
    "raw_data = Table()\n",
    "raw_data = raw_data.with_columns('treatment', np.concatenate([np.full(n_placebo, 'Placebo'), np.full(n_treatment, 'Rogaine')]), \n",
    "                                 'outcome', placebo_outcomes + treatment_outcomes)\n",
    "raw_data.pivot(\"outcome\", \"treatment\")"
   ]
  },
  {
   "cell_type": "markdown",
   "metadata": {},
   "source": [
    "Now you are ready for the permutation test:\n",
    "\n",
    "* generate 1,000 permuted_raw_data tables by randomly permuting the \"treatment\" column of raw_data\n",
    "* for each permuted_raw_data table compute the table of counts - let's call it permuted_counts.\n",
    "* for each permuted_counts table compute permuted_chi_square = Chi_square_distance(permuted_counts, expected_counts)\n",
    "\n",
    "You end up with 1,000 values for permuted_chi_square. Put them in a table permuted_chi_square_table with one column named \"permuted_chi_square\".\n",
    "\n",
    "** Question 4. ** Draw a histogram of the 1,000 values of permuted_chi_square"
   ]
  },
  {
   "cell_type": "code",
   "execution_count": 12,
   "metadata": {
    "collapsed": true
   },
   "outputs": [
    {
     "data": {
      "image/png": "[encoded data removed]",
      "text/plain": [
       "<matplotlib.figure.Figure at 0x1e0677fa908>"
      ]
     },
     "metadata": {},
     "output_type": "display_data"
    }
   ],
   "source": [
    "n_perms = 1000\n",
    "\n",
    "permuted_chi_square = np.zeros(n_perms)\n",
    "permuted_labels = raw_data.sample(k = n_perms, with_replacement = False).column('treatment')\n",
    "for i in np.arange(n_perms):\n",
    "    permuted_labels = raw_data.select('treatment').sample(k = n_total, with_replacement = False).column('treatment')\n",
    "    permuted_data = raw_data.drop('treatment')\n",
    "    permuted_data = permuted_data.with_column('treatment', permuted_labels)\n",
    "    permuted_counts = permuted_data.pivot('outcome', 'treatment')\n",
    "    permuted_chi_square[i] = chi_square_distance(expected = expected_counts, observed = permuted_counts)\n",
    "\n",
    "permuted_chi_square_table = Table().with_column('permuted chi square', permuted_chi_square)\n",
    "permuted_chi_square_table.hist('permuted chi square', bins = np.arange(0, permuted_chi_square.max(), 0.5))"
   ]
  },
  {
   "cell_type": "markdown",
   "metadata": {},
   "source": [
    "** Question 5. ** Compute the p_value of the test  (See comment below)"
   ]
  },
  {
   "cell_type": "code",
   "execution_count": 18,
   "metadata": {
    "collapsed": true
   },
   "outputs": [
    {
     "data": {
      "text/plain": [
       "0.0"
      ]
     },
     "execution_count": 18,
     "metadata": {},
     "output_type": "execute_result"
    }
   ],
   "source": [
    "p_value = (permuted_chi_square > observed_chi_square).sum()/n_perms\n",
    "p_value"
   ]
  },
  {
   "cell_type": "markdown",
   "metadata": {},
   "source": [
    "** Question 6. ** Here are two alternative explanation for the distance between observed and expected counts:\n",
    "\n",
    "(a) Rogaine has no effect. The manufacturers of Rogaine were lucky: Rogaine just happened to be assigned to subjects whose hair would have improved no matter what.\n",
    "\n",
    "(b) There is an association between treatment and outcome. Rogaine does promote hair growth.\n",
    "\n",
    "Choose (a) or (b)"
   ]
  },
  {
   "cell_type": "code",
   "execution_count": 19,
   "metadata": {
    "collapsed": true,
    "scrolled": true
   },
   "outputs": [],
   "source": [
    "q6_answer = 'b'"
   ]
  },
  {
   "cell_type": "markdown",
   "metadata": {},
   "source": [
    "** Comment on p-value ** \n",
    "\n",
    "It obviously can't be zero. It really is 1 / (nperm + 1)\n",
    "\n",
    "** Reason: ** Suppose there was no treatment effect. Then we would have observed the value chi-square for nperm + 1 random permutations of the treatment labels: the \"original\" one from the random assignment of treatments to subjects, and nperm \"reference\" ones for the permutation test. The probability that the chi_square value of the original one is among the k largest of the (nperm + 1) permutations is k / (nperm + 1). In our case k = 1, so the p-value is 1 / 1001."
   ]
  }
 ],
 "metadata": {
  "kernelspec": {
   "display_name": "Python 3",
   "language": "python",
   "name": "python3"
  },
  "language_info": {
   "codemirror_mode": {
    "name": "ipython",
    "version": 3
   },
   "file_extension": ".py",
   "mimetype": "text/x-python",
   "name": "python",
   "nbconvert_exporter": "python",
   "pygments_lexer": "ipython3",
   "version": "3.6.1"
  },
  "varInspector": {
   "cols": {
    "lenName": 16,
    "lenType": 16,
    "lenVar": 40
   },
   "kernels_config": {
    "python": {
     "delete_cmd_postfix": "",
     "delete_cmd_prefix": "del ",
     "library": "var_list.py",
     "varRefreshCmd": "print(var_dic_list())"
    },
    "r": {
     "delete_cmd_postfix": ") ",
     "delete_cmd_prefix": "rm(",
     "library": "var_list.r",
     "varRefreshCmd": "cat(var_dic_list()) "
    }
   },
   "types_to_exclude": [
    "module",
    "function",
    "builtin_function_or_method",
    "instance",
    "_Feature"
   ],
   "window_display": false
  }
 },
 "nbformat": 4,
 "nbformat_minor": 2
}
