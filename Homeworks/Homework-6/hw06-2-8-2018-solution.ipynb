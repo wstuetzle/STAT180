{
 "cells": [
  {
   "cell_type": "markdown",
   "metadata": {},
   "source": [
    "Introduction to Data Science <br> Winter 2018\n",
    "\n",
    "# Homework 6\n",
    "Due Saturday, 2/19 , 3:00am\n",
    "\n",
    "Please complete this notebook by filling in the cells provided. Once you are finished, \"Save and Checkpoint\" the notebook, download the ipynb and html versions to your computer, and submit the html version. \n",
    "\n",
    "**Each question is worth 10 points** <br>\n",
    "**Total points: 60**"
   ]
  },
  {
   "cell_type": "markdown",
   "metadata": {},
   "source": [
    "In this homework you will practice the use of permutation tests to assess associations. "
   ]
  },
  {
   "cell_type": "markdown",
   "metadata": {},
   "source": [
    "A summary of the methods to Table is [here](http://data8.org/datascience/tables.html) <br>\n",
    "A tutorial for the datascience module is [here](http://data8.org/datascience/tutorial.html) <br>\n",
    "A cheatsheet for the datascience module is [here](https://github.com/wstuetzle/STAT180/blob/master/Computing/data8_sp17_midterm_ref_sheet.pdf)"
   ]
  },
  {
   "cell_type": "code",
   "execution_count": 36,
   "metadata": {
    "collapsed": true
   },
   "outputs": [],
   "source": [
    "from datascience import *\n",
    "import numpy as np\n",
    "import seaborn as sns\n",
    "sns.set_style(\"whitegrid\")\n",
    "%matplotlib inline"
   ]
  },
  {
   "cell_type": "markdown",
   "metadata": {},
   "source": [
    "### Does Rogain promote hair growth ?\n",
    "\n",
    "You will analyze the results of a randomized, double blind clinical trial to evaluate the effectiveness of Rogaine in promoting hair growth. There were 1431 subjects, of whom 714 were treated with Rogaine and 717 received a placebo. Here is a table summarizing the outcome of the experiment:"
   ]
  },
  {
   "cell_type": "code",
   "execution_count": 37,
   "metadata": {},
   "outputs": [],
   "source": [
    "observed_counts = Table().with_columns(\"treatment\", [\"Placebo\", \"Rogaine\"], \"dense_growth\", [1, 5],\n",
    "                                       \"minimal_growth\", [114, 178], \"moderate_growth\", [29, 58],\n",
    "                                       \"new_vellus\", [150, 172], \"no_growth\", [423, 301])\n",
    "observed_counts.to_csv(\"rogaine_observed_counts.csv\")"
   ]
  },
  {
   "cell_type": "code",
   "execution_count": 39,
   "metadata": {},
   "outputs": [
    {
     "data": {
      "text/html": [
       "<table border=\"1\" class=\"dataframe\">\n",
       "    <thead>\n",
       "        <tr>\n",
       "            <th>treatment</th> <th>dense_growth</th> <th>minimal_growth</th> <th>moderate_growth</th> <th>new_vellus</th> <th>no_growth</th>\n",
       "        </tr>\n",
       "    </thead>\n",
       "    <tbody>\n",
       "        <tr>\n",
       "            <td>Placebo  </td> <td>1           </td> <td>114           </td> <td>29             </td> <td>150       </td> <td>423      </td>\n",
       "        </tr>\n",
       "    </tbody>\n",
       "        <tr>\n",
       "            <td>Rogaine  </td> <td>5           </td> <td>178           </td> <td>58             </td> <td>172       </td> <td>301      </td>\n",
       "        </tr>\n",
       "    </tbody>\n",
       "</table>"
      ],
      "text/plain": [
       "treatment | dense_growth | minimal_growth | moderate_growth | new_vellus | no_growth\n",
       "Placebo   | 1            | 114            | 29              | 150        | 423\n",
       "Rogaine   | 5            | 178            | 58              | 172        | 301"
      ]
     },
     "execution_count": 39,
     "metadata": {},
     "output_type": "execute_result"
    }
   ],
   "source": [
    "observed_counts = Table.read_table(\"rogaine_observed_counts.csv\")\n",
    "observed_counts"
   ]
  },
  {
   "cell_type": "markdown",
   "metadata": {},
   "source": [
    "It does look like subjects who received Rogaine fared better than subjects who received a placebo. You want to find out whether there really is an association between treatment and outcome or whether the difference could just have been due to luck of the draw in the random assignment of subjects to Rogaine and Placebo. \n",
    "\n",
    "** Here is the basic idea: **\n",
    "\n",
    "There were 1431 subjects, of whom 714 (let's call that half) were treated with Rogaine.\n",
    "\n",
    "Consider the \"no_growth\" column. There were 724 subjects with outcome \"no_growth\". If there was no treatment effect you would expect them to be split 50/50 between \"Placebo\" and \"Rogaine\", just like the overall pool of subjects. So under the null hypotheses of no treatment effect you would expect the \"no_growth\" column to be (362, 362).\n",
    "\n",
    "The same argument can be made for the other four columns."
   ]
  },
  {
   "cell_type": "markdown",
   "metadata": {},
   "source": [
    "** Question 1. ** Write Python code to compute the table of expected counts (under the hypotheses of no treatment effect). Call this table \"expected_counts\". Print the table.\n",
    "\n",
    "** Note: ** If this takes you too long and you run out of patience, you can compute the table of expected counts \"by hand\", using code similar to the one above for the observed counts."
   ]
  },
  {
   "cell_type": "code",
   "execution_count": 55,
   "metadata": {},
   "outputs": [],
   "source": [
    "ncol = observed_counts.num_columns\n",
    "nrow = observed_counts.num_rows\n",
    "row_sum = np.zeros(nrow)\n",
    "column_sum = np.zeros(ncol)\n",
    "\n",
    "for i in np.arange(1, ncol):\n",
    "    row_sum = row_sum + observed_counts.column(i)\n",
    "    column_sum[i] = sum(observed_counts.column(i))\n",
    "total = np.sum(row_sum)\n",
    "row_relfreq = row_sum / total\n",
    "expected_counts = observed_counts.copy()\n",
    "\n",
    "for i in range(1, ncol):\n",
    "    column = np.zeros(nrow)\n",
    "    for j in range(nrow):\n",
    "        column[j] = round(column_sum[i] * row_relfreq[j])\n",
    "    column_label = expected_counts.labels[i]\n",
    "    expected_counts = expected_counts.with_column(column_label, column)"
   ]
  },
  {
   "cell_type": "code",
   "execution_count": 56,
   "metadata": {},
   "outputs": [
    {
     "data": {
      "text/html": [
       "<table border=\"1\" class=\"dataframe\">\n",
       "    <thead>\n",
       "        <tr>\n",
       "            <th>treatment</th> <th>dense_growth</th> <th>minimal_growth</th> <th>moderate_growth</th> <th>new_vellus</th> <th>no_growth</th>\n",
       "        </tr>\n",
       "    </thead>\n",
       "    <tbody>\n",
       "        <tr>\n",
       "            <td>Placebo  </td> <td>3           </td> <td>146           </td> <td>44             </td> <td>161       </td> <td>363      </td>\n",
       "        </tr>\n",
       "    </tbody>\n",
       "        <tr>\n",
       "            <td>Rogaine  </td> <td>3           </td> <td>146           </td> <td>43             </td> <td>161       </td> <td>361      </td>\n",
       "        </tr>\n",
       "    </tbody>\n",
       "</table>"
      ],
      "text/plain": [
       "treatment | dense_growth | minimal_growth | moderate_growth | new_vellus | no_growth\n",
       "Placebo   | 3            | 146            | 44              | 161        | 363\n",
       "Rogaine   | 3            | 146            | 43              | 161        | 361"
      ]
     },
     "execution_count": 56,
     "metadata": {},
     "output_type": "execute_result"
    }
   ],
   "source": [
    "...\n",
    "expected_counts"
   ]
  },
  {
   "cell_type": "markdown",
   "metadata": {},
   "source": [
    "Now we need a measure of distance between the observed and expected tables. A commonly used measure is the Chi-square distance, defined as \n",
    "\\begin{equation}\n",
    "Chi2 = \\sum_{rows} \\sum_{columns} \\frac{(observed\\_count - expected\\_count)^2}{expected\\_count}\n",
    "\\end{equation}"
   ]
  },
  {
   "cell_type": "markdown",
   "metadata": {},
   "source": [
    "** Question 2. ** Write a Python function  Chi_square_distance(observed_counts, expected_counts)  that computes the Chi-square distance between a table of observed counts and a table of expected counts. Compute and print the distance."
   ]
  },
  {
   "cell_type": "code",
   "execution_count": 58,
   "metadata": {
    "collapsed": true
   },
   "outputs": [],
   "source": [
    "def Chi_square_distance(observed_counts, expected_counts):\n",
    "    chi_square = 0\n",
    "    nrow = observed_counts.num_rows\n",
    "    ncol = observed_counts.num_columns\n",
    "    for i in range(1, ncol):\n",
    "        observed_col = observed_counts.column(i)\n",
    "        expected_col = expected_counts.column(i)\n",
    "        chi_square = chi_square + sum((observed_col - expected_col) ** 2 / expected_col)\n",
    "    return(chi_square)"
   ]
  },
  {
   "cell_type": "code",
   "execution_count": 59,
   "metadata": {},
   "outputs": [
    {
     "data": {
      "text/plain": [
       "48.433018561049892"
      ]
     },
     "execution_count": 59,
     "metadata": {},
     "output_type": "execute_result"
    }
   ],
   "source": [
    "...\n",
    "observed_chi_square = Chi_square_distance(observed_counts, expected_counts)\n",
    "observed_chi_square"
   ]
  },
  {
   "cell_type": "markdown",
   "metadata": {},
   "source": [
    "Next you need to randomly permute the treatment labels, thereby destroying any association between treatment and outcome, and find out what values of the Chi-square distance you would obtain under the null hypotheses of \"no association\" (or equivalently \"no treatment effect\")\n",
    "\n",
    "To do that you first need to make up the raw_data table that gave rise to the observed_counts. The raw_data table will have 1,431 rows (one for each subject), and two columns, \"treatment\" and \"outcome\". The treatment column has entries \"Rogaine\" and \"Placebo\". The outcome column has entries \"no_growth\", \"new_vellus\", ... , \"dense_growth\"\n",
    "\n",
    "** Question 3. ** Write Python code to create a raw_data table that such that raw_data.pivot(\"outcome\", \"treatment\") \n",
    "produces the observed counts.\n",
    "\n",
    "** Hints: **\n",
    "\n",
    "np.full(714, \"Rogaine\") produces an array of length 714 filled with the string \"Rogaine\" <br>\n",
    "np.concatenate([array1, array2, array3]) glues any number of arrays together into a single array"
   ]
  },
  {
   "cell_type": "code",
   "execution_count": 60,
   "metadata": {},
   "outputs": [],
   "source": [
    "treatment = np.concatenate((np.full(714, \"Rogaine\"), np.full(717, \"Placebo\")))\n",
    "\n",
    "rogaine_outcome = np.concatenate((np.full(301, \"no_growth\"), np.full(172, \"new_vellus\"), \n",
    "                                  np.full(178, \"minimal_growth\"), np.full(58, \"moderate_growth\"), \n",
    "                                  np.full(5, \"dense_growth\")))\n",
    "placebo_outcome = np.concatenate((np.full(423, \"no_growth\"), np.full(150, \"new_vellus\"), \n",
    "                                  np.full(114, \"minimal_growth\"), np.full(29, \"moderate_growth\"),\n",
    "                                  np.full(1, \"dense_growth\")))\n",
    "outcome = np.concatenate((rogaine_outcome, placebo_outcome))\n",
    "\n",
    "raw_data = Table().with_columns(\"treatment\", treatment, \"outcome\", outcome)"
   ]
  },
  {
   "cell_type": "code",
   "execution_count": 61,
   "metadata": {},
   "outputs": [
    {
     "data": {
      "text/html": [
       "<table border=\"1\" class=\"dataframe\">\n",
       "    <thead>\n",
       "        <tr>\n",
       "            <th>treatment</th> <th>dense_growth</th> <th>minimal_growth</th> <th>moderate_growth</th> <th>new_vellus</th> <th>no_growth</th>\n",
       "        </tr>\n",
       "    </thead>\n",
       "    <tbody>\n",
       "        <tr>\n",
       "            <td>Placebo  </td> <td>1           </td> <td>114           </td> <td>29             </td> <td>150       </td> <td>423      </td>\n",
       "        </tr>\n",
       "    </tbody>\n",
       "        <tr>\n",
       "            <td>Rogaine  </td> <td>5           </td> <td>178           </td> <td>58             </td> <td>172       </td> <td>301      </td>\n",
       "        </tr>\n",
       "    </tbody>\n",
       "</table>"
      ],
      "text/plain": [
       "treatment | dense_growth | minimal_growth | moderate_growth | new_vellus | no_growth\n",
       "Placebo   | 1            | 114            | 29              | 150        | 423\n",
       "Rogaine   | 5            | 178            | 58              | 172        | 301"
      ]
     },
     "execution_count": 61,
     "metadata": {},
     "output_type": "execute_result"
    }
   ],
   "source": [
    "...\n",
    "raw_data.pivot(\"outcome\", \"treatment\")"
   ]
  },
  {
   "cell_type": "markdown",
   "metadata": {},
   "source": [
    "Now you are ready for the permutation test:\n",
    "\n",
    "* generate 1,000 permuted_raw_data tables by randomly permuting the \"treatment\" column of raw_data\n",
    "* for each permuted_raw_data table compute the table of counts - let's call it permuted_counts.\n",
    "* for each permuted_counts table compute permuted_chi_square = Chi_square_distance(permuted_counts, expected_counts)\n",
    "\n",
    "You end up with 1,000 values for permuted_chi_square. Put them in a table permuted_chi_square_table with one column named \"permuted_chi_square\".\n",
    "\n",
    "** Question 4. ** Draw a histogram of the 1,000 values of permuted_chi_square"
   ]
  },
  {
   "cell_type": "code",
   "execution_count": 68,
   "metadata": {},
   "outputs": [],
   "source": [
    "nperm = 1000\n",
    "nrow = raw_data.num_rows\n",
    "permuted_chi_square = np.zeros(nperm)\n",
    "for i in range(nperm):\n",
    "    permuted_treatment = raw_data.select(\"treatment\").sample(nrow, with_replacement = False)\n",
    "    permuted_raw_data = raw_data.with_column(\"treatment\", permuted_treatment.column(0))\n",
    "    permuted_counts = permuted_raw_data.pivot(\"outcome\", \"treatment\")\n",
    "    permuted_chi_square[i] = Chi_square_distance(permuted_counts, expected_counts)\n",
    "permuted_chi_square_table = Table().with_columns(\"permuted_chi_square\", permuted_chi_square)"
   ]
  },
  {
   "cell_type": "code",
   "execution_count": 72,
   "metadata": {},
   "outputs": [
    {
     "data": {
      "image/png": "[encoded data removed]",
      "text/plain": [
       "<matplotlib.figure.Figure at 0x10a5d76a0>"
      ]
     },
     "metadata": {},
     "output_type": "display_data"
    }
   ],
   "source": [
    "max_pcs = np.max(permuted_chi_square_table.column(\"permuted_chi_square\"))\n",
    "permuted_chi_square_table.hist(\"permuted_chi_square\", bins = np.arange(0, max_pcs, 0.5))"
   ]
  },
  {
   "cell_type": "markdown",
   "metadata": {},
   "source": [
    "** Question 5. ** Compute the p_value of the test  (See comment below)"
   ]
  },
  {
   "cell_type": "code",
   "execution_count": 73,
   "metadata": {},
   "outputs": [
    {
     "data": {
      "text/plain": [
       "0"
      ]
     },
     "execution_count": 73,
     "metadata": {},
     "output_type": "execute_result"
    }
   ],
   "source": [
    "p_value = permuted_chi_square_table.where(\"permuted_chi_square\", are.above_or_equal_to(observed_chi_square))\\\n",
    "          .num_rows\n",
    "p_value"
   ]
  },
  {
   "cell_type": "markdown",
   "metadata": {},
   "source": [
    "** Question 6. ** Here are two alternative explanation for the distance between observed and expected counts:\n",
    "\n",
    "(a) Rogaine has no effect. The manufacturers of Rogaine were lucky: Rogaine just happened to be assigned to subjects whose hair would have improved no matter what.\n",
    "\n",
    "(b) There is an association between treatment and outcome. Rogaine does promote hair growth.\n",
    "\n",
    "Choose (a) or (b)"
   ]
  },
  {
   "cell_type": "markdown",
   "metadata": {},
   "source": [
    "(b)"
   ]
  },
  {
   "cell_type": "code",
   "execution_count": null,
   "metadata": {
    "scrolled": true
   },
   "outputs": [],
   "source": [
    "..."
   ]
  },
  {
   "cell_type": "markdown",
   "metadata": {},
   "source": [
    "** Comment on p-value ** \n",
    "\n",
    "It obviously can't be zero. It really is 1 / (nperm + 1)\n",
    "\n",
    "** Reason: ** Suppose there was no treatment effect. Then we would have observed the value chi-square for nperm + 1 random permutations of the treatment labels: the \"original\" one from the random assignment of treatments to subjects, and nperm \"reference\" ones for the permutation test. The probability that the chi_square value of the original one is among the k largest of the (nperm + 1) permutations is k / (nperm + 1). In our case k = 1, so the p-value is 1 / 1001."
   ]
  },
  {
   "cell_type": "markdown",
   "metadata": {},
   "source": [
    "** Sanity check ** Compute mean and variance of permuted_chi_square values. Permutation distribution shold be approximately Chi^2 with 4 degrees of freedom => mean = 4, var = 8. It's pretty close."
   ]
  },
  {
   "cell_type": "code",
   "execution_count": 77,
   "metadata": {},
   "outputs": [
    {
     "name": "stdout",
     "output_type": "stream",
     "text": [
      "4.08708188284\n",
      "7.61881421345\n"
     ]
    }
   ],
   "source": [
    "print(np.mean(permuted_chi_square_table.column(\"permuted_chi_square\")))\n",
    "print(np.var(permuted_chi_square_table.column(\"permuted_chi_square\")))"
   ]
  }
 ],
 "metadata": {
  "kernelspec": {
   "display_name": "Python 3",
   "language": "python",
   "name": "python3"
  },
  "language_info": {
   "codemirror_mode": {
    "name": "ipython",
    "version": 3
   },
   "file_extension": ".py",
   "mimetype": "text/x-python",
   "name": "python",
   "nbconvert_exporter": "python",
   "pygments_lexer": "ipython3",
   "version": "3.6.1"
  },
  "varInspector": {
   "cols": {
    "lenName": 16,
    "lenType": 16,
    "lenVar": 40
   },
   "kernels_config": {
    "python": {
     "delete_cmd_postfix": "",
     "delete_cmd_prefix": "del ",
     "library": "var_list.py",
     "varRefreshCmd": "print(var_dic_list())"
    },
    "r": {
     "delete_cmd_postfix": ") ",
     "delete_cmd_prefix": "rm(",
     "library": "var_list.r",
     "varRefreshCmd": "cat(var_dic_list()) "
    }
   },
   "types_to_exclude": [
    "module",
    "function",
    "builtin_function_or_method",
    "instance",
    "_Feature"
   ],
   "window_display": false
  }
 },
 "nbformat": 4,
 "nbformat_minor": 1
}
