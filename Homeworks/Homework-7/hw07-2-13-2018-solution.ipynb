{
 "cells": [
  {
   "cell_type": "markdown",
   "metadata": {},
   "source": [
    "Introduction to Data Science <br> Winter 2018\n",
    "\n",
    "# Homework 7\n",
    "Due Saturday, 2/24/2018 , 3:00am\n",
    "\n",
    "Please complete this notebook by filling in the cells provided. Once you are finished, \"Save and Checkpoint\" the notebook, download the ipynb and html versions to your computer, and submit the html version. \n",
    "\n",
    "**Total points: 135**"
   ]
  },
  {
   "cell_type": "markdown",
   "metadata": {},
   "source": [
    "In this homework you will practice the use of permutation tests to assess associations. "
   ]
  },
  {
   "cell_type": "markdown",
   "metadata": {},
   "source": [
    "A summary of the methods to Table is [here](http://data8.org/datascience/tables.html) <br>\n",
    "A tutorial for the datascience module is [here](http://data8.org/datascience/tutorial.html) <br>\n",
    "A cheatsheet for the datascience module is [here](https://github.com/wstuetzle/STAT180/blob/master/Computing/data8_sp17_midterm_ref_sheet.pdf)"
   ]
  },
  {
   "cell_type": "code",
   "execution_count": 1,
   "metadata": {
    "collapsed": true
   },
   "outputs": [],
   "source": [
    "from datascience import *\n",
    "import numpy as np\n",
    "import seaborn as sns\n",
    "sns.set_style(\"whitegrid\")\n",
    "%matplotlib inline"
   ]
  },
  {
   "cell_type": "markdown",
   "metadata": {},
   "source": [
    "We will work with the Birth Weight data that originally came from the Child Health and Development Studies conducted at the Oakland, CA, Kaiser Foundation Hospital. The features should be self explanatory. We will use permutation tests to assess associations between features."
   ]
  },
  {
   "cell_type": "code",
   "execution_count": 2,
   "metadata": {},
   "outputs": [
    {
     "data": {
      "text/html": [
       "<table border=\"1\" class=\"dataframe\">\n",
       "    <thead>\n",
       "        <tr>\n",
       "            <th>Birth Weight</th> <th>Gestational Days</th> <th>Maternal Age</th> <th>Maternal Height</th> <th>Maternal Pregnancy Weight</th> <th>Maternal Smoker</th>\n",
       "        </tr>\n",
       "    </thead>\n",
       "    <tbody>\n",
       "        <tr>\n",
       "            <td>120         </td> <td>284             </td> <td>27          </td> <td>62             </td> <td>100                      </td> <td>False          </td>\n",
       "        </tr>\n",
       "    </tbody>\n",
       "        <tr>\n",
       "            <td>113         </td> <td>282             </td> <td>33          </td> <td>64             </td> <td>135                      </td> <td>False          </td>\n",
       "        </tr>\n",
       "    </tbody>\n",
       "        <tr>\n",
       "            <td>128         </td> <td>279             </td> <td>28          </td> <td>64             </td> <td>115                      </td> <td>True           </td>\n",
       "        </tr>\n",
       "    </tbody>\n",
       "        <tr>\n",
       "            <td>108         </td> <td>282             </td> <td>23          </td> <td>67             </td> <td>125                      </td> <td>True           </td>\n",
       "        </tr>\n",
       "    </tbody>\n",
       "        <tr>\n",
       "            <td>136         </td> <td>286             </td> <td>25          </td> <td>62             </td> <td>93                       </td> <td>False          </td>\n",
       "        </tr>\n",
       "    </tbody>\n",
       "</table>\n",
       "<p>... (1169 rows omitted)</p"
      ],
      "text/plain": [
       "<IPython.core.display.HTML object>"
      ]
     },
     "metadata": {},
     "output_type": "display_data"
    },
    {
     "data": {
      "text/plain": [
       "1174"
      ]
     },
     "execution_count": 2,
     "metadata": {},
     "output_type": "execute_result"
    }
   ],
   "source": [
    "baby = Table.read_table(\"baby.csv\")\n",
    "baby.show(5)\n",
    "baby.num_rows"
   ]
  },
  {
   "cell_type": "markdown",
   "metadata": {},
   "source": [
    "**Question 1 (5 points) :** Change the labels to \"BW\", \"GD\", etc to reduce the amount of typing."
   ]
  },
  {
   "cell_type": "code",
   "execution_count": 3,
   "metadata": {},
   "outputs": [
    {
     "data": {
      "text/plain": [
       "('BW', 'GD', 'MA', 'MH', 'MPW', 'MS')"
      ]
     },
     "execution_count": 3,
     "metadata": {},
     "output_type": "execute_result"
    }
   ],
   "source": [
    "new_labels = [\"BW\", \"GD\", \"MA\", \"MH\", \"MPW\", \"MS\"]\n",
    "baby = baby.relabeled(baby.labels, new_labels)\n",
    "baby.labels"
   ]
  },
  {
   "cell_type": "code",
   "execution_count": 4,
   "metadata": {},
   "outputs": [
    {
     "data": {
      "text/plain": [
       "('BW', 'GD', 'MA', 'MH', 'MPW', 'MS')"
      ]
     },
     "execution_count": 4,
     "metadata": {},
     "output_type": "execute_result"
    }
   ],
   "source": [
    "...\n",
    "baby.labels"
   ]
  },
  {
   "cell_type": "markdown",
   "metadata": {},
   "source": [
    "### Maternal smoking and Birth Weight\n",
    "\n",
    "**Question 2 (5 points):** Calculate and output the number of smoker moms and the number of nonsmoker moms"
   ]
  },
  {
   "cell_type": "code",
   "execution_count": 5,
   "metadata": {},
   "outputs": [
    {
     "name": "stdout",
     "output_type": "stream",
     "text": [
      "Number of smoker moms = 459\n",
      "Number of nonsmoker moms = 715\n"
     ]
    }
   ],
   "source": [
    "smoker_mom = baby.where(\"MS\", are.equal_to(True))\n",
    "nonsmoker_mom = baby.where(\"MS\", are.equal_to(False))\n",
    "print(\"Number of smoker moms = \" + str(smoker_mom.num_rows))\n",
    "print(\"Number of nonsmoker moms = \" + str(nonsmoker_mom.num_rows))"
   ]
  },
  {
   "cell_type": "code",
   "execution_count": 6,
   "metadata": {},
   "outputs": [
    {
     "data": {
      "text/plain": [
       "Ellipsis"
      ]
     },
     "execution_count": 6,
     "metadata": {},
     "output_type": "execute_result"
    }
   ],
   "source": [
    "..."
   ]
  },
  {
   "cell_type": "markdown",
   "metadata": {},
   "source": [
    "**Question 3 (5 points):** Draw histograms of birth weights for babies of smokers and babies of non-smokers. Make sure the horizontal axes are the same. "
   ]
  },
  {
   "cell_type": "code",
   "execution_count": 7,
   "metadata": {},
   "outputs": [
    {
     "data": {
      "image/png": "[encoded data removed]",
      "text/plain": [
       "<matplotlib.figure.Figure at 0x104a886a0>"
      ]
     },
     "metadata": {},
     "output_type": "display_data"
    },
    {
     "data": {
      "image/png": "[encoded data removed]",
      "text/plain": [
       "<matplotlib.figure.Figure at 0x110da37f0>"
      ]
     },
     "metadata": {},
     "output_type": "display_data"
    }
   ],
   "source": [
    "smoker_mom.hist(\"BW\", bins = np.arange(50, 180, 10))\n",
    "nonsmoker_mom.hist(\"BW\", bins = np.arange(50, 180, 10))"
   ]
  },
  {
   "cell_type": "code",
   "execution_count": 8,
   "metadata": {},
   "outputs": [
    {
     "data": {
      "text/plain": [
       "Ellipsis"
      ]
     },
     "execution_count": 8,
     "metadata": {},
     "output_type": "execute_result"
    }
   ],
   "source": [
    "..."
   ]
  },
  {
   "cell_type": "markdown",
   "metadata": {},
   "source": [
    "**Question 4 (5 points):** Calculate the difference between mean birth weights for babies of non-smokers and smokers. Do the same for median birth weights."
   ]
  },
  {
   "cell_type": "code",
   "execution_count": 9,
   "metadata": {},
   "outputs": [
    {
     "name": "stdout",
     "output_type": "stream",
     "text": [
      "diff between means = 9.26614257202\n",
      "diff between medians = 8.0\n"
     ]
    }
   ],
   "source": [
    "diff_between_means = np.mean(nonsmoker_mom.column(\"BW\")) - np.mean(smoker_mom.column(\"BW\"))\n",
    "diff_between_medians = np.median(nonsmoker_mom.column(\"BW\")) - np.median(smoker_mom.column(\"BW\"))\n",
    "print(\"diff between means = \" + str(diff_between_means))\n",
    "print(\"diff between medians = \" + str(diff_between_medians))"
   ]
  },
  {
   "cell_type": "code",
   "execution_count": 10,
   "metadata": {},
   "outputs": [
    {
     "data": {
      "text/plain": [
       "Ellipsis"
      ]
     },
     "execution_count": 10,
     "metadata": {},
     "output_type": "execute_result"
    }
   ],
   "source": [
    "..."
   ]
  },
  {
   "cell_type": "markdown",
   "metadata": {},
   "source": []
  },
  {
   "cell_type": "markdown",
   "metadata": {},
   "source": [
    "### Is there an association between maternal smoking and birth weight or is the difference in means just a statistical fluke?\n",
    "\n",
    "The data suggest that there is an association: among our group of 1174, babies of 459 smokers seem to have on average lower birth weights that babies of 715 non-smokers. On the other hand, one would not expect that the average birth weights of the smoker babies and the non-smoker babies to be ** exactly** the same, even if there was no systematic difference. So the question is whether a between-group difference in mean birth weight of about 9 ounces can be explained by sampling fluctuations or whether it is evidence for an association between smoking and birth weight.\n",
    "\n",
    "** Note: ** These data were the result of an observational study, not a randomized experiment, so we cannot hope to answer the question whether maternal smoking ** causes** lower birth weight.\n",
    "\n",
    "<br>\n",
    "\n",
    "** For sake of argument, let's suppose there is no association.**\n",
    "\n",
    "\n",
    "* \"No association\" means that the conditional distribution of birth weights is the same for babies of smokers and babies of non-smokers. \n",
    "\n",
    "\n",
    "* Therefore we can think of all the birth weights as random draws from the same population. We \"drew\" 120 ounces for baby 1, 113 ouunces for baby 2, 128 ounces for baby 3, etc.\n",
    "\n",
    "\n",
    "* This particular sequence of draws is as likely as any other sequence that has the same weights, just in a different order. \n",
    "\n",
    "\n",
    "* Therefore all the possible pairings between the 1174 birth weights and the 1174 labels (459 \"smoker\" and 715  \"nonsmoker\") are equally likely to occur.\n",
    "\n",
    "\n",
    "* We compute the between-groups difference in mean birth weight for all possible pairings. The distribution of these differences is called the \"permutation distribution\".\n",
    "\n",
    "\n",
    "* We then check where the actually observed difference d_original falls in the permutation distribution. If it is unusually large or unusally small then this can be either due to the luck of the draw or because the \"null hypotheses\" of no association is false.\n",
    "\n",
    "\n",
    "* More specifically, suppose that for a fraction alpha of permutations the absolute value of the between groups difference of means is larger than the absolute value of the actually observed difference. If we reject the null hypotheses of \"no association\", the chance of doing so erroneously is alpha. We can reject the null hypotheses at significance level alpha. \n",
    "\n",
    "\n",
    "* In practice we typically cannot compute the between groups difference for all permutations. Instead we do so for a random sample of permutations. Suppose we draw N permutations and the absolute values of the group differences are |d_1|,...., |d_N|. \n",
    "\n",
    "\n",
    "* If k among those N differences are as large or larger than |d_original| then we can reject the null hypothesis at level (k+1) / (N+1). For example, if |d_original| is larger than |d_1|,..., |d_N|, then k = 0 and we can reject the null hypothesis at significance level 1/(N+1).\n"
   ]
  },
  {
   "cell_type": "markdown",
   "metadata": {},
   "source": [
    "**Question 5 (20 points):** Draw the histograms of between groups differences in mean birth weight for a sample of N = 1000 random pairings between birth weights and labels. (This is an approximation (estimate) for the permutation distribution).\n",
    "Calculate the significance level.\n",
    "\n",
    "Do the same for the between groups difference in median birth weight.\n",
    "\n",
    "(To be clear: you should produce two histograms and calculate two significance levels."
   ]
  },
  {
   "cell_type": "code",
   "execution_count": 11,
   "metadata": {},
   "outputs": [],
   "source": [
    "# pl means \"permuted labels\"\n",
    "\n",
    "num_perm =1000\n",
    "pl_diff_between_means = np.zeros(num_perm)\n",
    "pl_diff_between_medians = np.zeros(num_perm)\n",
    "\n",
    "for i in np.arange(num_perm):\n",
    "    permuted_labels = baby.select(\"MS\").sample(baby.num_rows, with_replacement = False).column(\"MS\")\n",
    "    pl_baby = baby.with_column(\"MS\", permuted_labels)\n",
    "    pl_nonsmoker_mom = pl_baby.where(\"MS\", are.equal_to(False))\n",
    "    pl_smoker_mom = pl_baby.where(\"MS\", are.equal_to(True))\n",
    "    pl_diff_between_means[i] = np.mean(pl_nonsmoker_mom.column(\"BW\")) - \\\n",
    "                               np.mean(pl_smoker_mom.column(\"BW\"))\n",
    "    pl_diff_between_medians[i] = np.median(pl_nonsmoker_mom.column(\"BW\")) - \\\n",
    "                                 np.median(pl_smoker_mom.column(\"BW\"))\n",
    "diff_tab = Table().with_columns(\"PL_diff_between_means\", pl_diff_between_means,\n",
    "                                \"PL_diff_between_medians\", pl_diff_between_medians)\n",
    "abs_diff_tab = Table().with_columns(\"PL_abs_diff_between_means\", abs(pl_diff_between_means),\n",
    "                                    \"PL_abs_diff_between_medians\", abs(pl_diff_between_medians))\n",
    "\n"
   ]
  },
  {
   "cell_type": "code",
   "execution_count": 12,
   "metadata": {},
   "outputs": [
    {
     "name": "stdout",
     "output_type": "stream",
     "text": [
      "Significance level of difference between means = 0.000999000999000999\n",
      "Significance level of difference between medians = 0.000999000999000999\n"
     ]
    },
    {
     "data": {
      "image/png": "[encoded data removed]",
      "text/plain": [
       "<matplotlib.figure.Figure at 0x111629ac8>"
      ]
     },
     "metadata": {},
     "output_type": "display_data"
    },
    {
     "data": {
      "image/png": "[encoded data removed]",
      "text/plain": [
       "<matplotlib.figure.Figure at 0x11149c9e8>"
      ]
     },
     "metadata": {},
     "output_type": "display_data"
    }
   ],
   "source": [
    "# Calculate significance level and draw histograms\n",
    "\n",
    "mean_count = abs_diff_tab.where(\"PL_abs_diff_between_means\", \\\n",
    "                            are.above_or_equal_to(abs(diff_between_means))).num_rows\n",
    "mean_difference_significance_level = (mean_count + 1) / (num_perm + 1)\n",
    "#\n",
    "median_count = abs_diff_tab.where(\"PL_abs_diff_between_medians\", \\\n",
    "                            are.above_or_equal_to(abs(diff_between_medians))).num_rows\n",
    "median_difference_significance_level = (mean_count + 1) / (num_perm + 1)\n",
    "\n",
    "print(\"Significance level of difference between means = \" + str(mean_difference_significance_level))\n",
    "print(\"Significance level of difference between medians = \" + str(median_difference_significance_level))\n",
    "\n",
    "diff_tab.hist(\"PL_diff_between_means\")\n",
    "diff_tab.hist(\"PL_diff_between_medians\")"
   ]
  },
  {
   "cell_type": "code",
   "execution_count": 13,
   "metadata": {},
   "outputs": [
    {
     "data": {
      "text/plain": [
       "Ellipsis"
      ]
     },
     "execution_count": 13,
     "metadata": {},
     "output_type": "execute_result"
    }
   ],
   "source": [
    "..."
   ]
  },
  {
   "cell_type": "markdown",
   "metadata": {},
   "source": [
    "** Question 6 (10 points):** What do you think: Is the observed difference of 9 ounces just a statistical fluke, or is it \"real\"?"
   ]
  },
  {
   "cell_type": "markdown",
   "metadata": {},
   "source": [
    "Looks like it's real"
   ]
  },
  {
   "cell_type": "code",
   "execution_count": 17,
   "metadata": {},
   "outputs": [
    {
     "data": {
      "text/plain": [
       "Ellipsis"
      ]
     },
     "execution_count": 17,
     "metadata": {},
     "output_type": "execute_result"
    }
   ],
   "source": [
    "..."
   ]
  },
  {
   "cell_type": "markdown",
   "metadata": {},
   "source": [
    "### Is there an association between birth weight and gestational days ?\n",
    "\n",
    "There are many ways to measure association between numerical variables. We will use a particularly simple one, the \"quadrant correlation\". Let bw_median be the median birth weight and gd_median be the median number of gestational days.\n",
    "\n",
    "Divide the babies into 4 subsets:\n",
    "\n",
    "* n_upper_upper is the number of babies with BW >= bw_median and GD >= gd_median\n",
    "\n",
    "* n_lower_lower is the number of babies with BW < bw_median and GD < gd_median\n",
    "\n",
    "* n_upper_lower is the number of babies with BW >= bw_median and GD < gd_median\n",
    "\n",
    "* n_lower_upper is the number of babies with BW < bw_median and GD >= gd_median\n",
    "\n",
    "Then the quadrant correlaton between birth weight and gestational days is defined as\n",
    "\n",
    "qc = ((n_upper_upper + n_lower_lower) - (n_upper_lower + n_lower_upper)) / baby_num_rows\n",
    "\n",
    "<br>\n",
    "\n",
    "It is easy to see that \n",
    "\n",
    "* The quadrant correlation between two numerical features - call them feature_1 and feature_2  -\n",
    "is between -1 and 1. \n",
    "\n",
    "* The quadrant correlation is positive if large values of feature_1 go with large values of feature_2 and small values of feature_1 go with small values of feature_2. \n",
    "\n",
    "* The quadrant correlation is negative if large values of feature_1 go with small values of feature_2 and small values of feature_1 go with large values of feature_2. \n"
   ]
  },
  {
   "cell_type": "markdown",
   "metadata": {},
   "source": [
    "** Question 7 (5 points):** Draw a scatter plot of BW (on the vertical axis) versus GD (on the horizontal axis).\n",
    "    \n",
    "** Note:** Besides the feature labels, the \"scatter\" method takes additional arguments that control the width and height of the plot and the size of the dots. Try width = 10, height = 5, s = 10."
   ]
  },
  {
   "cell_type": "code",
   "execution_count": 14,
   "metadata": {},
   "outputs": [
    {
     "data": {
      "image/png": "[encoded data removed]",
      "text/plain": [
       "<matplotlib.figure.Figure at 0x11496bc18>"
      ]
     },
     "metadata": {},
     "output_type": "display_data"
    }
   ],
   "source": [
    "baby.scatter(\"GD\", \"BW\", width = 10, height = 5, s = 10)"
   ]
  },
  {
   "cell_type": "code",
   "execution_count": 15,
   "metadata": {},
   "outputs": [
    {
     "data": {
      "text/plain": [
       "Ellipsis"
      ]
     },
     "execution_count": 15,
     "metadata": {},
     "output_type": "execute_result"
    }
   ],
   "source": [
    "..."
   ]
  },
  {
   "cell_type": "markdown",
   "metadata": {},
   "source": [
    "** Question 8 (10 points):** Does it look like there is a positive association, or a negative association, or no association?"
   ]
  },
  {
   "cell_type": "markdown",
   "metadata": {},
   "source": [
    "It looks like there is a positive association."
   ]
  },
  {
   "cell_type": "code",
   "execution_count": 16,
   "metadata": {},
   "outputs": [
    {
     "data": {
      "text/plain": [
       "Ellipsis"
      ]
     },
     "execution_count": 16,
     "metadata": {},
     "output_type": "execute_result"
    }
   ],
   "source": [
    "..."
   ]
  },
  {
   "cell_type": "markdown",
   "metadata": {},
   "source": [
    "** Question 9 (20 points):** Write a function\n",
    "\n",
    "quadrant_correlation(table, feature_1, feature2)\n",
    "\n",
    "such that  \n",
    "\n",
    "quadrant_correlation(baby, \"BW\", \"GD\") computers the quadrant correlation between BW and GD\n",
    "\n",
    "Calculate and print the quadrant correlation between GD and BW"
   ]
  },
  {
   "cell_type": "code",
   "execution_count": 20,
   "metadata": {},
   "outputs": [
    {
     "data": {
      "text/plain": [
       "0.29131175468483816"
      ]
     },
     "execution_count": 20,
     "metadata": {},
     "output_type": "execute_result"
    }
   ],
   "source": [
    "def quadrant_correlation(table, var1, var2):\n",
    "    median1 = np.median(table.column(var1))\n",
    "    median2 = np.median(table.column(var2))\n",
    "    n_right_upper = table.where(var1, are.above_or_equal_to(median1)) \\\n",
    "                         .where(var2, are.above_or_equal_to(median2)).num_rows\n",
    "    n_right_lower = table.where(var1, are.above_or_equal_to(median1)) \\\n",
    "                         .where(var2, are.below(median2)).num_rows\n",
    "    n_left_upper = table.where(var1, are.below(median1)) \\\n",
    "                         .where(var2, are.above_or_equal_to(median2)).num_rows\n",
    "    n_left_lower = table.where(var1, are.below(median1)) \\\n",
    "                         .where(var2, are.below(median2)).num_rows\n",
    "    quadrant_correlation = ((n_right_upper + n_left_lower) - \n",
    "                           (n_right_lower + n_left_upper)) / table.num_rows\n",
    "    return(quadrant_correlation)\n",
    "\n",
    "quadrant_correlation(baby, \"GD\", \"BW\")"
   ]
  },
  {
   "cell_type": "code",
   "execution_count": 21,
   "metadata": {},
   "outputs": [
    {
     "data": {
      "text/plain": [
       "Ellipsis"
      ]
     },
     "execution_count": 21,
     "metadata": {},
     "output_type": "execute_result"
    }
   ],
   "source": [
    "..."
   ]
  },
  {
   "cell_type": "markdown",
   "metadata": {},
   "source": [
    "Now the same question arises as above: Is a quadrant correlation of about 0.3 indicative of an association between BW and GD, or is it just a statistical fluke?\n",
    "\n",
    "**Question 10 (20 points):** Write code to perform a permutation test of the null hypotheses \"no association\". "
   ]
  },
  {
   "cell_type": "code",
   "execution_count": 24,
   "metadata": {},
   "outputs": [],
   "source": [
    "table = baby\n",
    "feature_1 = \"GD\"\n",
    "feature_2 = \"BW\"\n",
    "num_perm = 1000\n",
    "\n",
    "qc_original = quadrant_correlation(table, feature_1, feature_2)\n",
    "\n",
    "qc_permuted = np.zeros(num_perm)\n",
    "permuted_table = table\n",
    "\n",
    "for i in np.arange(num_perm):\n",
    "    permuted_feature_2 = table.select(feature_2).sample(table.num_rows, with_replacement = False)\\\n",
    "                        .column(feature_2)\n",
    "    permuted_table = permuted_table.with_column(feature_2, permuted_feature_2)\n",
    "    qc_permuted[i] = quadrant_correlation(permuted_table, feature_1, feature_2)\n",
    "\n"
   ]
  },
  {
   "cell_type": "code",
   "execution_count": null,
   "metadata": {
    "collapsed": true
   },
   "outputs": [],
   "source": [
    "..."
   ]
  },
  {
   "cell_type": "markdown",
   "metadata": {},
   "source": [
    "** Question 11 (10 points):** Draw a histogram of the permutation distribution based on a sample of N = 1,000 permutations."
   ]
  },
  {
   "cell_type": "code",
   "execution_count": 25,
   "metadata": {},
   "outputs": [
    {
     "data": {
      "image/png": "[encoded data removed]",
      "text/plain": [
       "<matplotlib.figure.Figure at 0x10469b160>"
      ]
     },
     "metadata": {},
     "output_type": "display_data"
    }
   ],
   "source": [
    "Table().with_column(\"qc_permuted\", qc_permuted).hist(\"qc_permuted\")"
   ]
  },
  {
   "cell_type": "code",
   "execution_count": null,
   "metadata": {
    "collapsed": true
   },
   "outputs": [],
   "source": [
    "..."
   ]
  },
  {
   "cell_type": "markdown",
   "metadata": {},
   "source": [
    "** Question 12 (10 points) :** Calculate and print the significance evel of the test."
   ]
  },
  {
   "cell_type": "code",
   "execution_count": 26,
   "metadata": {},
   "outputs": [
    {
     "name": "stdout",
     "output_type": "stream",
     "text": [
      "significance level0.000999000999000999\n"
     ]
    }
   ],
   "source": [
    "# Calculate significance level\n",
    "\n",
    "abs_qc_permuted = Table().with_columns(\"abs_qc_permuted\", np.abs(qc_permuted))\n",
    "count = abs_qc_permuted.where(\"abs_qc_permuted\", are.above_or_equal_to(abs(qc_original))).num_rows\n",
    "significance_level = (count + 1) / (num_perm + 1)\n",
    "\n",
    "print(\"significance level\" + str(significance_level))"
   ]
  },
  {
   "cell_type": "markdown",
   "metadata": {},
   "source": [
    "** Question 13 (10 points):** What do you think: Is the observed quadrant correlation of about 0.3 just a statistical fluke, or is there really an association between BW and GD?"
   ]
  },
  {
   "cell_type": "markdown",
   "metadata": {},
   "source": [
    "Looks like there really is an association."
   ]
  },
  {
   "cell_type": "code",
   "execution_count": 27,
   "metadata": {},
   "outputs": [
    {
     "data": {
      "text/plain": [
       "Ellipsis"
      ]
     },
     "execution_count": 27,
     "metadata": {},
     "output_type": "execute_result"
    }
   ],
   "source": [
    "..."
   ]
  },
  {
   "cell_type": "code",
   "execution_count": null,
   "metadata": {
    "collapsed": true
   },
   "outputs": [],
   "source": []
  }
 ],
 "metadata": {
  "kernelspec": {
   "display_name": "Python 3",
   "language": "python",
   "name": "python3"
  },
  "language_info": {
   "codemirror_mode": {
    "name": "ipython",
    "version": 3
   },
   "file_extension": ".py",
   "mimetype": "text/x-python",
   "name": "python",
   "nbconvert_exporter": "python",
   "pygments_lexer": "ipython3",
   "version": "3.6.1"
  },
  "varInspector": {
   "cols": {
    "lenName": 16,
    "lenType": 16,
    "lenVar": 40
   },
   "kernels_config": {
    "python": {
     "delete_cmd_postfix": "",
     "delete_cmd_prefix": "del ",
     "library": "var_list.py",
     "varRefreshCmd": "print(var_dic_list())"
    },
    "r": {
     "delete_cmd_postfix": ") ",
     "delete_cmd_prefix": "rm(",
     "library": "var_list.r",
     "varRefreshCmd": "cat(var_dic_list()) "
    }
   },
   "types_to_exclude": [
    "module",
    "function",
    "builtin_function_or_method",
    "instance",
    "_Feature"
   ],
   "window_display": false
  }
 },
 "nbformat": 4,
 "nbformat_minor": 1
}
